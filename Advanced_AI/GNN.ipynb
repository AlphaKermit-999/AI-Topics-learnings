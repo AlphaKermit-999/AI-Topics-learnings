{
  "nbformat": 4,
  "nbformat_minor": 0,
  "metadata": {
    "colab": {
      "provenance": [],
      "authorship_tag": "ABX9TyPFG3RDz3qhUgSpPO8viakS",
      "include_colab_link": true
    },
    "kernelspec": {
      "name": "python3",
      "display_name": "Python 3"
    },
    "language_info": {
      "name": "python"
    }
  },
  "cells": [
    {
      "cell_type": "markdown",
      "metadata": {
        "id": "view-in-github",
        "colab_type": "text"
      },
      "source": [
        "<a href=\"https://colab.research.google.com/github/AlphaKermit-999/AI-Topics-learnings/blob/main/Advanced_AI/GNN.ipynb\" target=\"_parent\"><img src=\"https://colab.research.google.com/assets/colab-badge.svg\" alt=\"Open In Colab\"/></a>"
      ]
    },
    {
      "cell_type": "code",
      "execution_count": 237,
      "metadata": {
        "id": "cImRnkMKfY12"
      },
      "outputs": [],
      "source": [
        "import networkx as nx"
      ]
    },
    {
      "cell_type": "code",
      "source": [
        "num_of_nodes = 10\n",
        "probability = 0.5\n",
        "graph = nx.erdos_renyi_graph(num_of_nodes, probability, seed=5) # generating random graph\n"
      ],
      "metadata": {
        "id": "OPz51mGXfrNu"
      },
      "execution_count": 238,
      "outputs": []
    },
    {
      "cell_type": "code",
      "source": [
        "graph.number_of_edges()"
      ],
      "metadata": {
        "colab": {
          "base_uri": "https://localhost:8080/"
        },
        "id": "WlJsruG-gQvj",
        "outputId": "100f6fec-8860-4606-a70e-f6a58a0a880a"
      },
      "execution_count": 239,
      "outputs": [
        {
          "output_type": "execute_result",
          "data": {
            "text/plain": [
              "20"
            ]
          },
          "metadata": {},
          "execution_count": 239
        }
      ]
    },
    {
      "cell_type": "code",
      "source": [
        "graph.number_of_nodes()"
      ],
      "metadata": {
        "colab": {
          "base_uri": "https://localhost:8080/"
        },
        "id": "kZKtIu6BgSvx",
        "outputId": "3f4f35af-af7b-4e7a-ee13-cefff7bbd411"
      },
      "execution_count": 240,
      "outputs": [
        {
          "output_type": "execute_result",
          "data": {
            "text/plain": [
              "10"
            ]
          },
          "metadata": {},
          "execution_count": 240
        }
      ]
    },
    {
      "cell_type": "code",
      "source": [
        "# G = nx.DiGraph() # undirected graph\n",
        "# G.add_edge(\"A\", \"B\", weight=5)\n",
        "# G.add_edge(\"A\", \"C\", weight=2)\n",
        "# G.add_edge(\"B\", \"C\", weight=2)\n",
        "# G.add_edge(\"D\", \"C\", weight=5)\n",
        "\n",
        "# G.number_of_edges()\n",
        "# G.number_of_nodes()"
      ],
      "metadata": {
        "id": "vKe5vHwygWx3"
      },
      "execution_count": 241,
      "outputs": []
    },
    {
      "cell_type": "code",
      "source": [
        "import numpy as np\n",
        "node_features = np.random.rand(num_of_nodes, num_of_nodes)  # 10 features per node\n",
        "labels = np.random.randint(0, 2, size=num_of_nodes)  # binary class"
      ],
      "metadata": {
        "id": "j8HLBKxInsVN"
      },
      "execution_count": 242,
      "outputs": []
    },
    {
      "cell_type": "code",
      "source": [
        "np.random.randint(0, 2, size=10)"
      ],
      "metadata": {
        "colab": {
          "base_uri": "https://localhost:8080/"
        },
        "id": "vFDlS2QWn6mi",
        "outputId": "29a059e7-8fb0-4cd2-8b4c-5b5a1316758b"
      },
      "execution_count": 243,
      "outputs": [
        {
          "output_type": "execute_result",
          "data": {
            "text/plain": [
              "array([0, 1, 1, 0, 1, 1, 1, 1, 1, 0])"
            ]
          },
          "metadata": {},
          "execution_count": 243
        }
      ]
    },
    {
      "cell_type": "code",
      "source": [
        "np.random.rand(num_of_nodes, num_of_nodes).shape"
      ],
      "metadata": {
        "colab": {
          "base_uri": "https://localhost:8080/"
        },
        "id": "zHUJM8b8oR_r",
        "outputId": "0e4b9283-7b84-47cc-8997-3b98fe05f8f1"
      },
      "execution_count": 244,
      "outputs": [
        {
          "output_type": "execute_result",
          "data": {
            "text/plain": [
              "(10, 10)"
            ]
          },
          "metadata": {},
          "execution_count": 244
        }
      ]
    },
    {
      "cell_type": "markdown",
      "source": [
        "Adjacent Matrix"
      ],
      "metadata": {
        "id": "rH0C5r7vo1VO"
      }
    },
    {
      "cell_type": "code",
      "source": [
        "adj_matrix = nx.adjacency_matrix(graph).todense()\n",
        "adj_matrix"
      ],
      "metadata": {
        "colab": {
          "base_uri": "https://localhost:8080/"
        },
        "id": "QP_3Mdnco4d-",
        "outputId": "5e997c03-cfa5-4460-955e-92970d804e6a"
      },
      "execution_count": 245,
      "outputs": [
        {
          "output_type": "execute_result",
          "data": {
            "text/plain": [
              "array([[0, 0, 0, 0, 0, 0, 0, 1, 1, 0],\n",
              "       [0, 0, 0, 0, 1, 1, 1, 0, 0, 1],\n",
              "       [0, 0, 0, 1, 1, 0, 0, 1, 0, 1],\n",
              "       [0, 0, 1, 0, 0, 1, 1, 0, 1, 1],\n",
              "       [0, 1, 1, 0, 0, 0, 0, 1, 0, 0],\n",
              "       [0, 1, 0, 1, 0, 0, 0, 1, 0, 0],\n",
              "       [0, 1, 0, 1, 0, 0, 0, 0, 0, 1],\n",
              "       [1, 0, 1, 0, 1, 1, 0, 0, 1, 1],\n",
              "       [1, 0, 0, 1, 0, 0, 0, 1, 0, 1],\n",
              "       [0, 1, 1, 1, 0, 0, 1, 1, 1, 0]])"
            ]
          },
          "metadata": {},
          "execution_count": 245
        }
      ]
    },
    {
      "cell_type": "code",
      "source": [
        "adj_matrix = adj_matrix + np.eye(num_of_nodes)"
      ],
      "metadata": {
        "id": "VLQnq1V6o9q7"
      },
      "execution_count": 246,
      "outputs": []
    },
    {
      "cell_type": "code",
      "source": [
        "# degrees\n",
        "degree = np.array(adj_matrix.sum(axis=1))\n",
        "degree_inv_sqrt = np.power(degree, -0.5)\n",
        "degree_inv_sqrt_mat = np.diag(degree_inv_sqrt)\n",
        "degree_inv_sqrt_mat.shape"
      ],
      "metadata": {
        "colab": {
          "base_uri": "https://localhost:8080/"
        },
        "id": "H-rNfzh9pnQK",
        "outputId": "a1424cee-b763-4669-a920-cd94a5b9ce0d"
      },
      "execution_count": 247,
      "outputs": [
        {
          "output_type": "execute_result",
          "data": {
            "text/plain": [
              "(10, 10)"
            ]
          },
          "metadata": {},
          "execution_count": 247
        }
      ]
    },
    {
      "cell_type": "code",
      "source": [
        "adj_matrix_normalized = degree_inv_sqrt_mat@adj_matrix@degree_inv_sqrt_mat"
      ],
      "metadata": {
        "id": "mMgLvObwrryV"
      },
      "execution_count": 248,
      "outputs": []
    },
    {
      "cell_type": "code",
      "source": [
        "adj_matrix_normalized"
      ],
      "metadata": {
        "colab": {
          "base_uri": "https://localhost:8080/"
        },
        "id": "kAUCNyjJsKyn",
        "outputId": "0b478219-1517-497c-9532-41b7c267c5f3"
      },
      "execution_count": 249,
      "outputs": [
        {
          "output_type": "execute_result",
          "data": {
            "text/plain": [
              "array([[0.33333333, 0.        , 0.        , 0.        , 0.        ,\n",
              "        0.        , 0.        , 0.21821789, 0.25819889, 0.        ],\n",
              "       [0.        , 0.2       , 0.        , 0.        , 0.2236068 ,\n",
              "        0.2236068 , 0.2236068 , 0.        , 0.        , 0.16903085],\n",
              "       [0.        , 0.        , 0.2       , 0.18257419, 0.2236068 ,\n",
              "        0.        , 0.        , 0.16903085, 0.        , 0.16903085],\n",
              "       [0.        , 0.        , 0.18257419, 0.16666667, 0.        ,\n",
              "        0.20412415, 0.20412415, 0.        , 0.18257419, 0.15430335],\n",
              "       [0.        , 0.2236068 , 0.2236068 , 0.        , 0.25      ,\n",
              "        0.        , 0.        , 0.18898224, 0.        , 0.        ],\n",
              "       [0.        , 0.2236068 , 0.        , 0.20412415, 0.        ,\n",
              "        0.25      , 0.        , 0.18898224, 0.        , 0.        ],\n",
              "       [0.        , 0.2236068 , 0.        , 0.20412415, 0.        ,\n",
              "        0.        , 0.25      , 0.        , 0.        , 0.18898224],\n",
              "       [0.21821789, 0.        , 0.16903085, 0.        , 0.18898224,\n",
              "        0.18898224, 0.        , 0.14285714, 0.16903085, 0.14285714],\n",
              "       [0.25819889, 0.        , 0.        , 0.18257419, 0.        ,\n",
              "        0.        , 0.        , 0.16903085, 0.2       , 0.16903085],\n",
              "       [0.        , 0.16903085, 0.16903085, 0.15430335, 0.        ,\n",
              "        0.        , 0.18898224, 0.14285714, 0.16903085, 0.14285714]])"
            ]
          },
          "metadata": {},
          "execution_count": 249
        }
      ]
    },
    {
      "cell_type": "code",
      "source": [
        "# train, test = train_test_split(df, test_size=0.2, random_state=5)"
      ],
      "metadata": {
        "id": "A2-e3Nsosi8c"
      },
      "execution_count": 250,
      "outputs": []
    },
    {
      "cell_type": "code",
      "source": [
        "from sklearn.model_selection import train_test_split\n",
        "train, test = train_test_split(range(num_of_nodes), test_size=0.2, random_state=5)"
      ],
      "metadata": {
        "id": "WeIW0GtPsSe7"
      },
      "execution_count": 251,
      "outputs": []
    },
    {
      "cell_type": "code",
      "source": [
        "train = np.isin(range(num_of_nodes), train) #boolean array"
      ],
      "metadata": {
        "id": "Y_ZEaROIssxn"
      },
      "execution_count": 252,
      "outputs": []
    },
    {
      "cell_type": "code",
      "source": [
        "test = ~train"
      ],
      "metadata": {
        "id": "4X3tn4ras3Dp"
      },
      "execution_count": 253,
      "outputs": []
    },
    {
      "cell_type": "code",
      "source": [
        "import tensorflow as tf\n",
        "node_features = tf.convert_to_tensor(node_features, dtype=tf.float32)\n",
        "adj_matrix_normalized = tf.convert_to_tensor(adj_matrix_normalized, dtype=tf.float32)\n",
        "labels = tf.convert_to_tensor(labels, dtype=tf.float32)"
      ],
      "metadata": {
        "id": "bsijU9XXthI9"
      },
      "execution_count": 254,
      "outputs": []
    },
    {
      "cell_type": "markdown",
      "source": [
        "# GraphSage --- graph sample and aggregation\n",
        "Sampling node neighbors\n",
        "Aggregating node features\n",
        "\n",
        "Inductive: new/unseen"
      ],
      "metadata": {
        "id": "h1xAROsHuCfo"
      }
    },
    {
      "cell_type": "code",
      "source": [
        "class GraphSagelayer(tf.keras.layers.Layer):\n",
        "    def __init__(self, output_dim, activation=None, **kwargs):\n",
        "        super(GraphSagelayer, self).__init__(**kwargs)\n",
        "        self.output_dim = output_dim\n",
        "        self.activation = tf.keras.activations.get(activation) # Get activation function from string\n",
        "\n",
        "    def build(self, input_shape):\n",
        "      self.weight = self.add_weight(shape=(input_shape[0][-1], self.output_dim),\n",
        "                                  initializer = \"glorot_uniform\",\n",
        "                                  trainable = True)\n",
        "\n",
        "    def call(self, inputs):\n",
        "      node_features, adj_matrix = inputs\n",
        "\n",
        "      aggregated_features = tf.matmul(adj_matrix, node_features)\n",
        "      output = tf.matmul(aggregated_features, self.weight)\n",
        "\n",
        "      if self.activation is not None:\n",
        "        output = self.activation(output)\n",
        "\n",
        "      return output"
      ],
      "metadata": {
        "id": "agcYvMi9tmSa"
      },
      "execution_count": 255,
      "outputs": []
    },
    {
      "cell_type": "code",
      "source": [
        "def create_graphsage_model(input_dim, hidden_dim, output_dim):\n",
        "  features_inputs = tf.keras.Input(shape=(input_dim,))\n",
        "  adjacency_input = tf.keras.Input(shape=(num_of_nodes,))\n",
        "  h1 = GraphSagelayer(hidden_dim, activation=tf.nn.relu)([features_inputs, adjacency_input])\n",
        "  h2 = GraphSagelayer(hidden_dim, activation=tf.nn.relu)([h1, adjacency_input])\n",
        "  h3 = GraphSagelayer(hidden_dim, activation=tf.nn.relu)([h2, adjacency_input])\n",
        "  logits = GraphSagelayer(1)([h3, adjacency_input]) # Changed output_dim to 1\n",
        "  model = tf.keras.Model(inputs=[features_inputs, adjacency_input], outputs=logits)\n",
        "\n",
        "  return model"
      ],
      "metadata": {
        "id": "kqCKKpHpuAsp"
      },
      "execution_count": 256,
      "outputs": []
    },
    {
      "cell_type": "code",
      "source": [
        "model = create_graphsage_model(input_dim=num_of_nodes, hidden_dim=16, output_dim=1)"
      ],
      "metadata": {
        "id": "Qmi1W_o1xdku"
      },
      "execution_count": 257,
      "outputs": []
    },
    {
      "cell_type": "code",
      "source": [
        "model.compile(optimizer=\"adam\", loss=tf.keras.losses.BinaryCrossentropy(from_logits=True), metrics=[\"accuracy\"])"
      ],
      "metadata": {
        "id": "msjg4vkGxPKs"
      },
      "execution_count": 258,
      "outputs": []
    },
    {
      "cell_type": "code",
      "source": [
        "# model.fit([node_features,adj_matrix_normalized], labels, epochs=100, batch_size=32, validation_split=0.2)"
      ],
      "metadata": {
        "id": "cxr8t6tJywyJ"
      },
      "execution_count": 259,
      "outputs": []
    },
    {
      "cell_type": "code",
      "source": [
        "optimizer = tf.keras.optimizers.Adam(learning_rate=0.01)\n",
        "\n",
        "@tf.function\n",
        "def train_step_graphsage(node_indices_batch, node_features, adj_matrix_normalised, labels, model, optimizer):\n",
        "    with tf.GradientTape() as tape:\n",
        "        # Pass the full graph data to the model\n",
        "        logits = model([node_features, adj_matrix_normalised], training=True)\n",
        "\n",
        "        # Select the logits for the nodes in the current batch\n",
        "        batch_logits = tf.gather(logits, node_indices_batch)\n",
        "\n",
        "        # Select the corresponding labels for the nodes in the current batch\n",
        "        batch_labels = tf.gather(labels, node_indices_batch)\n",
        "\n",
        "        # Calculate the loss for the batch\n",
        "        loss = tf.keras.losses.BinaryCrossentropy(from_logits=True)(batch_labels, batch_logits)\n",
        "\n",
        "    # Calculate gradients\n",
        "    gradients = tape.gradient(loss, model.trainable_variables)\n",
        "\n",
        "    # Apply gradients\n",
        "    optimizer.apply_gradients(zip(gradients, model.trainable_variables))\n",
        "\n",
        "    return loss"
      ],
      "metadata": {
        "id": "eibOWCK8y6sD"
      },
      "execution_count": 260,
      "outputs": []
    },
    {
      "cell_type": "markdown",
      "source": [
        "#Train the model\n",
        "\n",
        "Subtask:\n",
        "Use the custom training loop to iterate over the data in batches, updating the model's weights in each step.\n",
        "\n",
        "Reasoning: Implement the custom training loop by iterating through epochs and batches, calling the defined train_step_graphsage function for each batch."
      ],
      "metadata": {
        "id": "J_rHu6Gv1HWN"
      }
    },
    {
      "cell_type": "code",
      "source": [
        "epochs = 100\n",
        "batch_size = 8 # Example batch size\n",
        "\n",
        "# Create a dataset from node indices for batching\n",
        "dataset = tf.data.Dataset.from_tensor_slices(range(num_of_nodes)).batch(batch_size)\n",
        "\n",
        "for epoch in range(epochs):\n",
        "    epoch_loss = 0\n",
        "    num_batches = 0\n",
        "    for batch_indices in dataset:\n",
        "        loss = train_step_graphsage(batch_indices, node_features, adj_matrix_normalized, labels, model, optimizer)\n",
        "        epoch_loss += loss.numpy()\n",
        "        num_batches += 1\n",
        "\n",
        "    avg_epoch_loss = epoch_loss / num_batches\n",
        "    print(f\"Epoch {epoch+1}/{epochs}, Loss: {avg_epoch_loss:.4f}\")"
      ],
      "metadata": {
        "colab": {
          "base_uri": "https://localhost:8080/"
        },
        "id": "a8B2DIrY1BS0",
        "outputId": "9f203aa1-28c7-44b3-879a-6c3246df59d5"
      },
      "execution_count": 261,
      "outputs": [
        {
          "output_type": "stream",
          "name": "stdout",
          "text": [
            "Epoch 1/100, Loss: 0.6545\n",
            "Epoch 2/100, Loss: 0.6169\n",
            "Epoch 3/100, Loss: 0.5801\n",
            "Epoch 4/100, Loss: 0.5400\n",
            "Epoch 5/100, Loss: 0.5046\n",
            "Epoch 6/100, Loss: 0.4802\n",
            "Epoch 7/100, Loss: 0.4682\n",
            "Epoch 8/100, Loss: 0.4675\n",
            "Epoch 9/100, Loss: 0.4733\n",
            "Epoch 10/100, Loss: 0.4801\n",
            "Epoch 11/100, Loss: 0.4845\n",
            "Epoch 12/100, Loss: 0.4857\n",
            "Epoch 13/100, Loss: 0.4847\n",
            "Epoch 14/100, Loss: 0.4827\n",
            "Epoch 15/100, Loss: 0.4807\n",
            "Epoch 16/100, Loss: 0.4791\n",
            "Epoch 17/100, Loss: 0.4781\n",
            "Epoch 18/100, Loss: 0.4775\n",
            "Epoch 19/100, Loss: 0.4772\n",
            "Epoch 20/100, Loss: 0.4769\n",
            "Epoch 21/100, Loss: 0.4765\n",
            "Epoch 22/100, Loss: 0.4761\n",
            "Epoch 23/100, Loss: 0.4757\n",
            "Epoch 24/100, Loss: 0.4752\n",
            "Epoch 25/100, Loss: 0.4749\n",
            "Epoch 26/100, Loss: 0.4747\n",
            "Epoch 27/100, Loss: 0.4746\n",
            "Epoch 28/100, Loss: 0.4746\n",
            "Epoch 29/100, Loss: 0.4748\n",
            "Epoch 30/100, Loss: 0.4750\n",
            "Epoch 31/100, Loss: 0.4752\n",
            "Epoch 32/100, Loss: 0.4754\n",
            "Epoch 33/100, Loss: 0.4755\n",
            "Epoch 34/100, Loss: 0.4756\n",
            "Epoch 35/100, Loss: 0.4757\n",
            "Epoch 36/100, Loss: 0.4757\n",
            "Epoch 37/100, Loss: 0.4757\n",
            "Epoch 38/100, Loss: 0.4757\n",
            "Epoch 39/100, Loss: 0.4756\n",
            "Epoch 40/100, Loss: 0.4756\n",
            "Epoch 41/100, Loss: 0.4755\n",
            "Epoch 42/100, Loss: 0.4755\n",
            "Epoch 43/100, Loss: 0.4754\n",
            "Epoch 44/100, Loss: 0.4753\n",
            "Epoch 45/100, Loss: 0.4753\n",
            "Epoch 46/100, Loss: 0.4753\n",
            "Epoch 47/100, Loss: 0.4753\n",
            "Epoch 48/100, Loss: 0.4752\n",
            "Epoch 49/100, Loss: 0.4752\n",
            "Epoch 50/100, Loss: 0.4753\n",
            "Epoch 51/100, Loss: 0.4753\n",
            "Epoch 52/100, Loss: 0.4753\n",
            "Epoch 53/100, Loss: 0.4753\n",
            "Epoch 54/100, Loss: 0.4753\n",
            "Epoch 55/100, Loss: 0.4753\n",
            "Epoch 56/100, Loss: 0.4753\n",
            "Epoch 57/100, Loss: 0.4753\n",
            "Epoch 58/100, Loss: 0.4753\n",
            "Epoch 59/100, Loss: 0.4753\n",
            "Epoch 60/100, Loss: 0.4753\n",
            "Epoch 61/100, Loss: 0.4753\n",
            "Epoch 62/100, Loss: 0.4753\n",
            "Epoch 63/100, Loss: 0.4753\n",
            "Epoch 64/100, Loss: 0.4753\n",
            "Epoch 65/100, Loss: 0.4753\n",
            "Epoch 66/100, Loss: 0.4753\n",
            "Epoch 67/100, Loss: 0.4753\n",
            "Epoch 68/100, Loss: 0.4753\n",
            "Epoch 69/100, Loss: 0.4753\n",
            "Epoch 70/100, Loss: 0.4753\n",
            "Epoch 71/100, Loss: 0.4753\n",
            "Epoch 72/100, Loss: 0.4752\n",
            "Epoch 73/100, Loss: 0.4752\n",
            "Epoch 74/100, Loss: 0.4752\n",
            "Epoch 75/100, Loss: 0.4752\n",
            "Epoch 76/100, Loss: 0.4752\n",
            "Epoch 77/100, Loss: 0.4752\n",
            "Epoch 78/100, Loss: 0.4752\n",
            "Epoch 79/100, Loss: 0.4752\n",
            "Epoch 80/100, Loss: 0.4752\n",
            "Epoch 81/100, Loss: 0.4752\n",
            "Epoch 82/100, Loss: 0.4752\n",
            "Epoch 83/100, Loss: 0.4752\n",
            "Epoch 84/100, Loss: 0.4752\n",
            "Epoch 85/100, Loss: 0.4752\n",
            "Epoch 86/100, Loss: 0.4752\n",
            "Epoch 87/100, Loss: 0.4752\n",
            "Epoch 88/100, Loss: 0.4752\n",
            "Epoch 89/100, Loss: 0.4752\n",
            "Epoch 90/100, Loss: 0.4752\n",
            "Epoch 91/100, Loss: 0.4752\n",
            "Epoch 92/100, Loss: 0.4752\n",
            "Epoch 93/100, Loss: 0.4752\n",
            "Epoch 94/100, Loss: 0.4752\n",
            "Epoch 95/100, Loss: 0.4752\n",
            "Epoch 96/100, Loss: 0.4752\n",
            "Epoch 97/100, Loss: 0.4752\n",
            "Epoch 98/100, Loss: 0.4752\n",
            "Epoch 99/100, Loss: 0.4752\n",
            "Epoch 100/100, Loss: 0.4752\n"
          ]
        }
      ]
    },
    {
      "cell_type": "markdown",
      "source": [
        "#Evaluate the model\n",
        "Subtask:\n",
        "After training, evaluate the model's performance on the test set.\n",
        "\n",
        "Reasoning: Evaluate the trained model on the test set by making predictions, applying a threshold to get binary labels, and calculating the accuracy."
      ],
      "metadata": {
        "id": "wYY1eXMW1TlU"
      }
    },
    {
      "cell_type": "code",
      "source": [
        "# Make predictions on the full graph data\n",
        "predictions = model([node_features, adj_matrix_normalized], training=False)\n",
        "\n",
        "# Apply sigmoid to get probabilities\n",
        "probabilities = tf.sigmoid(predictions)\n",
        "\n",
        "# Apply a threshold to get binary predictions\n",
        "predicted_labels = tf.cast(probabilities > 0.5, dtype=tf.float32)\n",
        "\n",
        "# Select predictions and true labels for the test set\n",
        "test_predicted_labels = tf.gather(predicted_labels, tf.where(test)[:, 0])\n",
        "test_true_labels = tf.gather(labels, tf.where(test)[:, 0])\n",
        "\n",
        "# Calculate accuracy on the test set\n",
        "accuracy = tf.reduce_mean(tf.cast(tf.equal(test_predicted_labels, test_true_labels), dtype=tf.float32))\n",
        "\n",
        "# Print the test accuracy\n",
        "print(f\"Test Accuracy: {accuracy.numpy():.4f}\")"
      ],
      "metadata": {
        "colab": {
          "base_uri": "https://localhost:8080/"
        },
        "id": "i-mRO2J61MK_",
        "outputId": "53ca65f0-020c-4592-c3f7-43dd155edeb0"
      },
      "execution_count": 262,
      "outputs": [
        {
          "output_type": "stream",
          "name": "stdout",
          "text": [
            "Test Accuracy: 1.0000\n"
          ]
        }
      ]
    },
    {
      "cell_type": "code",
      "source": [
        "predictions = model([node_features, adj_matrix_normalized], training=False)\n",
        "pred = tf.argmax(predictions, axis=1).numpy()"
      ],
      "metadata": {
        "id": "Kbu2tuWR3z7w"
      },
      "execution_count": 263,
      "outputs": []
    },
    {
      "cell_type": "code",
      "source": [
        "pos = nx.spring_layout(graph)\n",
        "node_colors = ['red' if label==0 else 'blue' for label in labels.numpy()]\n",
        "pred_colors = ['red' if label==0 else 'blue' for label in pred]"
      ],
      "metadata": {
        "id": "tt0NJhSv1Ym3"
      },
      "execution_count": 264,
      "outputs": []
    },
    {
      "cell_type": "code",
      "source": [
        "test_true_labels"
      ],
      "metadata": {
        "colab": {
          "base_uri": "https://localhost:8080/"
        },
        "id": "Of0wiySa2TuN",
        "outputId": "a5547792-7da4-409f-827c-a87801eea301"
      },
      "execution_count": 265,
      "outputs": [
        {
          "output_type": "execute_result",
          "data": {
            "text/plain": [
              "<tf.Tensor: shape=(2,), dtype=float32, numpy=array([1., 1.], dtype=float32)>"
            ]
          },
          "metadata": {},
          "execution_count": 265
        }
      ]
    },
    {
      "cell_type": "code",
      "source": [
        "test_true_labels.numpy()"
      ],
      "metadata": {
        "colab": {
          "base_uri": "https://localhost:8080/"
        },
        "id": "WmkwfnOv2XAO",
        "outputId": "4c9f53f2-7d32-461e-b580-197cc204a120"
      },
      "execution_count": 266,
      "outputs": [
        {
          "output_type": "execute_result",
          "data": {
            "text/plain": [
              "array([1., 1.], dtype=float32)"
            ]
          },
          "metadata": {},
          "execution_count": 266
        }
      ]
    },
    {
      "cell_type": "code",
      "source": [
        "node_colors"
      ],
      "metadata": {
        "colab": {
          "base_uri": "https://localhost:8080/"
        },
        "id": "DOWkcSXO2Zfd",
        "outputId": "18a1167e-0a7a-452f-c921-4029612d12ca"
      },
      "execution_count": 267,
      "outputs": [
        {
          "output_type": "execute_result",
          "data": {
            "text/plain": [
              "['blue', 'blue', 'red', 'red', 'red', 'blue', 'blue', 'blue', 'blue', 'blue']"
            ]
          },
          "metadata": {},
          "execution_count": 267
        }
      ]
    },
    {
      "cell_type": "code",
      "source": [
        "pred_colors"
      ],
      "metadata": {
        "colab": {
          "base_uri": "https://localhost:8080/"
        },
        "id": "vrSuy-AO2raB",
        "outputId": "574b20e0-52ef-4465-a647-eff0b356d66b"
      },
      "execution_count": 268,
      "outputs": [
        {
          "output_type": "execute_result",
          "data": {
            "text/plain": [
              "['red', 'red', 'red', 'red', 'red', 'red', 'red', 'red', 'red', 'red']"
            ]
          },
          "metadata": {},
          "execution_count": 268
        }
      ]
    },
    {
      "cell_type": "code",
      "source": [
        "nx.draw(graph, pos, node_color=node_colors, with_labels=True)"
      ],
      "metadata": {
        "colab": {
          "base_uri": "https://localhost:8080/",
          "height": 516
        },
        "id": "7Camlf0Y3_41",
        "outputId": "736fca21-ef07-4a93-8db5-9242254bf824"
      },
      "execution_count": 269,
      "outputs": [
        {
          "output_type": "display_data",
          "data": {
            "text/plain": [
              "<Figure size 640x480 with 1 Axes>"
            ],
            "image/png": "[encoded data removed]"
          },
          "metadata": {}
        }
      ]
    },
    {
      "cell_type": "code",
      "source": [
        "nx.draw(graph, pos, node_color=pred_colors, with_labels=True)"
      ],
      "metadata": {
        "colab": {
          "base_uri": "https://localhost:8080/",
          "height": 516
        },
        "id": "whaxoYjR4GUK",
        "outputId": "f57c8011-212b-4e7f-c0f0-c26e62554faa"
      },
      "execution_count": 270,
      "outputs": [
        {
          "output_type": "display_data",
          "data": {
            "text/plain": [
              "<Figure size 640x480 with 1 Axes>"
            ],
            "image/png": "[encoded data removed]"
          },
          "metadata": {}
        }
      ]
    },
    {
      "cell_type": "code",
      "source": [],
      "metadata": {
        "id": "x1yb_AbH4KQg"
      },
      "execution_count": 270,
      "outputs": []
    }
  ]
}