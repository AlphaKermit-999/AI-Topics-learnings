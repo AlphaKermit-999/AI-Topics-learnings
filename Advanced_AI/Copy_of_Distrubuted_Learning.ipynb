{
  "nbformat": 4,
  "nbformat_minor": 0,
  "metadata": {
    "colab": {
      "provenance": [],
      "include_colab_link": true
    },
    "kernelspec": {
      "name": "python3",
      "display_name": "Python 3"
    },
    "language_info": {
      "name": "python"
    }
  },
  "cells": [
    {
      "cell_type": "markdown",
      "metadata": {
        "id": "view-in-github",
        "colab_type": "text"
      },
      "source": [
        "<a href=\"https://colab.research.google.com/github/AlphaKermit-999/AI-Topics-learnings/blob/main/Advanced_AI/Copy_of_Distrubuted_Learning.ipynb\" target=\"_parent\"><img src=\"https://colab.research.google.com/assets/colab-badge.svg\" alt=\"Open In Colab\"/></a>"
      ]
    },
    {
      "cell_type": "code",
      "source": [
        "import tensorflow as tf\n",
        "import numpy as np\n",
        "\n",
        "# Create a distribution strategy to enable multi-GPU training\n",
        "# MirroredStrategy will copy the model to each GPU and combine gradients\n",
        "distribute_strategy = tf.distribute.MirroredStrategy()\n",
        "\n",
        "# Print the number of devices being used by the strategy\n",
        "print(f\"Number of devices used: {distribute_strategy.num_replicas_in_sync}\")\n"
      ],
      "metadata": {
        "colab": {
          "base_uri": "https://localhost:8080/"
        },
        "id": "Mo-UJq4aSi4t",
        "outputId": "23d108d2-9324-4911-afb9-52c23098a0a3"
      },
      "execution_count": 1,
      "outputs": [
        {
          "output_type": "stream",
          "name": "stdout",
          "text": [
            "Number of devices used: 1\n"
          ]
        }
      ]
    },
    {
      "cell_type": "code",
      "source": [
        "# Function to create a simple neural network model\n",
        "def create_model():\n",
        "    return tf.keras.Sequential([\n",
        "        tf.keras.layers.Flatten(input_shape=(28, 28)),  # Flatten the 28x28 input images\n",
        "        tf.keras.layers.Dense(128, activation='relu'),  # Fully connected layer with ReLU activation\n",
        "        tf.keras.layers.Dense(10, activation='softmax')  # Output layer with softmax activation for 10 classes\n",
        "    ])\n"
      ],
      "metadata": {
        "id": "6R-Pym9DSz0f"
      },
      "execution_count": 2,
      "outputs": []
    },
    {
      "cell_type": "code",
      "source": [
        "# Load and preprocess the MNIST dataset\n",
        "# Normalize pixel values to the range [0, 1]\n",
        "(x_train, y_train), (x_test, y_test) = tf.keras.datasets.mnist.load_data()\n",
        "x_train, x_test = x_train / 255.0, x_test / 255.0"
      ],
      "metadata": {
        "colab": {
          "base_uri": "https://localhost:8080/"
        },
        "id": "GwvrTzEIS4RE",
        "outputId": "897b3c55-cc4c-45c0-f2a6-5b42107f7339"
      },
      "execution_count": 3,
      "outputs": [
        {
          "output_type": "stream",
          "name": "stdout",
          "text": [
            "Downloading data from https://storage.googleapis.com/tensorflow/tf-keras-datasets/mnist.npz\n",
            "\u001b[1m11490434/11490434\u001b[0m \u001b[32m━━━━━━━━━━━━━━━━━━━━\u001b[0m\u001b[37m\u001b[0m \u001b[1m0s\u001b[0m 0us/step\n"
          ]
        }
      ]
    },
    {
      "cell_type": "code",
      "source": [
        "# Batch size for training\n",
        "BATCH_SIZE = 64\n",
        "\n",
        "# Create TensorFlow datasets for training and testing\n",
        "train_dataset = tf.data.Dataset.from_tensor_slices((x_train, y_train)).shuffle(10000).batch(BATCH_SIZE)\n",
        "test_dataset = tf.data.Dataset.from_tensor_slices((x_test, y_test)).batch(BATCH_SIZE)\n",
        "\n"
      ],
      "metadata": {
        "id": "NLHQZv2KTLeu"
      },
      "execution_count": 4,
      "outputs": []
    },
    {
      "cell_type": "code",
      "source": [
        "# Distribute the datasets across GPUs\n",
        "train_dist_dataset = distribute_strategy.experimental_distribute_dataset(train_dataset)\n",
        "test_dist_dataset = distribute_strategy.experimental_distribute_dataset(test_dataset)\n",
        "\n"
      ],
      "metadata": {
        "id": "a1glKkHFTOu2"
      },
      "execution_count": 5,
      "outputs": []
    },
    {
      "cell_type": "code",
      "source": [
        "# Define the loss function\n",
        "# The reduction is NONE to ensure proper scaling across replicas\n",
        "with distribute_strategy.scope():\n",
        "    loss_object = tf.keras.losses.SparseCategoricalCrossentropy(reduction=tf.keras.losses.Reduction.NONE)\n",
        "\n",
        "    # Compute average loss across all replicas\n",
        "    def compute_loss(labels, predictions):\n",
        "        per_example_loss = loss_object(labels, predictions)\n",
        "        return tf.nn.compute_average_loss(per_example_loss, global_batch_size=BATCH_SIZE)\n",
        "\n",
        "    # Define the optimizer\n",
        "    optimizer = tf.keras.optimizers.Adam()\n",
        "\n",
        "    # Create the model within the scope of the strategy\n",
        "    model = create_model()\n",
        "\n",
        "    # Metrics to track training and testing accuracy\n",
        "    train_accuracy = tf.keras.metrics.SparseCategoricalAccuracy(name='train_accuracy')\n",
        "    test_accuracy = tf.keras.metrics.SparseCategoricalAccuracy(name='test_accuracy')\n",
        "\n"
      ],
      "metadata": {
        "colab": {
          "base_uri": "https://localhost:8080/"
        },
        "id": "SAh4NYFdT1qP",
        "outputId": "0afc9e27-a1ed-471d-f2be-696cfc249b76"
      },
      "execution_count": 6,
      "outputs": [
        {
          "output_type": "stream",
          "name": "stderr",
          "text": [
            "/usr/local/lib/python3.12/dist-packages/keras/src/layers/reshaping/flatten.py:37: UserWarning: Do not pass an `input_shape`/`input_dim` argument to a layer. When using Sequential models, prefer using an `Input(shape)` object as the first layer in the model instead.\n",
            "  super().__init__(**kwargs)\n"
          ]
        }
      ]
    },
    {
      "cell_type": "code",
      "execution_count": 7,
      "metadata": {
        "id": "UXEog_7KHruG",
        "colab": {
          "base_uri": "https://localhost:8080/"
        },
        "outputId": "8241187b-ae3a-4d99-d8d8-ef349b8485ea"
      },
      "outputs": [
        {
          "output_type": "stream",
          "name": "stdout",
          "text": [
            "Starting epoch 1\n",
            "Epoch 1, Loss: 0.2952558398246765, Train Accuracy: 91.83%, Test Accuracy: 95.45%\n",
            "Starting epoch 2\n",
            "Epoch 2, Loss: 0.13493984937667847, Train Accuracy: 96.08%, Test Accuracy: 96.76%\n",
            "Starting epoch 3\n",
            "Epoch 3, Loss: 0.09515645354986191, Train Accuracy: 97.16%, Test Accuracy: 97.00%\n",
            "Starting epoch 4\n",
            "Epoch 4, Loss: 0.07163714617490768, Train Accuracy: 97.90%, Test Accuracy: 97.18%\n",
            "Starting epoch 5\n",
            "Epoch 5, Loss: 0.05744912475347519, Train Accuracy: 98.23%, Test Accuracy: 96.99%\n",
            "Training complete!\n"
          ]
        }
      ],
      "source": [
        "# Training step for a batch\n",
        "@tf.function\n",
        "def train_step(inputs):\n",
        "    images, labels = inputs  # Unpack the input batch\n",
        "\n",
        "    with tf.GradientTape() as tape:\n",
        "        predictions = model(images, training=True)  # Forward pass\n",
        "        loss = compute_loss(labels, predictions)  # Compute loss\n",
        "\n",
        "    # Compute and apply gradients\n",
        "    gradients = tape.gradient(loss, model.trainable_variables)\n",
        "    optimizer.apply_gradients(zip(gradients, model.trainable_variables))\n",
        "\n",
        "    # Update training accuracy metric\n",
        "    train_accuracy.update_state(labels, predictions)\n",
        "\n",
        "    return loss\n",
        "\n",
        "# Testing step for a batch\n",
        "@tf.function\n",
        "def test_step(inputs):\n",
        "    images, labels = inputs  # Unpack the input batch\n",
        "    predictions = model(images, training=False)  # Forward pass\n",
        "\n",
        "    # Update testing accuracy metric\n",
        "    test_accuracy.update_state(labels, predictions)\n",
        "\n",
        "# Main training loop\n",
        "EPOCHS = 5\n",
        "for epoch in range(EPOCHS):\n",
        "    print(f\"Starting epoch {epoch + 1}\")\n",
        "    total_loss = 0.0\n",
        "    num_batches = 0\n",
        "\n",
        "    # Train on all batches\n",
        "    for batch in train_dist_dataset:\n",
        "        per_replica_loss = distribute_strategy.run(train_step, args=(batch,))\n",
        "        total_loss += distribute_strategy.reduce(tf.distribute.ReduceOp.SUM, per_replica_loss, axis=None)\n",
        "        num_batches += 1\n",
        "\n",
        "    # Test on all batches\n",
        "    for batch in test_dist_dataset:\n",
        "        distribute_strategy.run(test_step, args=(batch,))\n",
        "\n",
        "    # Print metrics for the epoch\n",
        "    print(f\"Epoch {epoch + 1}, Loss: {total_loss / num_batches}, \"\n",
        "          f\"Train Accuracy: {train_accuracy.result() * 100:.2f}%, \"\n",
        "          f\"Test Accuracy: {test_accuracy.result() * 100:.2f}%\")\n",
        "\n",
        "    # Reset metrics for the next epoch\n",
        "    train_accuracy.reset_state()\n",
        "    test_accuracy.reset_state()\n",
        "\n",
        "print(\"Training complete!\")\n"
      ]
    },
    {
      "cell_type": "code",
      "source": [],
      "metadata": {
        "id": "D1St1rPz9ps8"
      },
      "execution_count": null,
      "outputs": []
    }
  ]
}