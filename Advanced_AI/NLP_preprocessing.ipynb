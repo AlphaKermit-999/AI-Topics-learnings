{
  "nbformat": 4,
  "nbformat_minor": 0,
  "metadata": {
    "colab": {
      "provenance": [],
      "authorship_tag": "ABX9TyMHId4htidaBc6jaulKurP7",
      "include_colab_link": true
    },
    "kernelspec": {
      "name": "python3",
      "display_name": "Python 3"
    },
    "language_info": {
      "name": "python"
    }
  },
  "cells": [
    {
      "cell_type": "markdown",
      "metadata": {
        "id": "view-in-github",
        "colab_type": "text"
      },
      "source": [
        "<a href=\"https://colab.research.google.com/github/AlphaKermit-999/AI-Topics-learnings/blob/main/Advanced_AI/NLP_preprocessing.ipynb\" target=\"_parent\"><img src=\"https://colab.research.google.com/assets/colab-badge.svg\" alt=\"Open In Colab\"/></a>"
      ]
    },
    {
      "cell_type": "code",
      "execution_count": 464,
      "metadata": {
        "id": "YV6Zy4zeNVZN"
      },
      "outputs": [],
      "source": [
        "data = \"\"\"Machine learning (ML) is a field of study in 12-09-1998 artificial intelligence concerned with the development and study of statistical algorithms that can learn from data and generalise to unseen data, and thus perform tasks without explicit instructions.[1] Within a subdiscipline in machine learning, advances in the field of deep learning have allowed neural networks, a class of statistical algorithms, to surpass many previous machine learning approaches in performance.[2]\n",
        "\n",
        "ML finds application in many fields, (123) 456-7890 including natural language processing, computer vision, speech recognition, email filtering, agriculture, and medicine. The application of ML to business problems is known as predictive analytics.\"\"\""
      ]
    },
    {
      "cell_type": "code",
      "source": [
        "data"
      ],
      "metadata": {
        "colab": {
          "base_uri": "https://localhost:8080/",
          "height": 70
        },
        "id": "fbiT4HNSOaUo",
        "outputId": "57227b5b-596e-4b04-b347-d76c8456bf3f"
      },
      "execution_count": 465,
      "outputs": [
        {
          "output_type": "execute_result",
          "data": {
            "text/plain": [
              "'Machine learning (ML) is a field of study in 12-09-1998 artificial intelligence concerned with the development and study of statistical algorithms that can learn from data and generalise to unseen data, and thus perform tasks without explicit instructions.[1] Within a subdiscipline in machine learning, advances in the field of deep learning have allowed neural networks, a class of statistical algorithms, to surpass many previous machine learning approaches in performance.[2]\\n\\nML finds application in many fields, (123) 456-7890 including natural language processing, computer vision, speech recognition, email filtering, agriculture, and medicine. The application of ML to business problems is known as predictive analytics.'"
            ],
            "application/vnd.google.colaboratory.intrinsic+json": {
              "type": "string"
            }
          },
          "metadata": {},
          "execution_count": 465
        }
      ]
    },
    {
      "cell_type": "code",
      "source": [
        "import re\n",
        "re.sub(r'\\D', \" \", data)\n",
        "re.sub('[-.()\\D]', \" \", data)"
      ],
      "metadata": {
        "colab": {
          "base_uri": "https://localhost:8080/",
          "height": 122
        },
        "id": "aHatqI8vOeRg",
        "outputId": "87ab7ebf-b44c-4c39-fdae-be162092a349"
      },
      "execution_count": 466,
      "outputs": [
        {
          "output_type": "stream",
          "name": "stderr",
          "text": [
            "<>:3: SyntaxWarning: invalid escape sequence '\\D'\n",
            "<>:3: SyntaxWarning: invalid escape sequence '\\D'\n",
            "/tmp/ipython-input-1795630811.py:3: SyntaxWarning: invalid escape sequence '\\D'\n",
            "  re.sub('[-.()\\D]', \" \", data)\n"
          ]
        },
        {
          "output_type": "execute_result",
          "data": {
            "text/plain": [
              "'                                             12 09 1998                                                                                                                                                                                                          1                                                                                                                                                                                                                           2                                         123  456 7890                                                                                                                                                                                                     '"
            ],
            "application/vnd.google.colaboratory.intrinsic+json": {
              "type": "string"
            }
          },
          "metadata": {},
          "execution_count": 466
        }
      ]
    },
    {
      "cell_type": "code",
      "source": [
        "re.findall(\"\\d{2}-\\d{2}-\\d{4}\", data)"
      ],
      "metadata": {
        "colab": {
          "base_uri": "https://localhost:8080/"
        },
        "id": "Dk_aPm8wRJie",
        "outputId": "16cfda99-88a8-41b4-e357-77160557ab8f"
      },
      "execution_count": 467,
      "outputs": [
        {
          "output_type": "stream",
          "name": "stderr",
          "text": [
            "<>:1: SyntaxWarning: invalid escape sequence '\\d'\n",
            "<>:1: SyntaxWarning: invalid escape sequence '\\d'\n",
            "/tmp/ipython-input-1409829394.py:1: SyntaxWarning: invalid escape sequence '\\d'\n",
            "  re.findall(\"\\d{2}-\\d{2}-\\d{4}\", data)\n"
          ]
        },
        {
          "output_type": "execute_result",
          "data": {
            "text/plain": [
              "['12-09-1998']"
            ]
          },
          "metadata": {},
          "execution_count": 467
        }
      ]
    },
    {
      "cell_type": "code",
      "source": [
        "d1 = \"i saw the yellow dog!\"\n",
        "expression = r\"NP:{<DT>?<JJ>*<NN>+}\""
      ],
      "metadata": {
        "id": "zPyo2-oSPL9t"
      },
      "execution_count": 468,
      "outputs": []
    },
    {
      "cell_type": "code",
      "source": [
        "import nltk\n",
        "nltk.download('punkt_tab')"
      ],
      "metadata": {
        "colab": {
          "base_uri": "https://localhost:8080/"
        },
        "id": "gQ_yX4wBRM_X",
        "outputId": "aa57e60b-4ba3-4210-db71-c672752feeee"
      },
      "execution_count": 469,
      "outputs": [
        {
          "output_type": "stream",
          "name": "stderr",
          "text": [
            "[nltk_data] Downloading package punkt_tab to /root/nltk_data...\n",
            "[nltk_data]   Package punkt_tab is already up-to-date!\n"
          ]
        },
        {
          "output_type": "execute_result",
          "data": {
            "text/plain": [
              "True"
            ]
          },
          "metadata": {},
          "execution_count": 469
        }
      ]
    },
    {
      "cell_type": "code",
      "source": [
        "from nltk.tokenize import word_tokenize, sent_tokenize\n",
        "from nltk.tag import pos_tag\n",
        "from nltk.chunk import ne_chunk"
      ],
      "metadata": {
        "id": "MIgedkqnP7BV"
      },
      "execution_count": 470,
      "outputs": []
    },
    {
      "cell_type": "code",
      "source": [
        "word_tokenize(d1)"
      ],
      "metadata": {
        "colab": {
          "base_uri": "https://localhost:8080/"
        },
        "id": "MMj082GtQPQK",
        "outputId": "cd1220c0-54e0-4600-84c4-bbd468c5f68c"
      },
      "execution_count": 471,
      "outputs": [
        {
          "output_type": "execute_result",
          "data": {
            "text/plain": [
              "['i', 'saw', 'the', 'yellow', 'dog', '!']"
            ]
          },
          "metadata": {},
          "execution_count": 471
        }
      ]
    },
    {
      "cell_type": "code",
      "source": [
        "d8 = sent_tokenize(d1)"
      ],
      "metadata": {
        "id": "lCy8CHgORYFG"
      },
      "execution_count": 472,
      "outputs": []
    },
    {
      "cell_type": "code",
      "source": [
        "sent_tokenize(data)"
      ],
      "metadata": {
        "colab": {
          "base_uri": "https://localhost:8080/"
        },
        "id": "puYEP9PHRZq8",
        "outputId": "dc5e2f25-77a5-4148-ec08-fd14f8f64919"
      },
      "execution_count": 473,
      "outputs": [
        {
          "output_type": "execute_result",
          "data": {
            "text/plain": [
              "['Machine learning (ML) is a field of study in 12-09-1998 artificial intelligence concerned with the development and study of statistical algorithms that can learn from data and generalise to unseen data, and thus perform tasks without explicit instructions.',\n",
              " '[1] Within a subdiscipline in machine learning, advances in the field of deep learning have allowed neural networks, a class of statistical algorithms, to surpass many previous machine learning approaches in performance.',\n",
              " '[2]\\n\\nML finds application in many fields, (123) 456-7890 including natural language processing, computer vision, speech recognition, email filtering, agriculture, and medicine.',\n",
              " 'The application of ML to business problems is known as predictive analytics.']"
            ]
          },
          "metadata": {},
          "execution_count": 473
        }
      ]
    },
    {
      "cell_type": "code",
      "source": [
        "len(sent_tokenize(data))"
      ],
      "metadata": {
        "colab": {
          "base_uri": "https://localhost:8080/"
        },
        "id": "T5NZCnf_Rcsh",
        "outputId": "bf2f3259-a5a2-40d3-c829-3c1b6ace910e"
      },
      "execution_count": 474,
      "outputs": [
        {
          "output_type": "execute_result",
          "data": {
            "text/plain": [
              "4"
            ]
          },
          "metadata": {},
          "execution_count": 474
        }
      ]
    },
    {
      "cell_type": "code",
      "source": [
        "data = data.replace(\"\\n\", \"\")"
      ],
      "metadata": {
        "id": "TrpZMOr2RnHC"
      },
      "execution_count": 475,
      "outputs": []
    },
    {
      "cell_type": "code",
      "source": [
        "data"
      ],
      "metadata": {
        "colab": {
          "base_uri": "https://localhost:8080/",
          "height": 70
        },
        "id": "IZYL95GoSZls",
        "outputId": "34c2a963-105d-4098-f1ac-5cade1018375"
      },
      "execution_count": 476,
      "outputs": [
        {
          "output_type": "execute_result",
          "data": {
            "text/plain": [
              "'Machine learning (ML) is a field of study in 12-09-1998 artificial intelligence concerned with the development and study of statistical algorithms that can learn from data and generalise to unseen data, and thus perform tasks without explicit instructions.[1] Within a subdiscipline in machine learning, advances in the field of deep learning have allowed neural networks, a class of statistical algorithms, to surpass many previous machine learning approaches in performance.[2]ML finds application in many fields, (123) 456-7890 including natural language processing, computer vision, speech recognition, email filtering, agriculture, and medicine. The application of ML to business problems is known as predictive analytics.'"
            ],
            "application/vnd.google.colaboratory.intrinsic+json": {
              "type": "string"
            }
          },
          "metadata": {},
          "execution_count": 476
        }
      ]
    },
    {
      "cell_type": "code",
      "source": [
        "nltk.download('averaged_perceptron_tagger_eng')"
      ],
      "metadata": {
        "colab": {
          "base_uri": "https://localhost:8080/"
        },
        "id": "yCV8ooXuSapH",
        "outputId": "bba28432-3fe1-4b69-fafd-79a025a3ae24"
      },
      "execution_count": 477,
      "outputs": [
        {
          "output_type": "stream",
          "name": "stderr",
          "text": [
            "[nltk_data] Downloading package averaged_perceptron_tagger_eng to\n",
            "[nltk_data]     /root/nltk_data...\n",
            "[nltk_data]   Package averaged_perceptron_tagger_eng is already up-to-\n",
            "[nltk_data]       date!\n"
          ]
        },
        {
          "output_type": "execute_result",
          "data": {
            "text/plain": [
              "True"
            ]
          },
          "metadata": {},
          "execution_count": 477
        }
      ]
    },
    {
      "cell_type": "code",
      "source": [
        "d1 = \"i saw the yellow dog!\"\n",
        "expression = r\"NP:{<DT>?<JJ>*<NN>+}\"\n",
        "w1 = word_tokenize(d1)\n",
        "chunk = nltk.RegexpParser(expression)\n",
        "c1 = chunk.parse(pos_tag(w1))\n",
        "# c1.draw()"
      ],
      "metadata": {
        "id": "hSkcXjZaSqwb"
      },
      "execution_count": 478,
      "outputs": []
    },
    {
      "cell_type": "code",
      "source": [
        "pos_tag(w1)"
      ],
      "metadata": {
        "colab": {
          "base_uri": "https://localhost:8080/"
        },
        "id": "58ZbSmpDSdnJ",
        "outputId": "225fcab7-8a4e-49ae-9a7b-d409d32169a6"
      },
      "execution_count": 479,
      "outputs": [
        {
          "output_type": "execute_result",
          "data": {
            "text/plain": [
              "[('i', 'NN'),\n",
              " ('saw', 'VBD'),\n",
              " ('the', 'DT'),\n",
              " ('yellow', 'JJ'),\n",
              " ('dog', 'NN'),\n",
              " ('!', '.')]"
            ]
          },
          "metadata": {},
          "execution_count": 479
        }
      ]
    },
    {
      "cell_type": "code",
      "metadata": {
        "colab": {
          "base_uri": "https://localhost:8080/"
        },
        "id": "71a277a3",
        "outputId": "4da89f49-8feb-4ffa-b4e2-dd17468b646b"
      },
      "source": [
        "print(c1)"
      ],
      "execution_count": 480,
      "outputs": [
        {
          "output_type": "stream",
          "name": "stdout",
          "text": [
            "(S (NP i/NN) saw/VBD (NP the/DT yellow/JJ dog/NN) !/.)\n"
          ]
        }
      ]
    },
    {
      "cell_type": "code",
      "source": [
        "from nltk.util import ngrams, bigrams, trigrams\n",
        "list(ngrams(w1, 3))"
      ],
      "metadata": {
        "colab": {
          "base_uri": "https://localhost:8080/"
        },
        "id": "0aFGPZqJS2Yj",
        "outputId": "b20fde49-b141-47fa-f33d-3d4ce3e3332c"
      },
      "execution_count": 481,
      "outputs": [
        {
          "output_type": "execute_result",
          "data": {
            "text/plain": [
              "[('i', 'saw', 'the'),\n",
              " ('saw', 'the', 'yellow'),\n",
              " ('the', 'yellow', 'dog'),\n",
              " ('yellow', 'dog', '!')]"
            ]
          },
          "metadata": {},
          "execution_count": 481
        }
      ]
    },
    {
      "cell_type": "code",
      "source": [
        "list(bigrams(w1))"
      ],
      "metadata": {
        "colab": {
          "base_uri": "https://localhost:8080/"
        },
        "id": "CYC3GHvmTS-7",
        "outputId": "1802260e-dd62-462b-fa2a-9a7028e14b6e"
      },
      "execution_count": 482,
      "outputs": [
        {
          "output_type": "execute_result",
          "data": {
            "text/plain": [
              "[('i', 'saw'),\n",
              " ('saw', 'the'),\n",
              " ('the', 'yellow'),\n",
              " ('yellow', 'dog'),\n",
              " ('dog', '!')]"
            ]
          },
          "metadata": {},
          "execution_count": 482
        }
      ]
    },
    {
      "cell_type": "code",
      "source": [
        "incorrect_words = [\"azaming\", \"happpiiiiii\", \"thankkkkk\", \"thx\"]"
      ],
      "metadata": {
        "id": "z1ykfaYiURO_"
      },
      "execution_count": 483,
      "outputs": []
    },
    {
      "cell_type": "code",
      "source": [
        "from nltk.metrics.distance import jaccard_distance\n",
        "from nltk.corpus import words\n",
        "nltk.download('words')\n"
      ],
      "metadata": {
        "colab": {
          "base_uri": "https://localhost:8080/"
        },
        "id": "eZ2Rc7vnUbXQ",
        "outputId": "818aea82-6ed3-42f2-9d7e-1f26cdfa2adf"
      },
      "execution_count": 484,
      "outputs": [
        {
          "output_type": "stream",
          "name": "stderr",
          "text": [
            "[nltk_data] Downloading package words to /root/nltk_data...\n",
            "[nltk_data]   Package words is already up-to-date!\n"
          ]
        },
        {
          "output_type": "execute_result",
          "data": {
            "text/plain": [
              "True"
            ]
          },
          "metadata": {},
          "execution_count": 484
        }
      ]
    },
    {
      "cell_type": "code",
      "source": [
        "len(words.words())"
      ],
      "metadata": {
        "colab": {
          "base_uri": "https://localhost:8080/"
        },
        "id": "YPonZQEyUkbZ",
        "outputId": "f15ef03f-d10a-471e-c7e6-6714596dbbf2"
      },
      "execution_count": 485,
      "outputs": [
        {
          "output_type": "execute_result",
          "data": {
            "text/plain": [
              "236736"
            ]
          },
          "metadata": {},
          "execution_count": 485
        }
      ]
    },
    {
      "cell_type": "code",
      "source": [
        "correct_words = words.words()"
      ],
      "metadata": {
        "id": "7f4jTYuDUvnF"
      },
      "execution_count": 486,
      "outputs": []
    },
    {
      "cell_type": "code",
      "source": [
        "for i in incorrect_words:\n",
        "    result = [(jaccard_distance(set(ngrams(i, 2)), set(ngrams(w, 2))), w) for w in correct_words if w[0] == i[0]]\n",
        "    print(sorted(result, key=lambda val: val[0])[0][1])"
      ],
      "metadata": {
        "colab": {
          "base_uri": "https://localhost:8080/"
        },
        "id": "Ro3cS75pUzgF",
        "outputId": "6660fe2d-cb28-4f59-e4a4-458dd3f7c20c"
      },
      "execution_count": 487,
      "outputs": [
        {
          "output_type": "stream",
          "name": "stdout",
          "text": [
            "amazing\n",
            "happier\n",
            "thank\n",
            "th\n"
          ]
        }
      ]
    },
    {
      "cell_type": "code",
      "source": [
        "from nltk.stem import PorterStemmer, WordNetLemmatizer\n",
        "nltk.download('wordnet')\n",
        "ps = PorterStemmer()"
      ],
      "metadata": {
        "colab": {
          "base_uri": "https://localhost:8080/"
        },
        "id": "KTkKXqlIWUB-",
        "outputId": "21a8b4e9-c1d6-45a0-bf97-f37f5cf1b627"
      },
      "execution_count": 488,
      "outputs": [
        {
          "output_type": "stream",
          "name": "stderr",
          "text": [
            "[nltk_data] Downloading package wordnet to /root/nltk_data...\n",
            "[nltk_data]   Package wordnet is already up-to-date!\n"
          ]
        }
      ]
    },
    {
      "cell_type": "code",
      "source": [
        "ps.stem(\"computing\")"
      ],
      "metadata": {
        "colab": {
          "base_uri": "https://localhost:8080/",
          "height": 35
        },
        "id": "Li8nPpUXWbdO",
        "outputId": "24363d11-a422-47fe-dd5e-255a0a736fe2"
      },
      "execution_count": 489,
      "outputs": [
        {
          "output_type": "execute_result",
          "data": {
            "text/plain": [
              "'comput'"
            ],
            "application/vnd.google.colaboratory.intrinsic+json": {
              "type": "string"
            }
          },
          "metadata": {},
          "execution_count": 489
        }
      ]
    },
    {
      "cell_type": "code",
      "source": [
        "ps.stem(\"elegant\")"
      ],
      "metadata": {
        "colab": {
          "base_uri": "https://localhost:8080/",
          "height": 35
        },
        "id": "X_A_-mVMWgdO",
        "outputId": "adee585a-cba7-4fda-c8b9-4b83bdd390af"
      },
      "execution_count": 490,
      "outputs": [
        {
          "output_type": "execute_result",
          "data": {
            "text/plain": [
              "'eleg'"
            ],
            "application/vnd.google.colaboratory.intrinsic+json": {
              "type": "string"
            }
          },
          "metadata": {},
          "execution_count": 490
        }
      ]
    },
    {
      "cell_type": "code",
      "source": [
        "lm = WordNetLemmatizer()\n",
        "lm.lemmatize(\"went\", pos=\"v\")"
      ],
      "metadata": {
        "colab": {
          "base_uri": "https://localhost:8080/",
          "height": 35
        },
        "id": "aVHxnGM2Wo5e",
        "outputId": "5cd00906-1c78-405f-cb35-7614eb254cf2"
      },
      "execution_count": 491,
      "outputs": [
        {
          "output_type": "execute_result",
          "data": {
            "text/plain": [
              "'go'"
            ],
            "application/vnd.google.colaboratory.intrinsic+json": {
              "type": "string"
            }
          },
          "metadata": {},
          "execution_count": 491
        }
      ]
    },
    {
      "cell_type": "code",
      "source": [
        "lm.lemmatize(\"computing\", pos=\"v\")"
      ],
      "metadata": {
        "colab": {
          "base_uri": "https://localhost:8080/",
          "height": 35
        },
        "id": "k0WxDpK_W9m_",
        "outputId": "5273d4f7-5054-4c0f-937d-4ca17854c244"
      },
      "execution_count": 492,
      "outputs": [
        {
          "output_type": "execute_result",
          "data": {
            "text/plain": [
              "'compute'"
            ],
            "application/vnd.google.colaboratory.intrinsic+json": {
              "type": "string"
            }
          },
          "metadata": {},
          "execution_count": 492
        }
      ]
    },
    {
      "cell_type": "code",
      "source": [
        "from nltk.corpus import stopwords\n",
        "nltk.download('stopwords')"
      ],
      "metadata": {
        "colab": {
          "base_uri": "https://localhost:8080/"
        },
        "id": "k9i9HaeGXYi-",
        "outputId": "4b3a7f40-ae0d-4a1e-c6ff-f8feb52553af"
      },
      "execution_count": 493,
      "outputs": [
        {
          "output_type": "stream",
          "name": "stderr",
          "text": [
            "[nltk_data] Downloading package stopwords to /root/nltk_data...\n",
            "[nltk_data]   Package stopwords is already up-to-date!\n"
          ]
        },
        {
          "output_type": "execute_result",
          "data": {
            "text/plain": [
              "True"
            ]
          },
          "metadata": {},
          "execution_count": 493
        }
      ]
    },
    {
      "cell_type": "code",
      "source": [
        "w4 = stopwords.words(\"english\")\n",
        "print(w4)"
      ],
      "metadata": {
        "colab": {
          "base_uri": "https://localhost:8080/"
        },
        "collapsed": true,
        "id": "Yve77Nt3Xbw_",
        "outputId": "3e6d71e1-7ae4-4855-c9de-97e8f49cab7a"
      },
      "execution_count": 494,
      "outputs": [
        {
          "output_type": "stream",
          "name": "stdout",
          "text": [
            "['a', 'about', 'above', 'after', 'again', 'against', 'ain', 'all', 'am', 'an', 'and', 'any', 'are', 'aren', \"aren't\", 'as', 'at', 'be', 'because', 'been', 'before', 'being', 'below', 'between', 'both', 'but', 'by', 'can', 'couldn', \"couldn't\", 'd', 'did', 'didn', \"didn't\", 'do', 'does', 'doesn', \"doesn't\", 'doing', 'don', \"don't\", 'down', 'during', 'each', 'few', 'for', 'from', 'further', 'had', 'hadn', \"hadn't\", 'has', 'hasn', \"hasn't\", 'have', 'haven', \"haven't\", 'having', 'he', \"he'd\", \"he'll\", 'her', 'here', 'hers', 'herself', \"he's\", 'him', 'himself', 'his', 'how', 'i', \"i'd\", 'if', \"i'll\", \"i'm\", 'in', 'into', 'is', 'isn', \"isn't\", 'it', \"it'd\", \"it'll\", \"it's\", 'its', 'itself', \"i've\", 'just', 'll', 'm', 'ma', 'me', 'mightn', \"mightn't\", 'more', 'most', 'mustn', \"mustn't\", 'my', 'myself', 'needn', \"needn't\", 'no', 'nor', 'not', 'now', 'o', 'of', 'off', 'on', 'once', 'only', 'or', 'other', 'our', 'ours', 'ourselves', 'out', 'over', 'own', 're', 's', 'same', 'shan', \"shan't\", 'she', \"she'd\", \"she'll\", \"she's\", 'should', 'shouldn', \"shouldn't\", \"should've\", 'so', 'some', 'such', 't', 'than', 'that', \"that'll\", 'the', 'their', 'theirs', 'them', 'themselves', 'then', 'there', 'these', 'they', \"they'd\", \"they'll\", \"they're\", \"they've\", 'this', 'those', 'through', 'to', 'too', 'under', 'until', 'up', 've', 'very', 'was', 'wasn', \"wasn't\", 'we', \"we'd\", \"we'll\", \"we're\", 'were', 'weren', \"weren't\", \"we've\", 'what', 'when', 'where', 'which', 'while', 'who', 'whom', 'why', 'will', 'with', 'won', \"won't\", 'wouldn', \"wouldn't\", 'y', 'you', \"you'd\", \"you'll\", 'your', \"you're\", 'yours', 'yourself', 'yourselves', \"you've\"]\n"
          ]
        }
      ]
    },
    {
      "cell_type": "code",
      "source": [
        "d5 = \"i did not like the movie\"\n",
        "[i for i in word_tokenize(d5) if i not in w4]"
      ],
      "metadata": {
        "colab": {
          "base_uri": "https://localhost:8080/"
        },
        "id": "EAkZ5D2AXobq",
        "outputId": "7b6c974f-95d9-4557-ee9a-a7442eaa2e20"
      },
      "execution_count": 495,
      "outputs": [
        {
          "output_type": "execute_result",
          "data": {
            "text/plain": [
              "['like', 'movie']"
            ]
          },
          "metadata": {},
          "execution_count": 495
        }
      ]
    },
    {
      "cell_type": "code",
      "source": [
        "import pandas as pd\n",
        "df = pd.read_csv(\"spam.csv\", encoding=\"ISO-8859-1\")"
      ],
      "metadata": {
        "id": "F6Xm5TchX0mn"
      },
      "execution_count": 496,
      "outputs": []
    },
    {
      "cell_type": "code",
      "source": [
        "df = df[[\"v1\", \"v2\"]]"
      ],
      "metadata": {
        "id": "udkMkyETYwWM"
      },
      "execution_count": 497,
      "outputs": []
    },
    {
      "cell_type": "code",
      "source": [
        "df.head()"
      ],
      "metadata": {
        "colab": {
          "base_uri": "https://localhost:8080/",
          "height": 206
        },
        "id": "i4VE6kaCY280",
        "outputId": "69923099-fff9-4e75-c8b2-304d0b10f109"
      },
      "execution_count": 498,
      "outputs": [
        {
          "output_type": "execute_result",
          "data": {
            "text/plain": [
              "     v1                                                 v2\n",
              "0   ham  Go until jurong point, crazy.. Available only ...\n",
              "1   ham                      Ok lar... Joking wif u oni...\n",
              "2  spam  Free entry in 2 a wkly comp to win FA Cup fina...\n",
              "3   ham  U dun say so early hor... U c already then say...\n",
              "4   ham  Nah I don't think he goes to usf, he lives aro..."
            ],
            "text/html": [
              "\n",
              "  <div id=\"df-0744fb29-aebf-4329-b6a0-ddb26df632d1\" class=\"colab-df-container\">\n",
              "    <div>\n",
              "<style scoped>\n",
              "    .dataframe tbody tr th:only-of-type {\n",
              "        vertical-align: middle;\n",
              "    }\n",
              "\n",
              "    .dataframe tbody tr th {\n",
              "        vertical-align: top;\n",
              "    }\n",
              "\n",
              "    .dataframe thead th {\n",
              "        text-align: right;\n",
              "    }\n",
              "</style>\n",
              "<table border=\"1\" class=\"dataframe\">\n",
              "  <thead>\n",
              "    <tr style=\"text-align: right;\">\n",
              "      <th></th>\n",
              "      <th>v1</th>\n",
              "      <th>v2</th>\n",
              "    </tr>\n",
              "  </thead>\n",
              "  <tbody>\n",
              "    <tr>\n",
              "      <th>0</th>\n",
              "      <td>ham</td>\n",
              "      <td>Go until jurong point, crazy.. Available only ...</td>\n",
              "    </tr>\n",
              "    <tr>\n",
              "      <th>1</th>\n",
              "      <td>ham</td>\n",
              "      <td>Ok lar... Joking wif u oni...</td>\n",
              "    </tr>\n",
              "    <tr>\n",
              "      <th>2</th>\n",
              "      <td>spam</td>\n",
              "      <td>Free entry in 2 a wkly comp to win FA Cup fina...</td>\n",
              "    </tr>\n",
              "    <tr>\n",
              "      <th>3</th>\n",
              "      <td>ham</td>\n",
              "      <td>U dun say so early hor... U c already then say...</td>\n",
              "    </tr>\n",
              "    <tr>\n",
              "      <th>4</th>\n",
              "      <td>ham</td>\n",
              "      <td>Nah I don't think he goes to usf, he lives aro...</td>\n",
              "    </tr>\n",
              "  </tbody>\n",
              "</table>\n",
              "</div>\n",
              "    <div class=\"colab-df-buttons\">\n",
              "\n",
              "  <div class=\"colab-df-container\">\n",
              "    <button class=\"colab-df-convert\" onclick=\"convertToInteractive('df-0744fb29-aebf-4329-b6a0-ddb26df632d1')\"\n",
              "            title=\"Convert this dataframe to an interactive table.\"\n",
              "            style=\"display:none;\">\n",
              "\n",
              "  <svg xmlns=\"http://www.w3.org/2000/svg\" height=\"24px\" viewBox=\"0 -960 960 960\">\n",
              "    <path d=\"M120-120v-720h720v720H120Zm60-500h600v-160H180v160Zm220 220h160v-160H400v160Zm0 220h160v-160H400v160ZM180-400h160v-160H180v160Zm440 0h160v-160H620v160ZM180-180h160v-160H180v160Zm440 0h160v-160H620v160Z\"/>\n",
              "  </svg>\n",
              "    </button>\n",
              "\n",
              "  <style>\n",
              "    .colab-df-container {\n",
              "      display:flex;\n",
              "      gap: 12px;\n",
              "    }\n",
              "\n",
              "    .colab-df-convert {\n",
              "      background-color: #E8F0FE;\n",
              "      border: none;\n",
              "      border-radius: 50%;\n",
              "      cursor: pointer;\n",
              "      display: none;\n",
              "      fill: #1967D2;\n",
              "      height: 32px;\n",
              "      padding: 0 0 0 0;\n",
              "      width: 32px;\n",
              "    }\n",
              "\n",
              "    .colab-df-convert:hover {\n",
              "      background-color: #E2EBFA;\n",
              "      box-shadow: 0px 1px 2px rgba(60, 64, 67, 0.3), 0px 1px 3px 1px rgba(60, 64, 67, 0.15);\n",
              "      fill: #174EA6;\n",
              "    }\n",
              "\n",
              "    .colab-df-buttons div {\n",
              "      margin-bottom: 4px;\n",
              "    }\n",
              "\n",
              "    [theme=dark] .colab-df-convert {\n",
              "      background-color: #3B4455;\n",
              "      fill: #D2E3FC;\n",
              "    }\n",
              "\n",
              "    [theme=dark] .colab-df-convert:hover {\n",
              "      background-color: #434B5C;\n",
              "      box-shadow: 0px 1px 3px 1px rgba(0, 0, 0, 0.15);\n",
              "      filter: drop-shadow(0px 1px 2px rgba(0, 0, 0, 0.3));\n",
              "      fill: #FFFFFF;\n",
              "    }\n",
              "  </style>\n",
              "\n",
              "    <script>\n",
              "      const buttonEl =\n",
              "        document.querySelector('#df-0744fb29-aebf-4329-b6a0-ddb26df632d1 button.colab-df-convert');\n",
              "      buttonEl.style.display =\n",
              "        google.colab.kernel.accessAllowed ? 'block' : 'none';\n",
              "\n",
              "      async function convertToInteractive(key) {\n",
              "        const element = document.querySelector('#df-0744fb29-aebf-4329-b6a0-ddb26df632d1');\n",
              "        const dataTable =\n",
              "          await google.colab.kernel.invokeFunction('convertToInteractive',\n",
              "                                                    [key], {});\n",
              "        if (!dataTable) return;\n",
              "\n",
              "        const docLinkHtml = 'Like what you see? Visit the ' +\n",
              "          '<a target=\"_blank\" href=https://colab.research.google.com/notebooks/data_table.ipynb>data table notebook</a>'\n",
              "          + ' to learn more about interactive tables.';\n",
              "        element.innerHTML = '';\n",
              "        dataTable['output_type'] = 'display_data';\n",
              "        await google.colab.output.renderOutput(dataTable, element);\n",
              "        const docLink = document.createElement('div');\n",
              "        docLink.innerHTML = docLinkHtml;\n",
              "        element.appendChild(docLink);\n",
              "      }\n",
              "    </script>\n",
              "  </div>\n",
              "\n",
              "\n",
              "    <div id=\"df-b53ef283-0e67-4250-863b-6bb6d831676e\">\n",
              "      <button class=\"colab-df-quickchart\" onclick=\"quickchart('df-b53ef283-0e67-4250-863b-6bb6d831676e')\"\n",
              "                title=\"Suggest charts\"\n",
              "                style=\"display:none;\">\n",
              "\n",
              "<svg xmlns=\"http://www.w3.org/2000/svg\" height=\"24px\"viewBox=\"0 0 24 24\"\n",
              "     width=\"24px\">\n",
              "    <g>\n",
              "        <path d=\"M19 3H5c-1.1 0-2 .9-2 2v14c0 1.1.9 2 2 2h14c1.1 0 2-.9 2-2V5c0-1.1-.9-2-2-2zM9 17H7v-7h2v7zm4 0h-2V7h2v10zm4 0h-2v-4h2v4z\"/>\n",
              "    </g>\n",
              "</svg>\n",
              "      </button>\n",
              "\n",
              "<style>\n",
              "  .colab-df-quickchart {\n",
              "      --bg-color: #E8F0FE;\n",
              "      --fill-color: #1967D2;\n",
              "      --hover-bg-color: #E2EBFA;\n",
              "      --hover-fill-color: #174EA6;\n",
              "      --disabled-fill-color: #AAA;\n",
              "      --disabled-bg-color: #DDD;\n",
              "  }\n",
              "\n",
              "  [theme=dark] .colab-df-quickchart {\n",
              "      --bg-color: #3B4455;\n",
              "      --fill-color: #D2E3FC;\n",
              "      --hover-bg-color: #434B5C;\n",
              "      --hover-fill-color: #FFFFFF;\n",
              "      --disabled-bg-color: #3B4455;\n",
              "      --disabled-fill-color: #666;\n",
              "  }\n",
              "\n",
              "  .colab-df-quickchart {\n",
              "    background-color: var(--bg-color);\n",
              "    border: none;\n",
              "    border-radius: 50%;\n",
              "    cursor: pointer;\n",
              "    display: none;\n",
              "    fill: var(--fill-color);\n",
              "    height: 32px;\n",
              "    padding: 0;\n",
              "    width: 32px;\n",
              "  }\n",
              "\n",
              "  .colab-df-quickchart:hover {\n",
              "    background-color: var(--hover-bg-color);\n",
              "    box-shadow: 0 1px 2px rgba(60, 64, 67, 0.3), 0 1px 3px 1px rgba(60, 64, 67, 0.15);\n",
              "    fill: var(--button-hover-fill-color);\n",
              "  }\n",
              "\n",
              "  .colab-df-quickchart-complete:disabled,\n",
              "  .colab-df-quickchart-complete:disabled:hover {\n",
              "    background-color: var(--disabled-bg-color);\n",
              "    fill: var(--disabled-fill-color);\n",
              "    box-shadow: none;\n",
              "  }\n",
              "\n",
              "  .colab-df-spinner {\n",
              "    border: 2px solid var(--fill-color);\n",
              "    border-color: transparent;\n",
              "    border-bottom-color: var(--fill-color);\n",
              "    animation:\n",
              "      spin 1s steps(1) infinite;\n",
              "  }\n",
              "\n",
              "  @keyframes spin {\n",
              "    0% {\n",
              "      border-color: transparent;\n",
              "      border-bottom-color: var(--fill-color);\n",
              "      border-left-color: var(--fill-color);\n",
              "    }\n",
              "    20% {\n",
              "      border-color: transparent;\n",
              "      border-left-color: var(--fill-color);\n",
              "      border-top-color: var(--fill-color);\n",
              "    }\n",
              "    30% {\n",
              "      border-color: transparent;\n",
              "      border-left-color: var(--fill-color);\n",
              "      border-top-color: var(--fill-color);\n",
              "      border-right-color: var(--fill-color);\n",
              "    }\n",
              "    40% {\n",
              "      border-color: transparent;\n",
              "      border-right-color: var(--fill-color);\n",
              "      border-top-color: var(--fill-color);\n",
              "    }\n",
              "    60% {\n",
              "      border-color: transparent;\n",
              "      border-right-color: var(--fill-color);\n",
              "    }\n",
              "    80% {\n",
              "      border-color: transparent;\n",
              "      border-right-color: var(--fill-color);\n",
              "      border-bottom-color: var(--fill-color);\n",
              "    }\n",
              "    90% {\n",
              "      border-color: transparent;\n",
              "      border-bottom-color: var(--fill-color);\n",
              "    }\n",
              "  }\n",
              "</style>\n",
              "\n",
              "      <script>\n",
              "        async function quickchart(key) {\n",
              "          const quickchartButtonEl =\n",
              "            document.querySelector('#' + key + ' button');\n",
              "          quickchartButtonEl.disabled = true;  // To prevent multiple clicks.\n",
              "          quickchartButtonEl.classList.add('colab-df-spinner');\n",
              "          try {\n",
              "            const charts = await google.colab.kernel.invokeFunction(\n",
              "                'suggestCharts', [key], {});\n",
              "          } catch (error) {\n",
              "            console.error('Error during call to suggestCharts:', error);\n",
              "          }\n",
              "          quickchartButtonEl.classList.remove('colab-df-spinner');\n",
              "          quickchartButtonEl.classList.add('colab-df-quickchart-complete');\n",
              "        }\n",
              "        (() => {\n",
              "          let quickchartButtonEl =\n",
              "            document.querySelector('#df-b53ef283-0e67-4250-863b-6bb6d831676e button');\n",
              "          quickchartButtonEl.style.display =\n",
              "            google.colab.kernel.accessAllowed ? 'block' : 'none';\n",
              "        })();\n",
              "      </script>\n",
              "    </div>\n",
              "\n",
              "    </div>\n",
              "  </div>\n"
            ],
            "application/vnd.google.colaboratory.intrinsic+json": {
              "type": "dataframe",
              "variable_name": "df",
              "summary": "{\n  \"name\": \"df\",\n  \"rows\": 5572,\n  \"fields\": [\n    {\n      \"column\": \"v1\",\n      \"properties\": {\n        \"dtype\": \"category\",\n        \"num_unique_values\": 2,\n        \"samples\": [\n          \"spam\",\n          \"ham\"\n        ],\n        \"semantic_type\": \"\",\n        \"description\": \"\"\n      }\n    },\n    {\n      \"column\": \"v2\",\n      \"properties\": {\n        \"dtype\": \"string\",\n        \"num_unique_values\": 5169,\n        \"samples\": [\n          \"Did u download the fring app?\",\n          \"Pass dis to all ur contacts n see wat u get! Red;i'm in luv wid u. Blue;u put a smile on my face. Purple;u r realy hot. Pink;u r so swt. Orange;i thnk i lyk u. Green;i realy wana go out wid u. Yelow;i wnt u bck. Black;i'm jealous of u. Brown;i miss you Nw plz giv me one color\"\n        ],\n        \"semantic_type\": \"\",\n        \"description\": \"\"\n      }\n    }\n  ]\n}"
            }
          },
          "metadata": {},
          "execution_count": 498
        }
      ]
    },
    {
      "cell_type": "code",
      "source": [
        "df[\"before_count\"] = df[\"v2\"].apply(lambda x: len(x.split()))"
      ],
      "metadata": {
        "id": "lcr0Mp6WY8el"
      },
      "execution_count": 499,
      "outputs": []
    },
    {
      "cell_type": "code",
      "source": [
        "df.describe()"
      ],
      "metadata": {
        "colab": {
          "base_uri": "https://localhost:8080/",
          "height": 300
        },
        "id": "_R-80xUsZtgk",
        "outputId": "b54c1e56-6106-4421-9f44-3c5b7da0fea7"
      },
      "execution_count": 500,
      "outputs": [
        {
          "output_type": "execute_result",
          "data": {
            "text/plain": [
              "       before_count\n",
              "count   5572.000000\n",
              "mean      15.494436\n",
              "std       11.329427\n",
              "min        1.000000\n",
              "25%        7.000000\n",
              "50%       12.000000\n",
              "75%       23.000000\n",
              "max      171.000000"
            ],
            "text/html": [
              "\n",
              "  <div id=\"df-d79014e6-1419-48b8-ae3e-4acc457716ed\" class=\"colab-df-container\">\n",
              "    <div>\n",
              "<style scoped>\n",
              "    .dataframe tbody tr th:only-of-type {\n",
              "        vertical-align: middle;\n",
              "    }\n",
              "\n",
              "    .dataframe tbody tr th {\n",
              "        vertical-align: top;\n",
              "    }\n",
              "\n",
              "    .dataframe thead th {\n",
              "        text-align: right;\n",
              "    }\n",
              "</style>\n",
              "<table border=\"1\" class=\"dataframe\">\n",
              "  <thead>\n",
              "    <tr style=\"text-align: right;\">\n",
              "      <th></th>\n",
              "      <th>before_count</th>\n",
              "    </tr>\n",
              "  </thead>\n",
              "  <tbody>\n",
              "    <tr>\n",
              "      <th>count</th>\n",
              "      <td>5572.000000</td>\n",
              "    </tr>\n",
              "    <tr>\n",
              "      <th>mean</th>\n",
              "      <td>15.494436</td>\n",
              "    </tr>\n",
              "    <tr>\n",
              "      <th>std</th>\n",
              "      <td>11.329427</td>\n",
              "    </tr>\n",
              "    <tr>\n",
              "      <th>min</th>\n",
              "      <td>1.000000</td>\n",
              "    </tr>\n",
              "    <tr>\n",
              "      <th>25%</th>\n",
              "      <td>7.000000</td>\n",
              "    </tr>\n",
              "    <tr>\n",
              "      <th>50%</th>\n",
              "      <td>12.000000</td>\n",
              "    </tr>\n",
              "    <tr>\n",
              "      <th>75%</th>\n",
              "      <td>23.000000</td>\n",
              "    </tr>\n",
              "    <tr>\n",
              "      <th>max</th>\n",
              "      <td>171.000000</td>\n",
              "    </tr>\n",
              "  </tbody>\n",
              "</table>\n",
              "</div>\n",
              "    <div class=\"colab-df-buttons\">\n",
              "\n",
              "  <div class=\"colab-df-container\">\n",
              "    <button class=\"colab-df-convert\" onclick=\"convertToInteractive('df-d79014e6-1419-48b8-ae3e-4acc457716ed')\"\n",
              "            title=\"Convert this dataframe to an interactive table.\"\n",
              "            style=\"display:none;\">\n",
              "\n",
              "  <svg xmlns=\"http://www.w3.org/2000/svg\" height=\"24px\" viewBox=\"0 -960 960 960\">\n",
              "    <path d=\"M120-120v-720h720v720H120Zm60-500h600v-160H180v160Zm220 220h160v-160H400v160Zm0 220h160v-160H400v160ZM180-400h160v-160H180v160Zm440 0h160v-160H620v160ZM180-180h160v-160H180v160Zm440 0h160v-160H620v160Z\"/>\n",
              "  </svg>\n",
              "    </button>\n",
              "\n",
              "  <style>\n",
              "    .colab-df-container {\n",
              "      display:flex;\n",
              "      gap: 12px;\n",
              "    }\n",
              "\n",
              "    .colab-df-convert {\n",
              "      background-color: #E8F0FE;\n",
              "      border: none;\n",
              "      border-radius: 50%;\n",
              "      cursor: pointer;\n",
              "      display: none;\n",
              "      fill: #1967D2;\n",
              "      height: 32px;\n",
              "      padding: 0 0 0 0;\n",
              "      width: 32px;\n",
              "    }\n",
              "\n",
              "    .colab-df-convert:hover {\n",
              "      background-color: #E2EBFA;\n",
              "      box-shadow: 0px 1px 2px rgba(60, 64, 67, 0.3), 0px 1px 3px 1px rgba(60, 64, 67, 0.15);\n",
              "      fill: #174EA6;\n",
              "    }\n",
              "\n",
              "    .colab-df-buttons div {\n",
              "      margin-bottom: 4px;\n",
              "    }\n",
              "\n",
              "    [theme=dark] .colab-df-convert {\n",
              "      background-color: #3B4455;\n",
              "      fill: #D2E3FC;\n",
              "    }\n",
              "\n",
              "    [theme=dark] .colab-df-convert:hover {\n",
              "      background-color: #434B5C;\n",
              "      box-shadow: 0px 1px 3px 1px rgba(0, 0, 0, 0.15);\n",
              "      filter: drop-shadow(0px 1px 2px rgba(0, 0, 0, 0.3));\n",
              "      fill: #FFFFFF;\n",
              "    }\n",
              "  </style>\n",
              "\n",
              "    <script>\n",
              "      const buttonEl =\n",
              "        document.querySelector('#df-d79014e6-1419-48b8-ae3e-4acc457716ed button.colab-df-convert');\n",
              "      buttonEl.style.display =\n",
              "        google.colab.kernel.accessAllowed ? 'block' : 'none';\n",
              "\n",
              "      async function convertToInteractive(key) {\n",
              "        const element = document.querySelector('#df-d79014e6-1419-48b8-ae3e-4acc457716ed');\n",
              "        const dataTable =\n",
              "          await google.colab.kernel.invokeFunction('convertToInteractive',\n",
              "                                                    [key], {});\n",
              "        if (!dataTable) return;\n",
              "\n",
              "        const docLinkHtml = 'Like what you see? Visit the ' +\n",
              "          '<a target=\"_blank\" href=https://colab.research.google.com/notebooks/data_table.ipynb>data table notebook</a>'\n",
              "          + ' to learn more about interactive tables.';\n",
              "        element.innerHTML = '';\n",
              "        dataTable['output_type'] = 'display_data';\n",
              "        await google.colab.output.renderOutput(dataTable, element);\n",
              "        const docLink = document.createElement('div');\n",
              "        docLink.innerHTML = docLinkHtml;\n",
              "        element.appendChild(docLink);\n",
              "      }\n",
              "    </script>\n",
              "  </div>\n",
              "\n",
              "\n",
              "    <div id=\"df-db08b387-5092-4956-b08c-f830b329b796\">\n",
              "      <button class=\"colab-df-quickchart\" onclick=\"quickchart('df-db08b387-5092-4956-b08c-f830b329b796')\"\n",
              "                title=\"Suggest charts\"\n",
              "                style=\"display:none;\">\n",
              "\n",
              "<svg xmlns=\"http://www.w3.org/2000/svg\" height=\"24px\"viewBox=\"0 0 24 24\"\n",
              "     width=\"24px\">\n",
              "    <g>\n",
              "        <path d=\"M19 3H5c-1.1 0-2 .9-2 2v14c0 1.1.9 2 2 2h14c1.1 0 2-.9 2-2V5c0-1.1-.9-2-2-2zM9 17H7v-7h2v7zm4 0h-2V7h2v10zm4 0h-2v-4h2v4z\"/>\n",
              "    </g>\n",
              "</svg>\n",
              "      </button>\n",
              "\n",
              "<style>\n",
              "  .colab-df-quickchart {\n",
              "      --bg-color: #E8F0FE;\n",
              "      --fill-color: #1967D2;\n",
              "      --hover-bg-color: #E2EBFA;\n",
              "      --hover-fill-color: #174EA6;\n",
              "      --disabled-fill-color: #AAA;\n",
              "      --disabled-bg-color: #DDD;\n",
              "  }\n",
              "\n",
              "  [theme=dark] .colab-df-quickchart {\n",
              "      --bg-color: #3B4455;\n",
              "      --fill-color: #D2E3FC;\n",
              "      --hover-bg-color: #434B5C;\n",
              "      --hover-fill-color: #FFFFFF;\n",
              "      --disabled-bg-color: #3B4455;\n",
              "      --disabled-fill-color: #666;\n",
              "  }\n",
              "\n",
              "  .colab-df-quickchart {\n",
              "    background-color: var(--bg-color);\n",
              "    border: none;\n",
              "    border-radius: 50%;\n",
              "    cursor: pointer;\n",
              "    display: none;\n",
              "    fill: var(--fill-color);\n",
              "    height: 32px;\n",
              "    padding: 0;\n",
              "    width: 32px;\n",
              "  }\n",
              "\n",
              "  .colab-df-quickchart:hover {\n",
              "    background-color: var(--hover-bg-color);\n",
              "    box-shadow: 0 1px 2px rgba(60, 64, 67, 0.3), 0 1px 3px 1px rgba(60, 64, 67, 0.15);\n",
              "    fill: var(--button-hover-fill-color);\n",
              "  }\n",
              "\n",
              "  .colab-df-quickchart-complete:disabled,\n",
              "  .colab-df-quickchart-complete:disabled:hover {\n",
              "    background-color: var(--disabled-bg-color);\n",
              "    fill: var(--disabled-fill-color);\n",
              "    box-shadow: none;\n",
              "  }\n",
              "\n",
              "  .colab-df-spinner {\n",
              "    border: 2px solid var(--fill-color);\n",
              "    border-color: transparent;\n",
              "    border-bottom-color: var(--fill-color);\n",
              "    animation:\n",
              "      spin 1s steps(1) infinite;\n",
              "  }\n",
              "\n",
              "  @keyframes spin {\n",
              "    0% {\n",
              "      border-color: transparent;\n",
              "      border-bottom-color: var(--fill-color);\n",
              "      border-left-color: var(--fill-color);\n",
              "    }\n",
              "    20% {\n",
              "      border-color: transparent;\n",
              "      border-left-color: var(--fill-color);\n",
              "      border-top-color: var(--fill-color);\n",
              "    }\n",
              "    30% {\n",
              "      border-color: transparent;\n",
              "      border-left-color: var(--fill-color);\n",
              "      border-top-color: var(--fill-color);\n",
              "      border-right-color: var(--fill-color);\n",
              "    }\n",
              "    40% {\n",
              "      border-color: transparent;\n",
              "      border-right-color: var(--fill-color);\n",
              "      border-top-color: var(--fill-color);\n",
              "    }\n",
              "    60% {\n",
              "      border-color: transparent;\n",
              "      border-right-color: var(--fill-color);\n",
              "    }\n",
              "    80% {\n",
              "      border-color: transparent;\n",
              "      border-right-color: var(--fill-color);\n",
              "      border-bottom-color: var(--fill-color);\n",
              "    }\n",
              "    90% {\n",
              "      border-color: transparent;\n",
              "      border-bottom-color: var(--fill-color);\n",
              "    }\n",
              "  }\n",
              "</style>\n",
              "\n",
              "      <script>\n",
              "        async function quickchart(key) {\n",
              "          const quickchartButtonEl =\n",
              "            document.querySelector('#' + key + ' button');\n",
              "          quickchartButtonEl.disabled = true;  // To prevent multiple clicks.\n",
              "          quickchartButtonEl.classList.add('colab-df-spinner');\n",
              "          try {\n",
              "            const charts = await google.colab.kernel.invokeFunction(\n",
              "                'suggestCharts', [key], {});\n",
              "          } catch (error) {\n",
              "            console.error('Error during call to suggestCharts:', error);\n",
              "          }\n",
              "          quickchartButtonEl.classList.remove('colab-df-spinner');\n",
              "          quickchartButtonEl.classList.add('colab-df-quickchart-complete');\n",
              "        }\n",
              "        (() => {\n",
              "          let quickchartButtonEl =\n",
              "            document.querySelector('#df-db08b387-5092-4956-b08c-f830b329b796 button');\n",
              "          quickchartButtonEl.style.display =\n",
              "            google.colab.kernel.accessAllowed ? 'block' : 'none';\n",
              "        })();\n",
              "      </script>\n",
              "    </div>\n",
              "\n",
              "    </div>\n",
              "  </div>\n"
            ],
            "application/vnd.google.colaboratory.intrinsic+json": {
              "type": "dataframe",
              "summary": "{\n  \"name\": \"df\",\n  \"rows\": 8,\n  \"fields\": [\n    {\n      \"column\": \"before_count\",\n      \"properties\": {\n        \"dtype\": \"number\",\n        \"std\": 1958.6402453452638,\n        \"min\": 1.0,\n        \"max\": 5572.0,\n        \"num_unique_values\": 8,\n        \"samples\": [\n          15.494436468054559,\n          12.0,\n          5572.0\n        ],\n        \"semantic_type\": \"\",\n        \"description\": \"\"\n      }\n    }\n  ]\n}"
            }
          },
          "metadata": {},
          "execution_count": 500
        }
      ]
    },
    {
      "cell_type": "code",
      "source": [
        "df[df[\"before_count\"]==1].shape"
      ],
      "metadata": {
        "colab": {
          "base_uri": "https://localhost:8080/"
        },
        "id": "m05O1h-nZJdQ",
        "outputId": "1dfed9cf-3cd9-404e-edf7-004840305585"
      },
      "execution_count": 501,
      "outputs": [
        {
          "output_type": "execute_result",
          "data": {
            "text/plain": [
              "(41, 3)"
            ]
          },
          "metadata": {},
          "execution_count": 501
        }
      ]
    },
    {
      "cell_type": "code",
      "source": [
        "df[df[\"before_count\"]==1]"
      ],
      "metadata": {
        "colab": {
          "base_uri": "https://localhost:8080/",
          "height": 1000
        },
        "id": "qToUoLguZu3-",
        "outputId": "89295aac-05e4-4669-fd30-fdc9974b5454"
      },
      "execution_count": 502,
      "outputs": [
        {
          "output_type": "execute_result",
          "data": {
            "text/plain": [
              "       v1                                                 v2  before_count\n",
              "260   ham                                                Yup             1\n",
              "275   ham                                           Thanx...             1\n",
              "283   ham                                            Okie...             1\n",
              "286   ham                                               Ok..             1\n",
              "782   ham                                           Beerage?             1\n",
              "1272  ham                                              Ok...             1\n",
              "1318  ham                                              Ok...             1\n",
              "1426  ham                                              Ok...             1\n",
              "1482  ham                                              Ok...             1\n",
              "1611  ham                                                645             1\n",
              "1699  ham                                              Ok...             1\n",
              "1924  ham                                                 Ok             1\n",
              "2181  ham                                                Ok.             1\n",
              "2321  ham                                              Ok...             1\n",
              "2344  ham                                            Okie...             1\n",
              "2507  ham                                             Yup...             1\n",
              "2508  ham                                              Ok...             1\n",
              "2601  ham                                               Okie             1\n",
              "2659  ham                                              Ok...             1\n",
              "2687  ham                                               Okie             1\n",
              "2906  ham                                             ALRITE             1\n",
              "2927  ham                                        Anything...             1\n",
              "3049  ham                                                 Ok             1\n",
              "3092  ham  staff.science.nus.edu.sg/~phyhcmk/teaching/pc1323             1\n",
              "3154  ham                                              Ok...             1\n",
              "3374  ham                                                :)              1\n",
              "3490  ham                                                Ok.             1\n",
              "3505  ham                                            Nite...             1\n",
              "3831  ham                                                Ok.             1\n",
              "3899  ham                                               Okie             1\n",
              "4012  ham                                                Ok.             1\n",
              "4242  ham                                            Okie...             1\n",
              "4291  ham                                              G.W.R             1\n",
              "4496  ham                                                 Ok             1\n",
              "4640  ham                                            Havent.             1\n",
              "4701  ham                                         Anytime...             1\n",
              "4857  ham                                              Ok...             1\n",
              "5188  ham                                               Okie             1\n",
              "5268  ham                                                \\ER             1\n",
              "5357  ham                                                 Ok             1\n",
              "5471  ham                                                Yup             1"
            ],
            "text/html": [
              "\n",
              "  <div id=\"df-14fcb17c-059b-4cf1-826b-cfc8ea5a616e\" class=\"colab-df-container\">\n",
              "    <div>\n",
              "<style scoped>\n",
              "    .dataframe tbody tr th:only-of-type {\n",
              "        vertical-align: middle;\n",
              "    }\n",
              "\n",
              "    .dataframe tbody tr th {\n",
              "        vertical-align: top;\n",
              "    }\n",
              "\n",
              "    .dataframe thead th {\n",
              "        text-align: right;\n",
              "    }\n",
              "</style>\n",
              "<table border=\"1\" class=\"dataframe\">\n",
              "  <thead>\n",
              "    <tr style=\"text-align: right;\">\n",
              "      <th></th>\n",
              "      <th>v1</th>\n",
              "      <th>v2</th>\n",
              "      <th>before_count</th>\n",
              "    </tr>\n",
              "  </thead>\n",
              "  <tbody>\n",
              "    <tr>\n",
              "      <th>260</th>\n",
              "      <td>ham</td>\n",
              "      <td>Yup</td>\n",
              "      <td>1</td>\n",
              "    </tr>\n",
              "    <tr>\n",
              "      <th>275</th>\n",
              "      <td>ham</td>\n",
              "      <td>Thanx...</td>\n",
              "      <td>1</td>\n",
              "    </tr>\n",
              "    <tr>\n",
              "      <th>283</th>\n",
              "      <td>ham</td>\n",
              "      <td>Okie...</td>\n",
              "      <td>1</td>\n",
              "    </tr>\n",
              "    <tr>\n",
              "      <th>286</th>\n",
              "      <td>ham</td>\n",
              "      <td>Ok..</td>\n",
              "      <td>1</td>\n",
              "    </tr>\n",
              "    <tr>\n",
              "      <th>782</th>\n",
              "      <td>ham</td>\n",
              "      <td>Beerage?</td>\n",
              "      <td>1</td>\n",
              "    </tr>\n",
              "    <tr>\n",
              "      <th>1272</th>\n",
              "      <td>ham</td>\n",
              "      <td>Ok...</td>\n",
              "      <td>1</td>\n",
              "    </tr>\n",
              "    <tr>\n",
              "      <th>1318</th>\n",
              "      <td>ham</td>\n",
              "      <td>Ok...</td>\n",
              "      <td>1</td>\n",
              "    </tr>\n",
              "    <tr>\n",
              "      <th>1426</th>\n",
              "      <td>ham</td>\n",
              "      <td>Ok...</td>\n",
              "      <td>1</td>\n",
              "    </tr>\n",
              "    <tr>\n",
              "      <th>1482</th>\n",
              "      <td>ham</td>\n",
              "      <td>Ok...</td>\n",
              "      <td>1</td>\n",
              "    </tr>\n",
              "    <tr>\n",
              "      <th>1611</th>\n",
              "      <td>ham</td>\n",
              "      <td>645</td>\n",
              "      <td>1</td>\n",
              "    </tr>\n",
              "    <tr>\n",
              "      <th>1699</th>\n",
              "      <td>ham</td>\n",
              "      <td>Ok...</td>\n",
              "      <td>1</td>\n",
              "    </tr>\n",
              "    <tr>\n",
              "      <th>1924</th>\n",
              "      <td>ham</td>\n",
              "      <td>Ok</td>\n",
              "      <td>1</td>\n",
              "    </tr>\n",
              "    <tr>\n",
              "      <th>2181</th>\n",
              "      <td>ham</td>\n",
              "      <td>Ok.</td>\n",
              "      <td>1</td>\n",
              "    </tr>\n",
              "    <tr>\n",
              "      <th>2321</th>\n",
              "      <td>ham</td>\n",
              "      <td>Ok...</td>\n",
              "      <td>1</td>\n",
              "    </tr>\n",
              "    <tr>\n",
              "      <th>2344</th>\n",
              "      <td>ham</td>\n",
              "      <td>Okie...</td>\n",
              "      <td>1</td>\n",
              "    </tr>\n",
              "    <tr>\n",
              "      <th>2507</th>\n",
              "      <td>ham</td>\n",
              "      <td>Yup...</td>\n",
              "      <td>1</td>\n",
              "    </tr>\n",
              "    <tr>\n",
              "      <th>2508</th>\n",
              "      <td>ham</td>\n",
              "      <td>Ok...</td>\n",
              "      <td>1</td>\n",
              "    </tr>\n",
              "    <tr>\n",
              "      <th>2601</th>\n",
              "      <td>ham</td>\n",
              "      <td>Okie</td>\n",
              "      <td>1</td>\n",
              "    </tr>\n",
              "    <tr>\n",
              "      <th>2659</th>\n",
              "      <td>ham</td>\n",
              "      <td>Ok...</td>\n",
              "      <td>1</td>\n",
              "    </tr>\n",
              "    <tr>\n",
              "      <th>2687</th>\n",
              "      <td>ham</td>\n",
              "      <td>Okie</td>\n",
              "      <td>1</td>\n",
              "    </tr>\n",
              "    <tr>\n",
              "      <th>2906</th>\n",
              "      <td>ham</td>\n",
              "      <td>ALRITE</td>\n",
              "      <td>1</td>\n",
              "    </tr>\n",
              "    <tr>\n",
              "      <th>2927</th>\n",
              "      <td>ham</td>\n",
              "      <td>Anything...</td>\n",
              "      <td>1</td>\n",
              "    </tr>\n",
              "    <tr>\n",
              "      <th>3049</th>\n",
              "      <td>ham</td>\n",
              "      <td>Ok</td>\n",
              "      <td>1</td>\n",
              "    </tr>\n",
              "    <tr>\n",
              "      <th>3092</th>\n",
              "      <td>ham</td>\n",
              "      <td>staff.science.nus.edu.sg/~phyhcmk/teaching/pc1323</td>\n",
              "      <td>1</td>\n",
              "    </tr>\n",
              "    <tr>\n",
              "      <th>3154</th>\n",
              "      <td>ham</td>\n",
              "      <td>Ok...</td>\n",
              "      <td>1</td>\n",
              "    </tr>\n",
              "    <tr>\n",
              "      <th>3374</th>\n",
              "      <td>ham</td>\n",
              "      <td>:)</td>\n",
              "      <td>1</td>\n",
              "    </tr>\n",
              "    <tr>\n",
              "      <th>3490</th>\n",
              "      <td>ham</td>\n",
              "      <td>Ok.</td>\n",
              "      <td>1</td>\n",
              "    </tr>\n",
              "    <tr>\n",
              "      <th>3505</th>\n",
              "      <td>ham</td>\n",
              "      <td>Nite...</td>\n",
              "      <td>1</td>\n",
              "    </tr>\n",
              "    <tr>\n",
              "      <th>3831</th>\n",
              "      <td>ham</td>\n",
              "      <td>Ok.</td>\n",
              "      <td>1</td>\n",
              "    </tr>\n",
              "    <tr>\n",
              "      <th>3899</th>\n",
              "      <td>ham</td>\n",
              "      <td>Okie</td>\n",
              "      <td>1</td>\n",
              "    </tr>\n",
              "    <tr>\n",
              "      <th>4012</th>\n",
              "      <td>ham</td>\n",
              "      <td>Ok.</td>\n",
              "      <td>1</td>\n",
              "    </tr>\n",
              "    <tr>\n",
              "      <th>4242</th>\n",
              "      <td>ham</td>\n",
              "      <td>Okie...</td>\n",
              "      <td>1</td>\n",
              "    </tr>\n",
              "    <tr>\n",
              "      <th>4291</th>\n",
              "      <td>ham</td>\n",
              "      <td>G.W.R</td>\n",
              "      <td>1</td>\n",
              "    </tr>\n",
              "    <tr>\n",
              "      <th>4496</th>\n",
              "      <td>ham</td>\n",
              "      <td>Ok</td>\n",
              "      <td>1</td>\n",
              "    </tr>\n",
              "    <tr>\n",
              "      <th>4640</th>\n",
              "      <td>ham</td>\n",
              "      <td>Havent.</td>\n",
              "      <td>1</td>\n",
              "    </tr>\n",
              "    <tr>\n",
              "      <th>4701</th>\n",
              "      <td>ham</td>\n",
              "      <td>Anytime...</td>\n",
              "      <td>1</td>\n",
              "    </tr>\n",
              "    <tr>\n",
              "      <th>4857</th>\n",
              "      <td>ham</td>\n",
              "      <td>Ok...</td>\n",
              "      <td>1</td>\n",
              "    </tr>\n",
              "    <tr>\n",
              "      <th>5188</th>\n",
              "      <td>ham</td>\n",
              "      <td>Okie</td>\n",
              "      <td>1</td>\n",
              "    </tr>\n",
              "    <tr>\n",
              "      <th>5268</th>\n",
              "      <td>ham</td>\n",
              "      <td>\\ER</td>\n",
              "      <td>1</td>\n",
              "    </tr>\n",
              "    <tr>\n",
              "      <th>5357</th>\n",
              "      <td>ham</td>\n",
              "      <td>Ok</td>\n",
              "      <td>1</td>\n",
              "    </tr>\n",
              "    <tr>\n",
              "      <th>5471</th>\n",
              "      <td>ham</td>\n",
              "      <td>Yup</td>\n",
              "      <td>1</td>\n",
              "    </tr>\n",
              "  </tbody>\n",
              "</table>\n",
              "</div>\n",
              "    <div class=\"colab-df-buttons\">\n",
              "\n",
              "  <div class=\"colab-df-container\">\n",
              "    <button class=\"colab-df-convert\" onclick=\"convertToInteractive('df-14fcb17c-059b-4cf1-826b-cfc8ea5a616e')\"\n",
              "            title=\"Convert this dataframe to an interactive table.\"\n",
              "            style=\"display:none;\">\n",
              "\n",
              "  <svg xmlns=\"http://www.w3.org/2000/svg\" height=\"24px\" viewBox=\"0 -960 960 960\">\n",
              "    <path d=\"M120-120v-720h720v720H120Zm60-500h600v-160H180v160Zm220 220h160v-160H400v160Zm0 220h160v-160H400v160ZM180-400h160v-160H180v160Zm440 0h160v-160H620v160ZM180-180h160v-160H180v160Zm440 0h160v-160H620v160Z\"/>\n",
              "  </svg>\n",
              "    </button>\n",
              "\n",
              "  <style>\n",
              "    .colab-df-container {\n",
              "      display:flex;\n",
              "      gap: 12px;\n",
              "    }\n",
              "\n",
              "    .colab-df-convert {\n",
              "      background-color: #E8F0FE;\n",
              "      border: none;\n",
              "      border-radius: 50%;\n",
              "      cursor: pointer;\n",
              "      display: none;\n",
              "      fill: #1967D2;\n",
              "      height: 32px;\n",
              "      padding: 0 0 0 0;\n",
              "      width: 32px;\n",
              "    }\n",
              "\n",
              "    .colab-df-convert:hover {\n",
              "      background-color: #E2EBFA;\n",
              "      box-shadow: 0px 1px 2px rgba(60, 64, 67, 0.3), 0px 1px 3px 1px rgba(60, 64, 67, 0.15);\n",
              "      fill: #174EA6;\n",
              "    }\n",
              "\n",
              "    .colab-df-buttons div {\n",
              "      margin-bottom: 4px;\n",
              "    }\n",
              "\n",
              "    [theme=dark] .colab-df-convert {\n",
              "      background-color: #3B4455;\n",
              "      fill: #D2E3FC;\n",
              "    }\n",
              "\n",
              "    [theme=dark] .colab-df-convert:hover {\n",
              "      background-color: #434B5C;\n",
              "      box-shadow: 0px 1px 3px 1px rgba(0, 0, 0, 0.15);\n",
              "      filter: drop-shadow(0px 1px 2px rgba(0, 0, 0, 0.3));\n",
              "      fill: #FFFFFF;\n",
              "    }\n",
              "  </style>\n",
              "\n",
              "    <script>\n",
              "      const buttonEl =\n",
              "        document.querySelector('#df-14fcb17c-059b-4cf1-826b-cfc8ea5a616e button.colab-df-convert');\n",
              "      buttonEl.style.display =\n",
              "        google.colab.kernel.accessAllowed ? 'block' : 'none';\n",
              "\n",
              "      async function convertToInteractive(key) {\n",
              "        const element = document.querySelector('#df-14fcb17c-059b-4cf1-826b-cfc8ea5a616e');\n",
              "        const dataTable =\n",
              "          await google.colab.kernel.invokeFunction('convertToInteractive',\n",
              "                                                    [key], {});\n",
              "        if (!dataTable) return;\n",
              "\n",
              "        const docLinkHtml = 'Like what you see? Visit the ' +\n",
              "          '<a target=\"_blank\" href=https://colab.research.google.com/notebooks/data_table.ipynb>data table notebook</a>'\n",
              "          + ' to learn more about interactive tables.';\n",
              "        element.innerHTML = '';\n",
              "        dataTable['output_type'] = 'display_data';\n",
              "        await google.colab.output.renderOutput(dataTable, element);\n",
              "        const docLink = document.createElement('div');\n",
              "        docLink.innerHTML = docLinkHtml;\n",
              "        element.appendChild(docLink);\n",
              "      }\n",
              "    </script>\n",
              "  </div>\n",
              "\n",
              "\n",
              "    <div id=\"df-93b8fc8d-cb5a-4fa1-bff3-f7734440d865\">\n",
              "      <button class=\"colab-df-quickchart\" onclick=\"quickchart('df-93b8fc8d-cb5a-4fa1-bff3-f7734440d865')\"\n",
              "                title=\"Suggest charts\"\n",
              "                style=\"display:none;\">\n",
              "\n",
              "<svg xmlns=\"http://www.w3.org/2000/svg\" height=\"24px\"viewBox=\"0 0 24 24\"\n",
              "     width=\"24px\">\n",
              "    <g>\n",
              "        <path d=\"M19 3H5c-1.1 0-2 .9-2 2v14c0 1.1.9 2 2 2h14c1.1 0 2-.9 2-2V5c0-1.1-.9-2-2-2zM9 17H7v-7h2v7zm4 0h-2V7h2v10zm4 0h-2v-4h2v4z\"/>\n",
              "    </g>\n",
              "</svg>\n",
              "      </button>\n",
              "\n",
              "<style>\n",
              "  .colab-df-quickchart {\n",
              "      --bg-color: #E8F0FE;\n",
              "      --fill-color: #1967D2;\n",
              "      --hover-bg-color: #E2EBFA;\n",
              "      --hover-fill-color: #174EA6;\n",
              "      --disabled-fill-color: #AAA;\n",
              "      --disabled-bg-color: #DDD;\n",
              "  }\n",
              "\n",
              "  [theme=dark] .colab-df-quickchart {\n",
              "      --bg-color: #3B4455;\n",
              "      --fill-color: #D2E3FC;\n",
              "      --hover-bg-color: #434B5C;\n",
              "      --hover-fill-color: #FFFFFF;\n",
              "      --disabled-bg-color: #3B4455;\n",
              "      --disabled-fill-color: #666;\n",
              "  }\n",
              "\n",
              "  .colab-df-quickchart {\n",
              "    background-color: var(--bg-color);\n",
              "    border: none;\n",
              "    border-radius: 50%;\n",
              "    cursor: pointer;\n",
              "    display: none;\n",
              "    fill: var(--fill-color);\n",
              "    height: 32px;\n",
              "    padding: 0;\n",
              "    width: 32px;\n",
              "  }\n",
              "\n",
              "  .colab-df-quickchart:hover {\n",
              "    background-color: var(--hover-bg-color);\n",
              "    box-shadow: 0 1px 2px rgba(60, 64, 67, 0.3), 0 1px 3px 1px rgba(60, 64, 67, 0.15);\n",
              "    fill: var(--button-hover-fill-color);\n",
              "  }\n",
              "\n",
              "  .colab-df-quickchart-complete:disabled,\n",
              "  .colab-df-quickchart-complete:disabled:hover {\n",
              "    background-color: var(--disabled-bg-color);\n",
              "    fill: var(--disabled-fill-color);\n",
              "    box-shadow: none;\n",
              "  }\n",
              "\n",
              "  .colab-df-spinner {\n",
              "    border: 2px solid var(--fill-color);\n",
              "    border-color: transparent;\n",
              "    border-bottom-color: var(--fill-color);\n",
              "    animation:\n",
              "      spin 1s steps(1) infinite;\n",
              "  }\n",
              "\n",
              "  @keyframes spin {\n",
              "    0% {\n",
              "      border-color: transparent;\n",
              "      border-bottom-color: var(--fill-color);\n",
              "      border-left-color: var(--fill-color);\n",
              "    }\n",
              "    20% {\n",
              "      border-color: transparent;\n",
              "      border-left-color: var(--fill-color);\n",
              "      border-top-color: var(--fill-color);\n",
              "    }\n",
              "    30% {\n",
              "      border-color: transparent;\n",
              "      border-left-color: var(--fill-color);\n",
              "      border-top-color: var(--fill-color);\n",
              "      border-right-color: var(--fill-color);\n",
              "    }\n",
              "    40% {\n",
              "      border-color: transparent;\n",
              "      border-right-color: var(--fill-color);\n",
              "      border-top-color: var(--fill-color);\n",
              "    }\n",
              "    60% {\n",
              "      border-color: transparent;\n",
              "      border-right-color: var(--fill-color);\n",
              "    }\n",
              "    80% {\n",
              "      border-color: transparent;\n",
              "      border-right-color: var(--fill-color);\n",
              "      border-bottom-color: var(--fill-color);\n",
              "    }\n",
              "    90% {\n",
              "      border-color: transparent;\n",
              "      border-bottom-color: var(--fill-color);\n",
              "    }\n",
              "  }\n",
              "</style>\n",
              "\n",
              "      <script>\n",
              "        async function quickchart(key) {\n",
              "          const quickchartButtonEl =\n",
              "            document.querySelector('#' + key + ' button');\n",
              "          quickchartButtonEl.disabled = true;  // To prevent multiple clicks.\n",
              "          quickchartButtonEl.classList.add('colab-df-spinner');\n",
              "          try {\n",
              "            const charts = await google.colab.kernel.invokeFunction(\n",
              "                'suggestCharts', [key], {});\n",
              "          } catch (error) {\n",
              "            console.error('Error during call to suggestCharts:', error);\n",
              "          }\n",
              "          quickchartButtonEl.classList.remove('colab-df-spinner');\n",
              "          quickchartButtonEl.classList.add('colab-df-quickchart-complete');\n",
              "        }\n",
              "        (() => {\n",
              "          let quickchartButtonEl =\n",
              "            document.querySelector('#df-93b8fc8d-cb5a-4fa1-bff3-f7734440d865 button');\n",
              "          quickchartButtonEl.style.display =\n",
              "            google.colab.kernel.accessAllowed ? 'block' : 'none';\n",
              "        })();\n",
              "      </script>\n",
              "    </div>\n",
              "\n",
              "    </div>\n",
              "  </div>\n"
            ],
            "application/vnd.google.colaboratory.intrinsic+json": {
              "type": "dataframe",
              "summary": "{\n  \"name\": \"df[df[\\\"before_count\\\"]==1]\",\n  \"rows\": 41,\n  \"fields\": [\n    {\n      \"column\": \"v1\",\n      \"properties\": {\n        \"dtype\": \"category\",\n        \"num_unique_values\": 1,\n        \"samples\": [\n          \"ham\"\n        ],\n        \"semantic_type\": \"\",\n        \"description\": \"\"\n      }\n    },\n    {\n      \"column\": \"v2\",\n      \"properties\": {\n        \"dtype\": \"category\",\n        \"num_unique_values\": 20,\n        \"samples\": [\n          \"Yup\"\n        ],\n        \"semantic_type\": \"\",\n        \"description\": \"\"\n      }\n    },\n    {\n      \"column\": \"before_count\",\n      \"properties\": {\n        \"dtype\": \"number\",\n        \"std\": 0,\n        \"min\": 1,\n        \"max\": 1,\n        \"num_unique_values\": 1,\n        \"samples\": [\n          1\n        ],\n        \"semantic_type\": \"\",\n        \"description\": \"\"\n      }\n    }\n  ]\n}"
            }
          },
          "metadata": {},
          "execution_count": 502
        }
      ]
    },
    {
      "cell_type": "code",
      "source": [
        "df[\"v1\"].value_counts(normalize=True)"
      ],
      "metadata": {
        "colab": {
          "base_uri": "https://localhost:8080/",
          "height": 178
        },
        "id": "Fc3jZboPZxhA",
        "outputId": "40fbfdb5-d17e-4b57-95cb-9db9f9c38511"
      },
      "execution_count": 503,
      "outputs": [
        {
          "output_type": "execute_result",
          "data": {
            "text/plain": [
              "v1\n",
              "ham     0.865937\n",
              "spam    0.134063\n",
              "Name: proportion, dtype: float64"
            ],
            "text/html": [
              "<div>\n",
              "<style scoped>\n",
              "    .dataframe tbody tr th:only-of-type {\n",
              "        vertical-align: middle;\n",
              "    }\n",
              "\n",
              "    .dataframe tbody tr th {\n",
              "        vertical-align: top;\n",
              "    }\n",
              "\n",
              "    .dataframe thead th {\n",
              "        text-align: right;\n",
              "    }\n",
              "</style>\n",
              "<table border=\"1\" class=\"dataframe\">\n",
              "  <thead>\n",
              "    <tr style=\"text-align: right;\">\n",
              "      <th></th>\n",
              "      <th>proportion</th>\n",
              "    </tr>\n",
              "    <tr>\n",
              "      <th>v1</th>\n",
              "      <th></th>\n",
              "    </tr>\n",
              "  </thead>\n",
              "  <tbody>\n",
              "    <tr>\n",
              "      <th>ham</th>\n",
              "      <td>0.865937</td>\n",
              "    </tr>\n",
              "    <tr>\n",
              "      <th>spam</th>\n",
              "      <td>0.134063</td>\n",
              "    </tr>\n",
              "  </tbody>\n",
              "</table>\n",
              "</div><br><label><b>dtype:</b> float64</label>"
            ]
          },
          "metadata": {},
          "execution_count": 503
        }
      ]
    },
    {
      "cell_type": "code",
      "source": [
        "# from imblearn.over_sampling import SMOTE\n",
        "# x = df[\"v2\"]\n",
        "# y = df[\"v1\"]\n",
        "\n",
        "# sm = SMOTE()\n",
        "# sm.fit_resample(x, y)"
      ],
      "metadata": {
        "id": "IvLK0We5Z3Kh"
      },
      "execution_count": 504,
      "outputs": []
    },
    {
      "cell_type": "code",
      "source": [
        "import pandas as pd\n",
        "dd = pd.read_csv(\"Churn.csv\")"
      ],
      "metadata": {
        "id": "l9eyKaFcbQ-E"
      },
      "execution_count": 505,
      "outputs": []
    },
    {
      "cell_type": "code",
      "source": [
        "dd.columns"
      ],
      "metadata": {
        "colab": {
          "base_uri": "https://localhost:8080/"
        },
        "id": "DTq84-awdgT6",
        "outputId": "891fcdda-d272-4fb1-c878-cbef42863c47"
      },
      "execution_count": 506,
      "outputs": [
        {
          "output_type": "execute_result",
          "data": {
            "text/plain": [
              "Index(['RowNumber', 'CustomerId', 'Surname', 'CreditScore', 'Geography',\n",
              "       'Gender', 'Age', 'Tenure', 'Balance', 'NumOfProducts', 'HasCrCard',\n",
              "       'IsActiveMember', 'EstimatedSalary', 'Exited'],\n",
              "      dtype='object')"
            ]
          },
          "metadata": {},
          "execution_count": 506
        }
      ]
    },
    {
      "cell_type": "code",
      "source": [
        "dd_n = dd.select_dtypes(include=\"number\")\n",
        "dd_n.columns"
      ],
      "metadata": {
        "colab": {
          "base_uri": "https://localhost:8080/"
        },
        "id": "-56cfoYmdhuJ",
        "outputId": "ecb777d1-7b67-482e-b0e0-4f5a4c1d5ffc"
      },
      "execution_count": 507,
      "outputs": [
        {
          "output_type": "execute_result",
          "data": {
            "text/plain": [
              "Index(['RowNumber', 'CustomerId', 'CreditScore', 'Age', 'Tenure', 'Balance',\n",
              "       'NumOfProducts', 'HasCrCard', 'IsActiveMember', 'EstimatedSalary',\n",
              "       'Exited'],\n",
              "      dtype='object')"
            ]
          },
          "metadata": {},
          "execution_count": 507
        }
      ]
    },
    {
      "cell_type": "code",
      "source": [
        "from imblearn.over_sampling import SMOTE\n",
        "x = dd_n.drop(\"Exited\", axis=1)\n",
        "y=dd[\"Exited\"]\n",
        "\n",
        "sm = SMOTE()\n",
        "x_over, y_over = sm.fit_resample(x, y)"
      ],
      "metadata": {
        "id": "T9qAF1NSdwvd"
      },
      "execution_count": 508,
      "outputs": []
    },
    {
      "cell_type": "code",
      "source": [
        "y.value_counts()"
      ],
      "metadata": {
        "colab": {
          "base_uri": "https://localhost:8080/",
          "height": 178
        },
        "id": "_0gPYTeAdpqu",
        "outputId": "2b49f9c0-fa46-445b-de40-23bc98e687c2"
      },
      "execution_count": 509,
      "outputs": [
        {
          "output_type": "execute_result",
          "data": {
            "text/plain": [
              "Exited\n",
              "0    7963\n",
              "1    2037\n",
              "Name: count, dtype: int64"
            ],
            "text/html": [
              "<div>\n",
              "<style scoped>\n",
              "    .dataframe tbody tr th:only-of-type {\n",
              "        vertical-align: middle;\n",
              "    }\n",
              "\n",
              "    .dataframe tbody tr th {\n",
              "        vertical-align: top;\n",
              "    }\n",
              "\n",
              "    .dataframe thead th {\n",
              "        text-align: right;\n",
              "    }\n",
              "</style>\n",
              "<table border=\"1\" class=\"dataframe\">\n",
              "  <thead>\n",
              "    <tr style=\"text-align: right;\">\n",
              "      <th></th>\n",
              "      <th>count</th>\n",
              "    </tr>\n",
              "    <tr>\n",
              "      <th>Exited</th>\n",
              "      <th></th>\n",
              "    </tr>\n",
              "  </thead>\n",
              "  <tbody>\n",
              "    <tr>\n",
              "      <th>0</th>\n",
              "      <td>7963</td>\n",
              "    </tr>\n",
              "    <tr>\n",
              "      <th>1</th>\n",
              "      <td>2037</td>\n",
              "    </tr>\n",
              "  </tbody>\n",
              "</table>\n",
              "</div><br><label><b>dtype:</b> int64</label>"
            ]
          },
          "metadata": {},
          "execution_count": 509
        }
      ]
    },
    {
      "cell_type": "code",
      "source": [
        "y_over.value_counts()"
      ],
      "metadata": {
        "colab": {
          "base_uri": "https://localhost:8080/",
          "height": 178
        },
        "id": "PyMq40Vddz-O",
        "outputId": "ec382d4b-bfba-47e8-9d2a-7b7d599a1d8c"
      },
      "execution_count": 510,
      "outputs": [
        {
          "output_type": "execute_result",
          "data": {
            "text/plain": [
              "Exited\n",
              "1    7963\n",
              "0    7963\n",
              "Name: count, dtype: int64"
            ],
            "text/html": [
              "<div>\n",
              "<style scoped>\n",
              "    .dataframe tbody tr th:only-of-type {\n",
              "        vertical-align: middle;\n",
              "    }\n",
              "\n",
              "    .dataframe tbody tr th {\n",
              "        vertical-align: top;\n",
              "    }\n",
              "\n",
              "    .dataframe thead th {\n",
              "        text-align: right;\n",
              "    }\n",
              "</style>\n",
              "<table border=\"1\" class=\"dataframe\">\n",
              "  <thead>\n",
              "    <tr style=\"text-align: right;\">\n",
              "      <th></th>\n",
              "      <th>count</th>\n",
              "    </tr>\n",
              "    <tr>\n",
              "      <th>Exited</th>\n",
              "      <th></th>\n",
              "    </tr>\n",
              "  </thead>\n",
              "  <tbody>\n",
              "    <tr>\n",
              "      <th>1</th>\n",
              "      <td>7963</td>\n",
              "    </tr>\n",
              "    <tr>\n",
              "      <th>0</th>\n",
              "      <td>7963</td>\n",
              "    </tr>\n",
              "  </tbody>\n",
              "</table>\n",
              "</div><br><label><b>dtype:</b> int64</label>"
            ]
          },
          "metadata": {},
          "execution_count": 510
        }
      ]
    },
    {
      "cell_type": "code",
      "source": [
        "# df[\"v2\"] = df[\"v2\"].apply(lambda x: x.lower())"
      ],
      "metadata": {
        "id": "rH9GvtIed2OR"
      },
      "execution_count": 511,
      "outputs": []
    },
    {
      "cell_type": "code",
      "source": [
        "import string\n",
        "# string.punctuation\n",
        "w4.extend(string.punctuation)\n",
        "print(w4)"
      ],
      "metadata": {
        "colab": {
          "base_uri": "https://localhost:8080/"
        },
        "id": "FvSFanr7d7qD",
        "outputId": "fb875633-649e-49a6-d51e-270b900f87f2"
      },
      "execution_count": 512,
      "outputs": [
        {
          "output_type": "stream",
          "name": "stdout",
          "text": [
            "['a', 'about', 'above', 'after', 'again', 'against', 'ain', 'all', 'am', 'an', 'and', 'any', 'are', 'aren', \"aren't\", 'as', 'at', 'be', 'because', 'been', 'before', 'being', 'below', 'between', 'both', 'but', 'by', 'can', 'couldn', \"couldn't\", 'd', 'did', 'didn', \"didn't\", 'do', 'does', 'doesn', \"doesn't\", 'doing', 'don', \"don't\", 'down', 'during', 'each', 'few', 'for', 'from', 'further', 'had', 'hadn', \"hadn't\", 'has', 'hasn', \"hasn't\", 'have', 'haven', \"haven't\", 'having', 'he', \"he'd\", \"he'll\", 'her', 'here', 'hers', 'herself', \"he's\", 'him', 'himself', 'his', 'how', 'i', \"i'd\", 'if', \"i'll\", \"i'm\", 'in', 'into', 'is', 'isn', \"isn't\", 'it', \"it'd\", \"it'll\", \"it's\", 'its', 'itself', \"i've\", 'just', 'll', 'm', 'ma', 'me', 'mightn', \"mightn't\", 'more', 'most', 'mustn', \"mustn't\", 'my', 'myself', 'needn', \"needn't\", 'no', 'nor', 'not', 'now', 'o', 'of', 'off', 'on', 'once', 'only', 'or', 'other', 'our', 'ours', 'ourselves', 'out', 'over', 'own', 're', 's', 'same', 'shan', \"shan't\", 'she', \"she'd\", \"she'll\", \"she's\", 'should', 'shouldn', \"shouldn't\", \"should've\", 'so', 'some', 'such', 't', 'than', 'that', \"that'll\", 'the', 'their', 'theirs', 'them', 'themselves', 'then', 'there', 'these', 'they', \"they'd\", \"they'll\", \"they're\", \"they've\", 'this', 'those', 'through', 'to', 'too', 'under', 'until', 'up', 've', 'very', 'was', 'wasn', \"wasn't\", 'we', \"we'd\", \"we'll\", \"we're\", 'were', 'weren', \"weren't\", \"we've\", 'what', 'when', 'where', 'which', 'while', 'who', 'whom', 'why', 'will', 'with', 'won', \"won't\", 'wouldn', \"wouldn't\", 'y', 'you', \"you'd\", \"you'll\", 'your', \"you're\", 'yours', 'yourself', 'yourselves', \"you've\", '!', '\"', '#', '$', '%', '&', \"'\", '(', ')', '*', '+', ',', '-', '.', '/', ':', ';', '<', '=', '>', '?', '@', '[', '\\\\', ']', '^', '_', '`', '{', '|', '}', '~']\n"
          ]
        }
      ]
    },
    {
      "cell_type": "code",
      "source": [
        "d6 = \"lets ... eat, ... grandpa\"\n",
        "[i for i in word_tokenize(d6) if len(i)>1]"
      ],
      "metadata": {
        "colab": {
          "base_uri": "https://localhost:8080/"
        },
        "id": "GiETlSyIh0Sx",
        "outputId": "92958dd4-6939-4af2-d4f1-f3c977eef9db"
      },
      "execution_count": 513,
      "outputs": [
        {
          "output_type": "execute_result",
          "data": {
            "text/plain": [
              "['lets', '...', 'eat', '...', 'grandpa']"
            ]
          },
          "metadata": {},
          "execution_count": 513
        }
      ]
    },
    {
      "cell_type": "code",
      "source": [
        "# let's eat grandpa\n",
        "def cleaning(example):\n",
        "  d61 = re.sub(\"[^a-z]\", \" \", example)\n",
        "  res = re.sub(\"\\s+\", \" \", d61)\n",
        "  res = res.strip()\n",
        "  res1 = \" \".join([i for i in word_tokenize(res) if len(i)>2])\n",
        "\n",
        "  return res1\n"
      ],
      "metadata": {
        "colab": {
          "base_uri": "https://localhost:8080/"
        },
        "id": "ab7UXkXNhaXW",
        "outputId": "3b685d14-ee42-4cc9-94af-5e161700f569"
      },
      "execution_count": 514,
      "outputs": [
        {
          "output_type": "stream",
          "name": "stderr",
          "text": [
            "<>:4: SyntaxWarning: invalid escape sequence '\\s'\n",
            "<>:4: SyntaxWarning: invalid escape sequence '\\s'\n",
            "/tmp/ipython-input-2667093949.py:4: SyntaxWarning: invalid escape sequence '\\s'\n",
            "  res = re.sub(\"\\s+\", \" \", d61)\n"
          ]
        }
      ]
    },
    {
      "cell_type": "code",
      "source": [
        "all_text = \" \".join(df[\"v2\"])"
      ],
      "metadata": {
        "id": "l_MpPOtjeCtT"
      },
      "execution_count": 515,
      "outputs": []
    },
    {
      "cell_type": "code",
      "source": [
        "from collections import Counter\n",
        "word_counts = Counter(all_text.split())"
      ],
      "metadata": {
        "id": "HZRLMNRRec4c"
      },
      "execution_count": 516,
      "outputs": []
    },
    {
      "cell_type": "code",
      "source": [
        "df[\"v2\"] = df[\"v2\"].apply(lambda x: \" \".join([i for i in word_tokenize(x) if i not in w4]))"
      ],
      "metadata": {
        "id": "kXF2M0XUfRGJ"
      },
      "execution_count": 517,
      "outputs": []
    },
    {
      "cell_type": "code",
      "source": [
        "df[\"v2\"] = df[\"v2\"].apply(cleaning)"
      ],
      "metadata": {
        "id": "RzHmrU9ihWNI"
      },
      "execution_count": 518,
      "outputs": []
    },
    {
      "cell_type": "code",
      "source": [
        "d7 = pd.DataFrame(word_counts.items(), columns=[\"word\", \"count\"]).sort_values(by=\"count\", ascending=False)"
      ],
      "metadata": {
        "id": "dnKFdY7nemzy"
      },
      "execution_count": 519,
      "outputs": []
    },
    {
      "cell_type": "code",
      "source": [
        "len(d7[d7[\"count\"]==1][\"word\"].values)"
      ],
      "metadata": {
        "colab": {
          "base_uri": "https://localhost:8080/"
        },
        "id": "u15MAZJ-e92v",
        "outputId": "90e9a05a-334c-40bc-c524-c6fc946bc08e"
      },
      "execution_count": 520,
      "outputs": [
        {
          "output_type": "execute_result",
          "data": {
            "text/plain": [
              "9268"
            ]
          },
          "metadata": {},
          "execution_count": 520
        }
      ]
    },
    {
      "cell_type": "code",
      "source": [
        "df[\"after\"] = df[\"v2\"].apply(lambda x: len(x.split()))"
      ],
      "metadata": {
        "id": "jp9cQ0gt7HEt"
      },
      "execution_count": 521,
      "outputs": []
    },
    {
      "cell_type": "code",
      "source": [
        "df.describe()"
      ],
      "metadata": {
        "colab": {
          "base_uri": "https://localhost:8080/",
          "height": 300
        },
        "id": "68zZtOuX74Jg",
        "outputId": "f7b00b30-76d1-4190-828d-3d99ac5a7fa4"
      },
      "execution_count": 522,
      "outputs": [
        {
          "output_type": "execute_result",
          "data": {
            "text/plain": [
              "       before_count        after\n",
              "count   5572.000000  5572.000000\n",
              "mean      15.494436     7.316403\n",
              "std       11.329427     5.539130\n",
              "min        1.000000     0.000000\n",
              "25%        7.000000     3.000000\n",
              "50%       12.000000     6.000000\n",
              "75%       23.000000    10.000000\n",
              "max      171.000000    85.000000"
            ],
            "text/html": [
              "\n",
              "  <div id=\"df-d46b8471-e54a-4fc3-8a93-7ee2593a78bb\" class=\"colab-df-container\">\n",
              "    <div>\n",
              "<style scoped>\n",
              "    .dataframe tbody tr th:only-of-type {\n",
              "        vertical-align: middle;\n",
              "    }\n",
              "\n",
              "    .dataframe tbody tr th {\n",
              "        vertical-align: top;\n",
              "    }\n",
              "\n",
              "    .dataframe thead th {\n",
              "        text-align: right;\n",
              "    }\n",
              "</style>\n",
              "<table border=\"1\" class=\"dataframe\">\n",
              "  <thead>\n",
              "    <tr style=\"text-align: right;\">\n",
              "      <th></th>\n",
              "      <th>before_count</th>\n",
              "      <th>after</th>\n",
              "    </tr>\n",
              "  </thead>\n",
              "  <tbody>\n",
              "    <tr>\n",
              "      <th>count</th>\n",
              "      <td>5572.000000</td>\n",
              "      <td>5572.000000</td>\n",
              "    </tr>\n",
              "    <tr>\n",
              "      <th>mean</th>\n",
              "      <td>15.494436</td>\n",
              "      <td>7.316403</td>\n",
              "    </tr>\n",
              "    <tr>\n",
              "      <th>std</th>\n",
              "      <td>11.329427</td>\n",
              "      <td>5.539130</td>\n",
              "    </tr>\n",
              "    <tr>\n",
              "      <th>min</th>\n",
              "      <td>1.000000</td>\n",
              "      <td>0.000000</td>\n",
              "    </tr>\n",
              "    <tr>\n",
              "      <th>25%</th>\n",
              "      <td>7.000000</td>\n",
              "      <td>3.000000</td>\n",
              "    </tr>\n",
              "    <tr>\n",
              "      <th>50%</th>\n",
              "      <td>12.000000</td>\n",
              "      <td>6.000000</td>\n",
              "    </tr>\n",
              "    <tr>\n",
              "      <th>75%</th>\n",
              "      <td>23.000000</td>\n",
              "      <td>10.000000</td>\n",
              "    </tr>\n",
              "    <tr>\n",
              "      <th>max</th>\n",
              "      <td>171.000000</td>\n",
              "      <td>85.000000</td>\n",
              "    </tr>\n",
              "  </tbody>\n",
              "</table>\n",
              "</div>\n",
              "    <div class=\"colab-df-buttons\">\n",
              "\n",
              "  <div class=\"colab-df-container\">\n",
              "    <button class=\"colab-df-convert\" onclick=\"convertToInteractive('df-d46b8471-e54a-4fc3-8a93-7ee2593a78bb')\"\n",
              "            title=\"Convert this dataframe to an interactive table.\"\n",
              "            style=\"display:none;\">\n",
              "\n",
              "  <svg xmlns=\"http://www.w3.org/2000/svg\" height=\"24px\" viewBox=\"0 -960 960 960\">\n",
              "    <path d=\"M120-120v-720h720v720H120Zm60-500h600v-160H180v160Zm220 220h160v-160H400v160Zm0 220h160v-160H400v160ZM180-400h160v-160H180v160Zm440 0h160v-160H620v160ZM180-180h160v-160H180v160Zm440 0h160v-160H620v160Z\"/>\n",
              "  </svg>\n",
              "    </button>\n",
              "\n",
              "  <style>\n",
              "    .colab-df-container {\n",
              "      display:flex;\n",
              "      gap: 12px;\n",
              "    }\n",
              "\n",
              "    .colab-df-convert {\n",
              "      background-color: #E8F0FE;\n",
              "      border: none;\n",
              "      border-radius: 50%;\n",
              "      cursor: pointer;\n",
              "      display: none;\n",
              "      fill: #1967D2;\n",
              "      height: 32px;\n",
              "      padding: 0 0 0 0;\n",
              "      width: 32px;\n",
              "    }\n",
              "\n",
              "    .colab-df-convert:hover {\n",
              "      background-color: #E2EBFA;\n",
              "      box-shadow: 0px 1px 2px rgba(60, 64, 67, 0.3), 0px 1px 3px 1px rgba(60, 64, 67, 0.15);\n",
              "      fill: #174EA6;\n",
              "    }\n",
              "\n",
              "    .colab-df-buttons div {\n",
              "      margin-bottom: 4px;\n",
              "    }\n",
              "\n",
              "    [theme=dark] .colab-df-convert {\n",
              "      background-color: #3B4455;\n",
              "      fill: #D2E3FC;\n",
              "    }\n",
              "\n",
              "    [theme=dark] .colab-df-convert:hover {\n",
              "      background-color: #434B5C;\n",
              "      box-shadow: 0px 1px 3px 1px rgba(0, 0, 0, 0.15);\n",
              "      filter: drop-shadow(0px 1px 2px rgba(0, 0, 0, 0.3));\n",
              "      fill: #FFFFFF;\n",
              "    }\n",
              "  </style>\n",
              "\n",
              "    <script>\n",
              "      const buttonEl =\n",
              "        document.querySelector('#df-d46b8471-e54a-4fc3-8a93-7ee2593a78bb button.colab-df-convert');\n",
              "      buttonEl.style.display =\n",
              "        google.colab.kernel.accessAllowed ? 'block' : 'none';\n",
              "\n",
              "      async function convertToInteractive(key) {\n",
              "        const element = document.querySelector('#df-d46b8471-e54a-4fc3-8a93-7ee2593a78bb');\n",
              "        const dataTable =\n",
              "          await google.colab.kernel.invokeFunction('convertToInteractive',\n",
              "                                                    [key], {});\n",
              "        if (!dataTable) return;\n",
              "\n",
              "        const docLinkHtml = 'Like what you see? Visit the ' +\n",
              "          '<a target=\"_blank\" href=https://colab.research.google.com/notebooks/data_table.ipynb>data table notebook</a>'\n",
              "          + ' to learn more about interactive tables.';\n",
              "        element.innerHTML = '';\n",
              "        dataTable['output_type'] = 'display_data';\n",
              "        await google.colab.output.renderOutput(dataTable, element);\n",
              "        const docLink = document.createElement('div');\n",
              "        docLink.innerHTML = docLinkHtml;\n",
              "        element.appendChild(docLink);\n",
              "      }\n",
              "    </script>\n",
              "  </div>\n",
              "\n",
              "\n",
              "    <div id=\"df-ae9df44b-7b66-4400-9ec6-1f8bf3b12df3\">\n",
              "      <button class=\"colab-df-quickchart\" onclick=\"quickchart('df-ae9df44b-7b66-4400-9ec6-1f8bf3b12df3')\"\n",
              "                title=\"Suggest charts\"\n",
              "                style=\"display:none;\">\n",
              "\n",
              "<svg xmlns=\"http://www.w3.org/2000/svg\" height=\"24px\"viewBox=\"0 0 24 24\"\n",
              "     width=\"24px\">\n",
              "    <g>\n",
              "        <path d=\"M19 3H5c-1.1 0-2 .9-2 2v14c0 1.1.9 2 2 2h14c1.1 0 2-.9 2-2V5c0-1.1-.9-2-2-2zM9 17H7v-7h2v7zm4 0h-2V7h2v10zm4 0h-2v-4h2v4z\"/>\n",
              "    </g>\n",
              "</svg>\n",
              "      </button>\n",
              "\n",
              "<style>\n",
              "  .colab-df-quickchart {\n",
              "      --bg-color: #E8F0FE;\n",
              "      --fill-color: #1967D2;\n",
              "      --hover-bg-color: #E2EBFA;\n",
              "      --hover-fill-color: #174EA6;\n",
              "      --disabled-fill-color: #AAA;\n",
              "      --disabled-bg-color: #DDD;\n",
              "  }\n",
              "\n",
              "  [theme=dark] .colab-df-quickchart {\n",
              "      --bg-color: #3B4455;\n",
              "      --fill-color: #D2E3FC;\n",
              "      --hover-bg-color: #434B5C;\n",
              "      --hover-fill-color: #FFFFFF;\n",
              "      --disabled-bg-color: #3B4455;\n",
              "      --disabled-fill-color: #666;\n",
              "  }\n",
              "\n",
              "  .colab-df-quickchart {\n",
              "    background-color: var(--bg-color);\n",
              "    border: none;\n",
              "    border-radius: 50%;\n",
              "    cursor: pointer;\n",
              "    display: none;\n",
              "    fill: var(--fill-color);\n",
              "    height: 32px;\n",
              "    padding: 0;\n",
              "    width: 32px;\n",
              "  }\n",
              "\n",
              "  .colab-df-quickchart:hover {\n",
              "    background-color: var(--hover-bg-color);\n",
              "    box-shadow: 0 1px 2px rgba(60, 64, 67, 0.3), 0 1px 3px 1px rgba(60, 64, 67, 0.15);\n",
              "    fill: var(--button-hover-fill-color);\n",
              "  }\n",
              "\n",
              "  .colab-df-quickchart-complete:disabled,\n",
              "  .colab-df-quickchart-complete:disabled:hover {\n",
              "    background-color: var(--disabled-bg-color);\n",
              "    fill: var(--disabled-fill-color);\n",
              "    box-shadow: none;\n",
              "  }\n",
              "\n",
              "  .colab-df-spinner {\n",
              "    border: 2px solid var(--fill-color);\n",
              "    border-color: transparent;\n",
              "    border-bottom-color: var(--fill-color);\n",
              "    animation:\n",
              "      spin 1s steps(1) infinite;\n",
              "  }\n",
              "\n",
              "  @keyframes spin {\n",
              "    0% {\n",
              "      border-color: transparent;\n",
              "      border-bottom-color: var(--fill-color);\n",
              "      border-left-color: var(--fill-color);\n",
              "    }\n",
              "    20% {\n",
              "      border-color: transparent;\n",
              "      border-left-color: var(--fill-color);\n",
              "      border-top-color: var(--fill-color);\n",
              "    }\n",
              "    30% {\n",
              "      border-color: transparent;\n",
              "      border-left-color: var(--fill-color);\n",
              "      border-top-color: var(--fill-color);\n",
              "      border-right-color: var(--fill-color);\n",
              "    }\n",
              "    40% {\n",
              "      border-color: transparent;\n",
              "      border-right-color: var(--fill-color);\n",
              "      border-top-color: var(--fill-color);\n",
              "    }\n",
              "    60% {\n",
              "      border-color: transparent;\n",
              "      border-right-color: var(--fill-color);\n",
              "    }\n",
              "    80% {\n",
              "      border-color: transparent;\n",
              "      border-right-color: var(--fill-color);\n",
              "      border-bottom-color: var(--fill-color);\n",
              "    }\n",
              "    90% {\n",
              "      border-color: transparent;\n",
              "      border-bottom-color: var(--fill-color);\n",
              "    }\n",
              "  }\n",
              "</style>\n",
              "\n",
              "      <script>\n",
              "        async function quickchart(key) {\n",
              "          const quickchartButtonEl =\n",
              "            document.querySelector('#' + key + ' button');\n",
              "          quickchartButtonEl.disabled = true;  // To prevent multiple clicks.\n",
              "          quickchartButtonEl.classList.add('colab-df-spinner');\n",
              "          try {\n",
              "            const charts = await google.colab.kernel.invokeFunction(\n",
              "                'suggestCharts', [key], {});\n",
              "          } catch (error) {\n",
              "            console.error('Error during call to suggestCharts:', error);\n",
              "          }\n",
              "          quickchartButtonEl.classList.remove('colab-df-spinner');\n",
              "          quickchartButtonEl.classList.add('colab-df-quickchart-complete');\n",
              "        }\n",
              "        (() => {\n",
              "          let quickchartButtonEl =\n",
              "            document.querySelector('#df-ae9df44b-7b66-4400-9ec6-1f8bf3b12df3 button');\n",
              "          quickchartButtonEl.style.display =\n",
              "            google.colab.kernel.accessAllowed ? 'block' : 'none';\n",
              "        })();\n",
              "      </script>\n",
              "    </div>\n",
              "\n",
              "    </div>\n",
              "  </div>\n"
            ],
            "application/vnd.google.colaboratory.intrinsic+json": {
              "type": "dataframe",
              "summary": "{\n  \"name\": \"df\",\n  \"rows\": 8,\n  \"fields\": [\n    {\n      \"column\": \"before_count\",\n      \"properties\": {\n        \"dtype\": \"number\",\n        \"std\": 1958.6402453452638,\n        \"min\": 1.0,\n        \"max\": 5572.0,\n        \"num_unique_values\": 8,\n        \"samples\": [\n          15.494436468054559,\n          12.0,\n          5572.0\n        ],\n        \"semantic_type\": \"\",\n        \"description\": \"\"\n      }\n    },\n    {\n      \"column\": \"after\",\n      \"properties\": {\n        \"dtype\": \"number\",\n        \"std\": 1964.2975317341204,\n        \"min\": 0.0,\n        \"max\": 5572.0,\n        \"num_unique_values\": 8,\n        \"samples\": [\n          7.316403445800431,\n          6.0,\n          5572.0\n        ],\n        \"semantic_type\": \"\",\n        \"description\": \"\"\n      }\n    }\n  ]\n}"
            }
          },
          "metadata": {},
          "execution_count": 522
        }
      ]
    },
    {
      "cell_type": "code",
      "source": [
        "df[df[\"after\"]!=0]"
      ],
      "metadata": {
        "colab": {
          "base_uri": "https://localhost:8080/",
          "height": 424
        },
        "id": "OvtuAHSS78Ru",
        "outputId": "ca72fb64-83be-4e14-cea0-8e656a94e7f4"
      },
      "execution_count": 523,
      "outputs": [
        {
          "output_type": "execute_result",
          "data": {
            "text/plain": [
              "        v1                                                 v2  before_count  \\\n",
              "0      ham  jurong point crazy vailable bugis great world ...            20   \n",
              "1      ham                                  lar oking wif oni             6   \n",
              "2     spam  ree entry wkly comp win final tkts ext receive...            28   \n",
              "3      ham                      dun say early hor already say            11   \n",
              "4      ham                 think goes usf lives around though            13   \n",
              "...    ...                                                ...           ...   \n",
              "5567  spam  his time tried contact ound prize claim easy c...            30   \n",
              "5568   ham                           ill going esplanade home             8   \n",
              "5569   ham                               ity mood suggestions            10   \n",
              "5570   ham  guy bitching acted like interested buying some...            26   \n",
              "5571   ham                                      ofl true name             6   \n",
              "\n",
              "      after  \n",
              "0        12  \n",
              "1         4  \n",
              "2        16  \n",
              "3         6  \n",
              "4         6  \n",
              "...     ...  \n",
              "5567     14  \n",
              "5568      4  \n",
              "5569      3  \n",
              "5570     12  \n",
              "5571      3  \n",
              "\n",
              "[5416 rows x 4 columns]"
            ],
            "text/html": [
              "\n",
              "  <div id=\"df-c10a4b14-4546-41e7-acd6-4d8ac5008ddf\" class=\"colab-df-container\">\n",
              "    <div>\n",
              "<style scoped>\n",
              "    .dataframe tbody tr th:only-of-type {\n",
              "        vertical-align: middle;\n",
              "    }\n",
              "\n",
              "    .dataframe tbody tr th {\n",
              "        vertical-align: top;\n",
              "    }\n",
              "\n",
              "    .dataframe thead th {\n",
              "        text-align: right;\n",
              "    }\n",
              "</style>\n",
              "<table border=\"1\" class=\"dataframe\">\n",
              "  <thead>\n",
              "    <tr style=\"text-align: right;\">\n",
              "      <th></th>\n",
              "      <th>v1</th>\n",
              "      <th>v2</th>\n",
              "      <th>before_count</th>\n",
              "      <th>after</th>\n",
              "    </tr>\n",
              "  </thead>\n",
              "  <tbody>\n",
              "    <tr>\n",
              "      <th>0</th>\n",
              "      <td>ham</td>\n",
              "      <td>jurong point crazy vailable bugis great world ...</td>\n",
              "      <td>20</td>\n",
              "      <td>12</td>\n",
              "    </tr>\n",
              "    <tr>\n",
              "      <th>1</th>\n",
              "      <td>ham</td>\n",
              "      <td>lar oking wif oni</td>\n",
              "      <td>6</td>\n",
              "      <td>4</td>\n",
              "    </tr>\n",
              "    <tr>\n",
              "      <th>2</th>\n",
              "      <td>spam</td>\n",
              "      <td>ree entry wkly comp win final tkts ext receive...</td>\n",
              "      <td>28</td>\n",
              "      <td>16</td>\n",
              "    </tr>\n",
              "    <tr>\n",
              "      <th>3</th>\n",
              "      <td>ham</td>\n",
              "      <td>dun say early hor already say</td>\n",
              "      <td>11</td>\n",
              "      <td>6</td>\n",
              "    </tr>\n",
              "    <tr>\n",
              "      <th>4</th>\n",
              "      <td>ham</td>\n",
              "      <td>think goes usf lives around though</td>\n",
              "      <td>13</td>\n",
              "      <td>6</td>\n",
              "    </tr>\n",
              "    <tr>\n",
              "      <th>...</th>\n",
              "      <td>...</td>\n",
              "      <td>...</td>\n",
              "      <td>...</td>\n",
              "      <td>...</td>\n",
              "    </tr>\n",
              "    <tr>\n",
              "      <th>5567</th>\n",
              "      <td>spam</td>\n",
              "      <td>his time tried contact ound prize claim easy c...</td>\n",
              "      <td>30</td>\n",
              "      <td>14</td>\n",
              "    </tr>\n",
              "    <tr>\n",
              "      <th>5568</th>\n",
              "      <td>ham</td>\n",
              "      <td>ill going esplanade home</td>\n",
              "      <td>8</td>\n",
              "      <td>4</td>\n",
              "    </tr>\n",
              "    <tr>\n",
              "      <th>5569</th>\n",
              "      <td>ham</td>\n",
              "      <td>ity mood suggestions</td>\n",
              "      <td>10</td>\n",
              "      <td>3</td>\n",
              "    </tr>\n",
              "    <tr>\n",
              "      <th>5570</th>\n",
              "      <td>ham</td>\n",
              "      <td>guy bitching acted like interested buying some...</td>\n",
              "      <td>26</td>\n",
              "      <td>12</td>\n",
              "    </tr>\n",
              "    <tr>\n",
              "      <th>5571</th>\n",
              "      <td>ham</td>\n",
              "      <td>ofl true name</td>\n",
              "      <td>6</td>\n",
              "      <td>3</td>\n",
              "    </tr>\n",
              "  </tbody>\n",
              "</table>\n",
              "<p>5416 rows × 4 columns</p>\n",
              "</div>\n",
              "    <div class=\"colab-df-buttons\">\n",
              "\n",
              "  <div class=\"colab-df-container\">\n",
              "    <button class=\"colab-df-convert\" onclick=\"convertToInteractive('df-c10a4b14-4546-41e7-acd6-4d8ac5008ddf')\"\n",
              "            title=\"Convert this dataframe to an interactive table.\"\n",
              "            style=\"display:none;\">\n",
              "\n",
              "  <svg xmlns=\"http://www.w3.org/2000/svg\" height=\"24px\" viewBox=\"0 -960 960 960\">\n",
              "    <path d=\"M120-120v-720h720v720H120Zm60-500h600v-160H180v160Zm220 220h160v-160H400v160Zm0 220h160v-160H400v160ZM180-400h160v-160H180v160Zm440 0h160v-160H620v160ZM180-180h160v-160H180v160Zm440 0h160v-160H620v160Z\"/>\n",
              "  </svg>\n",
              "    </button>\n",
              "\n",
              "  <style>\n",
              "    .colab-df-container {\n",
              "      display:flex;\n",
              "      gap: 12px;\n",
              "    }\n",
              "\n",
              "    .colab-df-convert {\n",
              "      background-color: #E8F0FE;\n",
              "      border: none;\n",
              "      border-radius: 50%;\n",
              "      cursor: pointer;\n",
              "      display: none;\n",
              "      fill: #1967D2;\n",
              "      height: 32px;\n",
              "      padding: 0 0 0 0;\n",
              "      width: 32px;\n",
              "    }\n",
              "\n",
              "    .colab-df-convert:hover {\n",
              "      background-color: #E2EBFA;\n",
              "      box-shadow: 0px 1px 2px rgba(60, 64, 67, 0.3), 0px 1px 3px 1px rgba(60, 64, 67, 0.15);\n",
              "      fill: #174EA6;\n",
              "    }\n",
              "\n",
              "    .colab-df-buttons div {\n",
              "      margin-bottom: 4px;\n",
              "    }\n",
              "\n",
              "    [theme=dark] .colab-df-convert {\n",
              "      background-color: #3B4455;\n",
              "      fill: #D2E3FC;\n",
              "    }\n",
              "\n",
              "    [theme=dark] .colab-df-convert:hover {\n",
              "      background-color: #434B5C;\n",
              "      box-shadow: 0px 1px 3px 1px rgba(0, 0, 0, 0.15);\n",
              "      filter: drop-shadow(0px 1px 2px rgba(0, 0, 0, 0.3));\n",
              "      fill: #FFFFFF;\n",
              "    }\n",
              "  </style>\n",
              "\n",
              "    <script>\n",
              "      const buttonEl =\n",
              "        document.querySelector('#df-c10a4b14-4546-41e7-acd6-4d8ac5008ddf button.colab-df-convert');\n",
              "      buttonEl.style.display =\n",
              "        google.colab.kernel.accessAllowed ? 'block' : 'none';\n",
              "\n",
              "      async function convertToInteractive(key) {\n",
              "        const element = document.querySelector('#df-c10a4b14-4546-41e7-acd6-4d8ac5008ddf');\n",
              "        const dataTable =\n",
              "          await google.colab.kernel.invokeFunction('convertToInteractive',\n",
              "                                                    [key], {});\n",
              "        if (!dataTable) return;\n",
              "\n",
              "        const docLinkHtml = 'Like what you see? Visit the ' +\n",
              "          '<a target=\"_blank\" href=https://colab.research.google.com/notebooks/data_table.ipynb>data table notebook</a>'\n",
              "          + ' to learn more about interactive tables.';\n",
              "        element.innerHTML = '';\n",
              "        dataTable['output_type'] = 'display_data';\n",
              "        await google.colab.output.renderOutput(dataTable, element);\n",
              "        const docLink = document.createElement('div');\n",
              "        docLink.innerHTML = docLinkHtml;\n",
              "        element.appendChild(docLink);\n",
              "      }\n",
              "    </script>\n",
              "  </div>\n",
              "\n",
              "\n",
              "    <div id=\"df-cf961525-d1ae-42d9-8526-77bf166e1c92\">\n",
              "      <button class=\"colab-df-quickchart\" onclick=\"quickchart('df-cf961525-d1ae-42d9-8526-77bf166e1c92')\"\n",
              "                title=\"Suggest charts\"\n",
              "                style=\"display:none;\">\n",
              "\n",
              "<svg xmlns=\"http://www.w3.org/2000/svg\" height=\"24px\"viewBox=\"0 0 24 24\"\n",
              "     width=\"24px\">\n",
              "    <g>\n",
              "        <path d=\"M19 3H5c-1.1 0-2 .9-2 2v14c0 1.1.9 2 2 2h14c1.1 0 2-.9 2-2V5c0-1.1-.9-2-2-2zM9 17H7v-7h2v7zm4 0h-2V7h2v10zm4 0h-2v-4h2v4z\"/>\n",
              "    </g>\n",
              "</svg>\n",
              "      </button>\n",
              "\n",
              "<style>\n",
              "  .colab-df-quickchart {\n",
              "      --bg-color: #E8F0FE;\n",
              "      --fill-color: #1967D2;\n",
              "      --hover-bg-color: #E2EBFA;\n",
              "      --hover-fill-color: #174EA6;\n",
              "      --disabled-fill-color: #AAA;\n",
              "      --disabled-bg-color: #DDD;\n",
              "  }\n",
              "\n",
              "  [theme=dark] .colab-df-quickchart {\n",
              "      --bg-color: #3B4455;\n",
              "      --fill-color: #D2E3FC;\n",
              "      --hover-bg-color: #434B5C;\n",
              "      --hover-fill-color: #FFFFFF;\n",
              "      --disabled-bg-color: #3B4455;\n",
              "      --disabled-fill-color: #666;\n",
              "  }\n",
              "\n",
              "  .colab-df-quickchart {\n",
              "    background-color: var(--bg-color);\n",
              "    border: none;\n",
              "    border-radius: 50%;\n",
              "    cursor: pointer;\n",
              "    display: none;\n",
              "    fill: var(--fill-color);\n",
              "    height: 32px;\n",
              "    padding: 0;\n",
              "    width: 32px;\n",
              "  }\n",
              "\n",
              "  .colab-df-quickchart:hover {\n",
              "    background-color: var(--hover-bg-color);\n",
              "    box-shadow: 0 1px 2px rgba(60, 64, 67, 0.3), 0 1px 3px 1px rgba(60, 64, 67, 0.15);\n",
              "    fill: var(--button-hover-fill-color);\n",
              "  }\n",
              "\n",
              "  .colab-df-quickchart-complete:disabled,\n",
              "  .colab-df-quickchart-complete:disabled:hover {\n",
              "    background-color: var(--disabled-bg-color);\n",
              "    fill: var(--disabled-fill-color);\n",
              "    box-shadow: none;\n",
              "  }\n",
              "\n",
              "  .colab-df-spinner {\n",
              "    border: 2px solid var(--fill-color);\n",
              "    border-color: transparent;\n",
              "    border-bottom-color: var(--fill-color);\n",
              "    animation:\n",
              "      spin 1s steps(1) infinite;\n",
              "  }\n",
              "\n",
              "  @keyframes spin {\n",
              "    0% {\n",
              "      border-color: transparent;\n",
              "      border-bottom-color: var(--fill-color);\n",
              "      border-left-color: var(--fill-color);\n",
              "    }\n",
              "    20% {\n",
              "      border-color: transparent;\n",
              "      border-left-color: var(--fill-color);\n",
              "      border-top-color: var(--fill-color);\n",
              "    }\n",
              "    30% {\n",
              "      border-color: transparent;\n",
              "      border-left-color: var(--fill-color);\n",
              "      border-top-color: var(--fill-color);\n",
              "      border-right-color: var(--fill-color);\n",
              "    }\n",
              "    40% {\n",
              "      border-color: transparent;\n",
              "      border-right-color: var(--fill-color);\n",
              "      border-top-color: var(--fill-color);\n",
              "    }\n",
              "    60% {\n",
              "      border-color: transparent;\n",
              "      border-right-color: var(--fill-color);\n",
              "    }\n",
              "    80% {\n",
              "      border-color: transparent;\n",
              "      border-right-color: var(--fill-color);\n",
              "      border-bottom-color: var(--fill-color);\n",
              "    }\n",
              "    90% {\n",
              "      border-color: transparent;\n",
              "      border-bottom-color: var(--fill-color);\n",
              "    }\n",
              "  }\n",
              "</style>\n",
              "\n",
              "      <script>\n",
              "        async function quickchart(key) {\n",
              "          const quickchartButtonEl =\n",
              "            document.querySelector('#' + key + ' button');\n",
              "          quickchartButtonEl.disabled = true;  // To prevent multiple clicks.\n",
              "          quickchartButtonEl.classList.add('colab-df-spinner');\n",
              "          try {\n",
              "            const charts = await google.colab.kernel.invokeFunction(\n",
              "                'suggestCharts', [key], {});\n",
              "          } catch (error) {\n",
              "            console.error('Error during call to suggestCharts:', error);\n",
              "          }\n",
              "          quickchartButtonEl.classList.remove('colab-df-spinner');\n",
              "          quickchartButtonEl.classList.add('colab-df-quickchart-complete');\n",
              "        }\n",
              "        (() => {\n",
              "          let quickchartButtonEl =\n",
              "            document.querySelector('#df-cf961525-d1ae-42d9-8526-77bf166e1c92 button');\n",
              "          quickchartButtonEl.style.display =\n",
              "            google.colab.kernel.accessAllowed ? 'block' : 'none';\n",
              "        })();\n",
              "      </script>\n",
              "    </div>\n",
              "\n",
              "    </div>\n",
              "  </div>\n"
            ],
            "application/vnd.google.colaboratory.intrinsic+json": {
              "type": "dataframe",
              "summary": "{\n  \"name\": \"df[df[\\\"after\\\"]!=0]\",\n  \"rows\": 5416,\n  \"fields\": [\n    {\n      \"column\": \"v1\",\n      \"properties\": {\n        \"dtype\": \"category\",\n        \"num_unique_values\": 2,\n        \"samples\": [\n          \"spam\",\n          \"ham\"\n        ],\n        \"semantic_type\": \"\",\n        \"description\": \"\"\n      }\n    },\n    {\n      \"column\": \"v2\",\n      \"properties\": {\n        \"dtype\": \"string\",\n        \"num_unique_values\": 4887,\n        \"samples\": [\n          \"eah thought lem know anything goin later\",\n          \"place man\"\n        ],\n        \"semantic_type\": \"\",\n        \"description\": \"\"\n      }\n    },\n    {\n      \"column\": \"before_count\",\n      \"properties\": {\n        \"dtype\": \"number\",\n        \"std\": 11,\n        \"min\": 1,\n        \"max\": 171,\n        \"num_unique_values\": 82,\n        \"samples\": [\n          7,\n          20\n        ],\n        \"semantic_type\": \"\",\n        \"description\": \"\"\n      }\n    },\n    {\n      \"column\": \"after\",\n      \"properties\": {\n        \"dtype\": \"number\",\n        \"std\": 5,\n        \"min\": 1,\n        \"max\": 85,\n        \"num_unique_values\": 45,\n        \"samples\": [\n          61,\n          26\n        ],\n        \"semantic_type\": \"\",\n        \"description\": \"\"\n      }\n    }\n  ]\n}"
            }
          },
          "metadata": {},
          "execution_count": 523
        }
      ]
    },
    {
      "cell_type": "code",
      "source": [
        "from wordcloud import WordCloud"
      ],
      "metadata": {
        "id": "hHesUvdi79zd"
      },
      "execution_count": 524,
      "outputs": []
    },
    {
      "cell_type": "code",
      "source": [
        "wc = WordCloud().generate(all_text)"
      ],
      "metadata": {
        "id": "ER_dirmr7_W7"
      },
      "execution_count": 525,
      "outputs": []
    },
    {
      "cell_type": "code",
      "source": [
        "import matplotlib.pyplot as plt\n",
        "plt.imshow(wc)"
      ],
      "metadata": {
        "colab": {
          "base_uri": "https://localhost:8080/",
          "height": 330
        },
        "id": "HD5pF5Rn8BTf",
        "outputId": "815c4e89-cea6-4341-bac9-3eb6bfe1459d"
      },
      "execution_count": 526,
      "outputs": [
        {
          "output_type": "execute_result",
          "data": {
            "text/plain": [
              "<matplotlib.image.AxesImage at 0x7fd1dc6ced50>"
            ]
          },
          "metadata": {},
          "execution_count": 526
        },
        {
          "output_type": "display_data",
          "data": {
            "text/plain": [
              "<Figure size 640x480 with 1 Axes>"
            ],
            "image/png": "[encoded data removed]"
          },
          "metadata": {}
        }
      ]
    },
    {
      "cell_type": "code",
      "source": [
        "spam = \" \".join(df[df[\"v1\"]==\"spam\"][\"v2\"])\n",
        "ham = \" \".join(df[df[\"v1\"]==\"ham\"][\"v2\"])"
      ],
      "metadata": {
        "id": "OnmqQmnA8Ecw"
      },
      "execution_count": 527,
      "outputs": []
    },
    {
      "cell_type": "code",
      "source": [
        "wc1 = WordCloud().generate(spam)\n",
        "plt.imshow(wc1)"
      ],
      "metadata": {
        "colab": {
          "base_uri": "https://localhost:8080/",
          "height": 330
        },
        "id": "WKqWlCLV8Ftj",
        "outputId": "35822ab9-5836-42dd-c38d-efdffd0aa700"
      },
      "execution_count": 528,
      "outputs": [
        {
          "output_type": "execute_result",
          "data": {
            "text/plain": [
              "<matplotlib.image.AxesImage at 0x7fd1edd1c140>"
            ]
          },
          "metadata": {},
          "execution_count": 528
        },
        {
          "output_type": "display_data",
          "data": {
            "text/plain": [
              "<Figure size 640x480 with 1 Axes>"
            ],
            "image/png": "[encoded data removed]"
          },
          "metadata": {}
        }
      ]
    },
    {
      "cell_type": "code",
      "source": [
        "wc2 = WordCloud().generate(ham)\n",
        "plt.imshow(wc2)"
      ],
      "metadata": {
        "colab": {
          "base_uri": "https://localhost:8080/",
          "height": 330
        },
        "id": "PQB63WVm9A9e",
        "outputId": "60136aef-ba5d-4033-d094-be22af334331"
      },
      "execution_count": 529,
      "outputs": [
        {
          "output_type": "execute_result",
          "data": {
            "text/plain": [
              "<matplotlib.image.AxesImage at 0x7fd1edcf9d90>"
            ]
          },
          "metadata": {},
          "execution_count": 529
        },
        {
          "output_type": "display_data",
          "data": {
            "text/plain": [
              "<Figure size 640x480 with 1 Axes>"
            ],
            "image/png": "[encoded data removed]"
          },
          "metadata": {}
        }
      ]
    },
    {
      "cell_type": "code",
      "source": [
        "from sklearn.feature_extraction.text import CountVectorizer, TfidfVectorizer"
      ],
      "metadata": {
        "id": "3tTmFFU89D8A"
      },
      "execution_count": 530,
      "outputs": []
    },
    {
      "cell_type": "code",
      "source": [
        "# !pip install english-words==1.0.2"
      ],
      "metadata": {
        "id": "qCQF-NJK9F9-"
      },
      "execution_count": 531,
      "outputs": []
    },
    {
      "cell_type": "code",
      "source": [
        "cv = CountVectorizer(ngram_range=(1,3), stop_words=\"english\", max_features=50)\n",
        "x = cv.fit_transform(d8)\n",
        "pd.DataFrame(x.toarray(), columns=cv.get_feature_names_out())"
      ],
      "metadata": {
        "colab": {
          "base_uri": "https://localhost:8080/",
          "height": 81
        },
        "id": "pcTeH_Uz9H7j",
        "outputId": "e8e4d073-0e9c-4816-d79c-04d047a181dd"
      },
      "execution_count": 532,
      "outputs": [
        {
          "output_type": "execute_result",
          "data": {
            "text/plain": [
              "   dog  saw  saw yellow  saw yellow dog  yellow  yellow dog\n",
              "0    1    1           1               1       1           1"
            ],
            "text/html": [
              "\n",
              "  <div id=\"df-d3351750-22db-4349-bdc5-bc65a8170346\" class=\"colab-df-container\">\n",
              "    <div>\n",
              "<style scoped>\n",
              "    .dataframe tbody tr th:only-of-type {\n",
              "        vertical-align: middle;\n",
              "    }\n",
              "\n",
              "    .dataframe tbody tr th {\n",
              "        vertical-align: top;\n",
              "    }\n",
              "\n",
              "    .dataframe thead th {\n",
              "        text-align: right;\n",
              "    }\n",
              "</style>\n",
              "<table border=\"1\" class=\"dataframe\">\n",
              "  <thead>\n",
              "    <tr style=\"text-align: right;\">\n",
              "      <th></th>\n",
              "      <th>dog</th>\n",
              "      <th>saw</th>\n",
              "      <th>saw yellow</th>\n",
              "      <th>saw yellow dog</th>\n",
              "      <th>yellow</th>\n",
              "      <th>yellow dog</th>\n",
              "    </tr>\n",
              "  </thead>\n",
              "  <tbody>\n",
              "    <tr>\n",
              "      <th>0</th>\n",
              "      <td>1</td>\n",
              "      <td>1</td>\n",
              "      <td>1</td>\n",
              "      <td>1</td>\n",
              "      <td>1</td>\n",
              "      <td>1</td>\n",
              "    </tr>\n",
              "  </tbody>\n",
              "</table>\n",
              "</div>\n",
              "    <div class=\"colab-df-buttons\">\n",
              "\n",
              "  <div class=\"colab-df-container\">\n",
              "    <button class=\"colab-df-convert\" onclick=\"convertToInteractive('df-d3351750-22db-4349-bdc5-bc65a8170346')\"\n",
              "            title=\"Convert this dataframe to an interactive table.\"\n",
              "            style=\"display:none;\">\n",
              "\n",
              "  <svg xmlns=\"http://www.w3.org/2000/svg\" height=\"24px\" viewBox=\"0 -960 960 960\">\n",
              "    <path d=\"M120-120v-720h720v720H120Zm60-500h600v-160H180v160Zm220 220h160v-160H400v160Zm0 220h160v-160H400v160ZM180-400h160v-160H180v160Zm440 0h160v-160H620v160ZM180-180h160v-160H180v160Zm440 0h160v-160H620v160Z\"/>\n",
              "  </svg>\n",
              "    </button>\n",
              "\n",
              "  <style>\n",
              "    .colab-df-container {\n",
              "      display:flex;\n",
              "      gap: 12px;\n",
              "    }\n",
              "\n",
              "    .colab-df-convert {\n",
              "      background-color: #E8F0FE;\n",
              "      border: none;\n",
              "      border-radius: 50%;\n",
              "      cursor: pointer;\n",
              "      display: none;\n",
              "      fill: #1967D2;\n",
              "      height: 32px;\n",
              "      padding: 0 0 0 0;\n",
              "      width: 32px;\n",
              "    }\n",
              "\n",
              "    .colab-df-convert:hover {\n",
              "      background-color: #E2EBFA;\n",
              "      box-shadow: 0px 1px 2px rgba(60, 64, 67, 0.3), 0px 1px 3px 1px rgba(60, 64, 67, 0.15);\n",
              "      fill: #174EA6;\n",
              "    }\n",
              "\n",
              "    .colab-df-buttons div {\n",
              "      margin-bottom: 4px;\n",
              "    }\n",
              "\n",
              "    [theme=dark] .colab-df-convert {\n",
              "      background-color: #3B4455;\n",
              "      fill: #D2E3FC;\n",
              "    }\n",
              "\n",
              "    [theme=dark] .colab-df-convert:hover {\n",
              "      background-color: #434B5C;\n",
              "      box-shadow: 0px 1px 3px 1px rgba(0, 0, 0, 0.15);\n",
              "      filter: drop-shadow(0px 1px 2px rgba(0, 0, 0, 0.3));\n",
              "      fill: #FFFFFF;\n",
              "    }\n",
              "  </style>\n",
              "\n",
              "    <script>\n",
              "      const buttonEl =\n",
              "        document.querySelector('#df-d3351750-22db-4349-bdc5-bc65a8170346 button.colab-df-convert');\n",
              "      buttonEl.style.display =\n",
              "        google.colab.kernel.accessAllowed ? 'block' : 'none';\n",
              "\n",
              "      async function convertToInteractive(key) {\n",
              "        const element = document.querySelector('#df-d3351750-22db-4349-bdc5-bc65a8170346');\n",
              "        const dataTable =\n",
              "          await google.colab.kernel.invokeFunction('convertToInteractive',\n",
              "                                                    [key], {});\n",
              "        if (!dataTable) return;\n",
              "\n",
              "        const docLinkHtml = 'Like what you see? Visit the ' +\n",
              "          '<a target=\"_blank\" href=https://colab.research.google.com/notebooks/data_table.ipynb>data table notebook</a>'\n",
              "          + ' to learn more about interactive tables.';\n",
              "        element.innerHTML = '';\n",
              "        dataTable['output_type'] = 'display_data';\n",
              "        await google.colab.output.renderOutput(dataTable, element);\n",
              "        const docLink = document.createElement('div');\n",
              "        docLink.innerHTML = docLinkHtml;\n",
              "        element.appendChild(docLink);\n",
              "      }\n",
              "    </script>\n",
              "  </div>\n",
              "\n",
              "\n",
              "    </div>\n",
              "  </div>\n"
            ],
            "application/vnd.google.colaboratory.intrinsic+json": {
              "type": "dataframe",
              "summary": "{\n  \"name\": \"pd\",\n  \"rows\": 1,\n  \"fields\": [\n    {\n      \"column\": \"dog\",\n      \"properties\": {\n        \"dtype\": \"number\",\n        \"std\": null,\n        \"min\": 1,\n        \"max\": 1,\n        \"num_unique_values\": 1,\n        \"samples\": [\n          1\n        ],\n        \"semantic_type\": \"\",\n        \"description\": \"\"\n      }\n    },\n    {\n      \"column\": \"saw\",\n      \"properties\": {\n        \"dtype\": \"number\",\n        \"std\": null,\n        \"min\": 1,\n        \"max\": 1,\n        \"num_unique_values\": 1,\n        \"samples\": [\n          1\n        ],\n        \"semantic_type\": \"\",\n        \"description\": \"\"\n      }\n    },\n    {\n      \"column\": \"saw yellow\",\n      \"properties\": {\n        \"dtype\": \"number\",\n        \"std\": null,\n        \"min\": 1,\n        \"max\": 1,\n        \"num_unique_values\": 1,\n        \"samples\": [\n          1\n        ],\n        \"semantic_type\": \"\",\n        \"description\": \"\"\n      }\n    },\n    {\n      \"column\": \"saw yellow dog\",\n      \"properties\": {\n        \"dtype\": \"number\",\n        \"std\": null,\n        \"min\": 1,\n        \"max\": 1,\n        \"num_unique_values\": 1,\n        \"samples\": [\n          1\n        ],\n        \"semantic_type\": \"\",\n        \"description\": \"\"\n      }\n    },\n    {\n      \"column\": \"yellow\",\n      \"properties\": {\n        \"dtype\": \"number\",\n        \"std\": null,\n        \"min\": 1,\n        \"max\": 1,\n        \"num_unique_values\": 1,\n        \"samples\": [\n          1\n        ],\n        \"semantic_type\": \"\",\n        \"description\": \"\"\n      }\n    },\n    {\n      \"column\": \"yellow dog\",\n      \"properties\": {\n        \"dtype\": \"number\",\n        \"std\": null,\n        \"min\": 1,\n        \"max\": 1,\n        \"num_unique_values\": 1,\n        \"samples\": [\n          1\n        ],\n        \"semantic_type\": \"\",\n        \"description\": \"\"\n      }\n    }\n  ]\n}"
            }
          },
          "metadata": {},
          "execution_count": 532
        }
      ]
    },
    {
      "cell_type": "code",
      "source": [
        "cv.vocabulary_"
      ],
      "metadata": {
        "colab": {
          "base_uri": "https://localhost:8080/"
        },
        "id": "rNUx3cDh9K8f",
        "outputId": "c020a951-214a-433a-eba9-4236424410d8"
      },
      "execution_count": 533,
      "outputs": [
        {
          "output_type": "execute_result",
          "data": {
            "text/plain": [
              "{'saw': np.int64(1),\n",
              " 'yellow': np.int64(4),\n",
              " 'dog': np.int64(0),\n",
              " 'saw yellow': np.int64(2),\n",
              " 'yellow dog': np.int64(5),\n",
              " 'saw yellow dog': np.int64(3)}"
            ]
          },
          "metadata": {},
          "execution_count": 533
        }
      ]
    },
    {
      "cell_type": "code",
      "source": [
        "d8"
      ],
      "metadata": {
        "colab": {
          "base_uri": "https://localhost:8080/"
        },
        "id": "YLDBq-ha9Lqj",
        "outputId": "1e84a3c4-1ee3-4c23-c67e-77a921f022da"
      },
      "execution_count": 534,
      "outputs": [
        {
          "output_type": "execute_result",
          "data": {
            "text/plain": [
              "['i saw the yellow dog!']"
            ]
          },
          "metadata": {},
          "execution_count": 534
        }
      ]
    },
    {
      "cell_type": "code",
      "source": [
        "len(cv.get_feature_names_out())"
      ],
      "metadata": {
        "colab": {
          "base_uri": "https://localhost:8080/"
        },
        "id": "DIbnxGKK9Okm",
        "outputId": "80b279c9-60c0-47b1-f76b-880bbe509966"
      },
      "execution_count": 535,
      "outputs": [
        {
          "output_type": "execute_result",
          "data": {
            "text/plain": [
              "6"
            ]
          },
          "metadata": {},
          "execution_count": 535
        }
      ]
    },
    {
      "cell_type": "code",
      "source": [
        "tf = TfidfVectorizer()\n",
        "x2 = tf.fit_transform(df[\"v2\"])\n",
        "input1 = pd.DataFrame(x2.toarray(), columns=tf.get_feature_names_out())"
      ],
      "metadata": {
        "id": "FxpmkpKcJoL9"
      },
      "execution_count": 536,
      "outputs": []
    },
    {
      "cell_type": "code",
      "source": [
        "from sklearn.ensemble import RandomForestClassifier"
      ],
      "metadata": {
        "id": "kSegRomC_o7F"
      },
      "execution_count": 537,
      "outputs": []
    },
    {
      "cell_type": "code",
      "source": [
        "from sklearn.model_selection import train_test_split\n",
        "xtrain, xtest, ytrain, ytest = train_test_split(input1, df[\"v1\"], test_size=0.2, random_state=45)"
      ],
      "metadata": {
        "id": "gRs-3hBZ_OO-"
      },
      "execution_count": 538,
      "outputs": []
    },
    {
      "cell_type": "code",
      "source": [
        "model = RandomForestClassifier(min_samples_split=5)\n",
        "model.fit(xtrain, ytrain)"
      ],
      "metadata": {
        "colab": {
          "base_uri": "https://localhost:8080/",
          "height": 80
        },
        "id": "yiUdK4JbJruU",
        "outputId": "66052f9e-8fcd-4ec1-f4a1-8338dea6b798"
      },
      "execution_count": 539,
      "outputs": [
        {
          "output_type": "execute_result",
          "data": {
            "text/plain": [
              "RandomForestClassifier(min_samples_split=5)"
            ],
            "text/html": [
              "<style>#sk-container-id-1 {\n",
              "  /* Definition of color scheme common for light and dark mode */\n",
              "  --sklearn-color-text: #000;\n",
              "  --sklearn-color-text-muted: #666;\n",
              "  --sklearn-color-line: gray;\n",
              "  /* Definition of color scheme for unfitted estimators */\n",
              "  --sklearn-color-unfitted-level-0: #fff5e6;\n",
              "  --sklearn-color-unfitted-level-1: #f6e4d2;\n",
              "  --sklearn-color-unfitted-level-2: #ffe0b3;\n",
              "  --sklearn-color-unfitted-level-3: chocolate;\n",
              "  /* Definition of color scheme for fitted estimators */\n",
              "  --sklearn-color-fitted-level-0: #f0f8ff;\n",
              "  --sklearn-color-fitted-level-1: #d4ebff;\n",
              "  --sklearn-color-fitted-level-2: #b3dbfd;\n",
              "  --sklearn-color-fitted-level-3: cornflowerblue;\n",
              "\n",
              "  /* Specific color for light theme */\n",
              "  --sklearn-color-text-on-default-background: var(--sg-text-color, var(--theme-code-foreground, var(--jp-content-font-color1, black)));\n",
              "  --sklearn-color-background: var(--sg-background-color, var(--theme-background, var(--jp-layout-color0, white)));\n",
              "  --sklearn-color-border-box: var(--sg-text-color, var(--theme-code-foreground, var(--jp-content-font-color1, black)));\n",
              "  --sklearn-color-icon: #696969;\n",
              "\n",
              "  @media (prefers-color-scheme: dark) {\n",
              "    /* Redefinition of color scheme for dark theme */\n",
              "    --sklearn-color-text-on-default-background: var(--sg-text-color, var(--theme-code-foreground, var(--jp-content-font-color1, white)));\n",
              "    --sklearn-color-background: var(--sg-background-color, var(--theme-background, var(--jp-layout-color0, #111)));\n",
              "    --sklearn-color-border-box: var(--sg-text-color, var(--theme-code-foreground, var(--jp-content-font-color1, white)));\n",
              "    --sklearn-color-icon: #878787;\n",
              "  }\n",
              "}\n",
              "\n",
              "#sk-container-id-1 {\n",
              "  color: var(--sklearn-color-text);\n",
              "}\n",
              "\n",
              "#sk-container-id-1 pre {\n",
              "  padding: 0;\n",
              "}\n",
              "\n",
              "#sk-container-id-1 input.sk-hidden--visually {\n",
              "  border: 0;\n",
              "  clip: rect(1px 1px 1px 1px);\n",
              "  clip: rect(1px, 1px, 1px, 1px);\n",
              "  height: 1px;\n",
              "  margin: -1px;\n",
              "  overflow: hidden;\n",
              "  padding: 0;\n",
              "  position: absolute;\n",
              "  width: 1px;\n",
              "}\n",
              "\n",
              "#sk-container-id-1 div.sk-dashed-wrapped {\n",
              "  border: 1px dashed var(--sklearn-color-line);\n",
              "  margin: 0 0.4em 0.5em 0.4em;\n",
              "  box-sizing: border-box;\n",
              "  padding-bottom: 0.4em;\n",
              "  background-color: var(--sklearn-color-background);\n",
              "}\n",
              "\n",
              "#sk-container-id-1 div.sk-container {\n",
              "  /* jupyter's `normalize.less` sets `[hidden] { display: none; }`\n",
              "     but bootstrap.min.css set `[hidden] { display: none !important; }`\n",
              "     so we also need the `!important` here to be able to override the\n",
              "     default hidden behavior on the sphinx rendered scikit-learn.org.\n",
              "     See: https://github.com/scikit-learn/scikit-learn/issues/21755 */\n",
              "  display: inline-block !important;\n",
              "  position: relative;\n",
              "}\n",
              "\n",
              "#sk-container-id-1 div.sk-text-repr-fallback {\n",
              "  display: none;\n",
              "}\n",
              "\n",
              "div.sk-parallel-item,\n",
              "div.sk-serial,\n",
              "div.sk-item {\n",
              "  /* draw centered vertical line to link estimators */\n",
              "  background-image: linear-gradient(var(--sklearn-color-text-on-default-background), var(--sklearn-color-text-on-default-background));\n",
              "  background-size: 2px 100%;\n",
              "  background-repeat: no-repeat;\n",
              "  background-position: center center;\n",
              "}\n",
              "\n",
              "/* Parallel-specific style estimator block */\n",
              "\n",
              "#sk-container-id-1 div.sk-parallel-item::after {\n",
              "  content: \"\";\n",
              "  width: 100%;\n",
              "  border-bottom: 2px solid var(--sklearn-color-text-on-default-background);\n",
              "  flex-grow: 1;\n",
              "}\n",
              "\n",
              "#sk-container-id-1 div.sk-parallel {\n",
              "  display: flex;\n",
              "  align-items: stretch;\n",
              "  justify-content: center;\n",
              "  background-color: var(--sklearn-color-background);\n",
              "  position: relative;\n",
              "}\n",
              "\n",
              "#sk-container-id-1 div.sk-parallel-item {\n",
              "  display: flex;\n",
              "  flex-direction: column;\n",
              "}\n",
              "\n",
              "#sk-container-id-1 div.sk-parallel-item:first-child::after {\n",
              "  align-self: flex-end;\n",
              "  width: 50%;\n",
              "}\n",
              "\n",
              "#sk-container-id-1 div.sk-parallel-item:last-child::after {\n",
              "  align-self: flex-start;\n",
              "  width: 50%;\n",
              "}\n",
              "\n",
              "#sk-container-id-1 div.sk-parallel-item:only-child::after {\n",
              "  width: 0;\n",
              "}\n",
              "\n",
              "/* Serial-specific style estimator block */\n",
              "\n",
              "#sk-container-id-1 div.sk-serial {\n",
              "  display: flex;\n",
              "  flex-direction: column;\n",
              "  align-items: center;\n",
              "  background-color: var(--sklearn-color-background);\n",
              "  padding-right: 1em;\n",
              "  padding-left: 1em;\n",
              "}\n",
              "\n",
              "\n",
              "/* Toggleable style: style used for estimator/Pipeline/ColumnTransformer box that is\n",
              "clickable and can be expanded/collapsed.\n",
              "- Pipeline and ColumnTransformer use this feature and define the default style\n",
              "- Estimators will overwrite some part of the style using the `sk-estimator` class\n",
              "*/\n",
              "\n",
              "/* Pipeline and ColumnTransformer style (default) */\n",
              "\n",
              "#sk-container-id-1 div.sk-toggleable {\n",
              "  /* Default theme specific background. It is overwritten whether we have a\n",
              "  specific estimator or a Pipeline/ColumnTransformer */\n",
              "  background-color: var(--sklearn-color-background);\n",
              "}\n",
              "\n",
              "/* Toggleable label */\n",
              "#sk-container-id-1 label.sk-toggleable__label {\n",
              "  cursor: pointer;\n",
              "  display: flex;\n",
              "  width: 100%;\n",
              "  margin-bottom: 0;\n",
              "  padding: 0.5em;\n",
              "  box-sizing: border-box;\n",
              "  text-align: center;\n",
              "  align-items: start;\n",
              "  justify-content: space-between;\n",
              "  gap: 0.5em;\n",
              "}\n",
              "\n",
              "#sk-container-id-1 label.sk-toggleable__label .caption {\n",
              "  font-size: 0.6rem;\n",
              "  font-weight: lighter;\n",
              "  color: var(--sklearn-color-text-muted);\n",
              "}\n",
              "\n",
              "#sk-container-id-1 label.sk-toggleable__label-arrow:before {\n",
              "  /* Arrow on the left of the label */\n",
              "  content: \"▸\";\n",
              "  float: left;\n",
              "  margin-right: 0.25em;\n",
              "  color: var(--sklearn-color-icon);\n",
              "}\n",
              "\n",
              "#sk-container-id-1 label.sk-toggleable__label-arrow:hover:before {\n",
              "  color: var(--sklearn-color-text);\n",
              "}\n",
              "\n",
              "/* Toggleable content - dropdown */\n",
              "\n",
              "#sk-container-id-1 div.sk-toggleable__content {\n",
              "  max-height: 0;\n",
              "  max-width: 0;\n",
              "  overflow: hidden;\n",
              "  text-align: left;\n",
              "  /* unfitted */\n",
              "  background-color: var(--sklearn-color-unfitted-level-0);\n",
              "}\n",
              "\n",
              "#sk-container-id-1 div.sk-toggleable__content.fitted {\n",
              "  /* fitted */\n",
              "  background-color: var(--sklearn-color-fitted-level-0);\n",
              "}\n",
              "\n",
              "#sk-container-id-1 div.sk-toggleable__content pre {\n",
              "  margin: 0.2em;\n",
              "  border-radius: 0.25em;\n",
              "  color: var(--sklearn-color-text);\n",
              "  /* unfitted */\n",
              "  background-color: var(--sklearn-color-unfitted-level-0);\n",
              "}\n",
              "\n",
              "#sk-container-id-1 div.sk-toggleable__content.fitted pre {\n",
              "  /* unfitted */\n",
              "  background-color: var(--sklearn-color-fitted-level-0);\n",
              "}\n",
              "\n",
              "#sk-container-id-1 input.sk-toggleable__control:checked~div.sk-toggleable__content {\n",
              "  /* Expand drop-down */\n",
              "  max-height: 200px;\n",
              "  max-width: 100%;\n",
              "  overflow: auto;\n",
              "}\n",
              "\n",
              "#sk-container-id-1 input.sk-toggleable__control:checked~label.sk-toggleable__label-arrow:before {\n",
              "  content: \"▾\";\n",
              "}\n",
              "\n",
              "/* Pipeline/ColumnTransformer-specific style */\n",
              "\n",
              "#sk-container-id-1 div.sk-label input.sk-toggleable__control:checked~label.sk-toggleable__label {\n",
              "  color: var(--sklearn-color-text);\n",
              "  background-color: var(--sklearn-color-unfitted-level-2);\n",
              "}\n",
              "\n",
              "#sk-container-id-1 div.sk-label.fitted input.sk-toggleable__control:checked~label.sk-toggleable__label {\n",
              "  background-color: var(--sklearn-color-fitted-level-2);\n",
              "}\n",
              "\n",
              "/* Estimator-specific style */\n",
              "\n",
              "/* Colorize estimator box */\n",
              "#sk-container-id-1 div.sk-estimator input.sk-toggleable__control:checked~label.sk-toggleable__label {\n",
              "  /* unfitted */\n",
              "  background-color: var(--sklearn-color-unfitted-level-2);\n",
              "}\n",
              "\n",
              "#sk-container-id-1 div.sk-estimator.fitted input.sk-toggleable__control:checked~label.sk-toggleable__label {\n",
              "  /* fitted */\n",
              "  background-color: var(--sklearn-color-fitted-level-2);\n",
              "}\n",
              "\n",
              "#sk-container-id-1 div.sk-label label.sk-toggleable__label,\n",
              "#sk-container-id-1 div.sk-label label {\n",
              "  /* The background is the default theme color */\n",
              "  color: var(--sklearn-color-text-on-default-background);\n",
              "}\n",
              "\n",
              "/* On hover, darken the color of the background */\n",
              "#sk-container-id-1 div.sk-label:hover label.sk-toggleable__label {\n",
              "  color: var(--sklearn-color-text);\n",
              "  background-color: var(--sklearn-color-unfitted-level-2);\n",
              "}\n",
              "\n",
              "/* Label box, darken color on hover, fitted */\n",
              "#sk-container-id-1 div.sk-label.fitted:hover label.sk-toggleable__label.fitted {\n",
              "  color: var(--sklearn-color-text);\n",
              "  background-color: var(--sklearn-color-fitted-level-2);\n",
              "}\n",
              "\n",
              "/* Estimator label */\n",
              "\n",
              "#sk-container-id-1 div.sk-label label {\n",
              "  font-family: monospace;\n",
              "  font-weight: bold;\n",
              "  display: inline-block;\n",
              "  line-height: 1.2em;\n",
              "}\n",
              "\n",
              "#sk-container-id-1 div.sk-label-container {\n",
              "  text-align: center;\n",
              "}\n",
              "\n",
              "/* Estimator-specific */\n",
              "#sk-container-id-1 div.sk-estimator {\n",
              "  font-family: monospace;\n",
              "  border: 1px dotted var(--sklearn-color-border-box);\n",
              "  border-radius: 0.25em;\n",
              "  box-sizing: border-box;\n",
              "  margin-bottom: 0.5em;\n",
              "  /* unfitted */\n",
              "  background-color: var(--sklearn-color-unfitted-level-0);\n",
              "}\n",
              "\n",
              "#sk-container-id-1 div.sk-estimator.fitted {\n",
              "  /* fitted */\n",
              "  background-color: var(--sklearn-color-fitted-level-0);\n",
              "}\n",
              "\n",
              "/* on hover */\n",
              "#sk-container-id-1 div.sk-estimator:hover {\n",
              "  /* unfitted */\n",
              "  background-color: var(--sklearn-color-unfitted-level-2);\n",
              "}\n",
              "\n",
              "#sk-container-id-1 div.sk-estimator.fitted:hover {\n",
              "  /* fitted */\n",
              "  background-color: var(--sklearn-color-fitted-level-2);\n",
              "}\n",
              "\n",
              "/* Specification for estimator info (e.g. \"i\" and \"?\") */\n",
              "\n",
              "/* Common style for \"i\" and \"?\" */\n",
              "\n",
              ".sk-estimator-doc-link,\n",
              "a:link.sk-estimator-doc-link,\n",
              "a:visited.sk-estimator-doc-link {\n",
              "  float: right;\n",
              "  font-size: smaller;\n",
              "  line-height: 1em;\n",
              "  font-family: monospace;\n",
              "  background-color: var(--sklearn-color-background);\n",
              "  border-radius: 1em;\n",
              "  height: 1em;\n",
              "  width: 1em;\n",
              "  text-decoration: none !important;\n",
              "  margin-left: 0.5em;\n",
              "  text-align: center;\n",
              "  /* unfitted */\n",
              "  border: var(--sklearn-color-unfitted-level-1) 1pt solid;\n",
              "  color: var(--sklearn-color-unfitted-level-1);\n",
              "}\n",
              "\n",
              ".sk-estimator-doc-link.fitted,\n",
              "a:link.sk-estimator-doc-link.fitted,\n",
              "a:visited.sk-estimator-doc-link.fitted {\n",
              "  /* fitted */\n",
              "  border: var(--sklearn-color-fitted-level-1) 1pt solid;\n",
              "  color: var(--sklearn-color-fitted-level-1);\n",
              "}\n",
              "\n",
              "/* On hover */\n",
              "div.sk-estimator:hover .sk-estimator-doc-link:hover,\n",
              ".sk-estimator-doc-link:hover,\n",
              "div.sk-label-container:hover .sk-estimator-doc-link:hover,\n",
              ".sk-estimator-doc-link:hover {\n",
              "  /* unfitted */\n",
              "  background-color: var(--sklearn-color-unfitted-level-3);\n",
              "  color: var(--sklearn-color-background);\n",
              "  text-decoration: none;\n",
              "}\n",
              "\n",
              "div.sk-estimator.fitted:hover .sk-estimator-doc-link.fitted:hover,\n",
              ".sk-estimator-doc-link.fitted:hover,\n",
              "div.sk-label-container:hover .sk-estimator-doc-link.fitted:hover,\n",
              ".sk-estimator-doc-link.fitted:hover {\n",
              "  /* fitted */\n",
              "  background-color: var(--sklearn-color-fitted-level-3);\n",
              "  color: var(--sklearn-color-background);\n",
              "  text-decoration: none;\n",
              "}\n",
              "\n",
              "/* Span, style for the box shown on hovering the info icon */\n",
              ".sk-estimator-doc-link span {\n",
              "  display: none;\n",
              "  z-index: 9999;\n",
              "  position: relative;\n",
              "  font-weight: normal;\n",
              "  right: .2ex;\n",
              "  padding: .5ex;\n",
              "  margin: .5ex;\n",
              "  width: min-content;\n",
              "  min-width: 20ex;\n",
              "  max-width: 50ex;\n",
              "  color: var(--sklearn-color-text);\n",
              "  box-shadow: 2pt 2pt 4pt #999;\n",
              "  /* unfitted */\n",
              "  background: var(--sklearn-color-unfitted-level-0);\n",
              "  border: .5pt solid var(--sklearn-color-unfitted-level-3);\n",
              "}\n",
              "\n",
              ".sk-estimator-doc-link.fitted span {\n",
              "  /* fitted */\n",
              "  background: var(--sklearn-color-fitted-level-0);\n",
              "  border: var(--sklearn-color-fitted-level-3);\n",
              "}\n",
              "\n",
              ".sk-estimator-doc-link:hover span {\n",
              "  display: block;\n",
              "}\n",
              "\n",
              "/* \"?\"-specific style due to the `<a>` HTML tag */\n",
              "\n",
              "#sk-container-id-1 a.estimator_doc_link {\n",
              "  float: right;\n",
              "  font-size: 1rem;\n",
              "  line-height: 1em;\n",
              "  font-family: monospace;\n",
              "  background-color: var(--sklearn-color-background);\n",
              "  border-radius: 1rem;\n",
              "  height: 1rem;\n",
              "  width: 1rem;\n",
              "  text-decoration: none;\n",
              "  /* unfitted */\n",
              "  color: var(--sklearn-color-unfitted-level-1);\n",
              "  border: var(--sklearn-color-unfitted-level-1) 1pt solid;\n",
              "}\n",
              "\n",
              "#sk-container-id-1 a.estimator_doc_link.fitted {\n",
              "  /* fitted */\n",
              "  border: var(--sklearn-color-fitted-level-1) 1pt solid;\n",
              "  color: var(--sklearn-color-fitted-level-1);\n",
              "}\n",
              "\n",
              "/* On hover */\n",
              "#sk-container-id-1 a.estimator_doc_link:hover {\n",
              "  /* unfitted */\n",
              "  background-color: var(--sklearn-color-unfitted-level-3);\n",
              "  color: var(--sklearn-color-background);\n",
              "  text-decoration: none;\n",
              "}\n",
              "\n",
              "#sk-container-id-1 a.estimator_doc_link.fitted:hover {\n",
              "  /* fitted */\n",
              "  background-color: var(--sklearn-color-fitted-level-3);\n",
              "}\n",
              "</style><div id=\"sk-container-id-1\" class=\"sk-top-container\"><div class=\"sk-text-repr-fallback\"><pre>RandomForestClassifier(min_samples_split=5)</pre><b>In a Jupyter environment, please rerun this cell to show the HTML representation or trust the notebook. <br />On GitHub, the HTML representation is unable to render, please try loading this page with nbviewer.org.</b></div><div class=\"sk-container\" hidden><div class=\"sk-item\"><div class=\"sk-estimator fitted sk-toggleable\"><input class=\"sk-toggleable__control sk-hidden--visually\" id=\"sk-estimator-id-1\" type=\"checkbox\" checked><label for=\"sk-estimator-id-1\" class=\"sk-toggleable__label fitted sk-toggleable__label-arrow\"><div><div>RandomForestClassifier</div></div><div><a class=\"sk-estimator-doc-link fitted\" rel=\"noreferrer\" target=\"_blank\" href=\"https://scikit-learn.org/1.6/modules/generated/sklearn.ensemble.RandomForestClassifier.html\">?<span>Documentation for RandomForestClassifier</span></a><span class=\"sk-estimator-doc-link fitted\">i<span>Fitted</span></span></div></label><div class=\"sk-toggleable__content fitted\"><pre>RandomForestClassifier(min_samples_split=5)</pre></div> </div></div></div></div>"
            ]
          },
          "metadata": {},
          "execution_count": 539
        }
      ]
    },
    {
      "cell_type": "code",
      "source": [
        "ypred_train = model.predict(xtrain)"
      ],
      "metadata": {
        "id": "3e4H8dofJtO0"
      },
      "execution_count": 540,
      "outputs": []
    },
    {
      "cell_type": "code",
      "source": [
        "ypred = model.predict(xtest)"
      ],
      "metadata": {
        "id": "yYTYxBufJust"
      },
      "execution_count": 541,
      "outputs": []
    },
    {
      "cell_type": "code",
      "source": [
        "from sklearn.metrics import accuracy_score, confusion_matrix, classification_report\n",
        "accuracy_score(ytest, ypred)"
      ],
      "metadata": {
        "colab": {
          "base_uri": "https://localhost:8080/"
        },
        "id": "uHKGrS-CJxOS",
        "outputId": "6d255565-ef74-42ab-8e23-fee4c9a034f2"
      },
      "execution_count": 542,
      "outputs": [
        {
          "output_type": "execute_result",
          "data": {
            "text/plain": [
              "0.9668161434977578"
            ]
          },
          "metadata": {},
          "execution_count": 542
        }
      ]
    },
    {
      "cell_type": "code",
      "source": [
        "accuracy_score(ytrain, ypred_train)"
      ],
      "metadata": {
        "colab": {
          "base_uri": "https://localhost:8080/"
        },
        "id": "D2K3SKdLJ1RQ",
        "outputId": "c31c8b45-fe9b-4b51-fa12-299544dc1832"
      },
      "execution_count": 543,
      "outputs": [
        {
          "output_type": "execute_result",
          "data": {
            "text/plain": [
              "0.9982050706753421"
            ]
          },
          "metadata": {},
          "execution_count": 543
        }
      ]
    },
    {
      "cell_type": "code",
      "source": [
        "print(classification_report(ytrain, ypred_train))"
      ],
      "metadata": {
        "colab": {
          "base_uri": "https://localhost:8080/"
        },
        "id": "DHQInDr4J3sC",
        "outputId": "ad8ebd2a-521e-4351-bbbe-236b94dda3f1"
      },
      "execution_count": 544,
      "outputs": [
        {
          "output_type": "stream",
          "name": "stdout",
          "text": [
            "              precision    recall  f1-score   support\n",
            "\n",
            "         ham       1.00      1.00      1.00      3885\n",
            "        spam       1.00      0.99      0.99       572\n",
            "\n",
            "    accuracy                           1.00      4457\n",
            "   macro avg       1.00      0.99      1.00      4457\n",
            "weighted avg       1.00      1.00      1.00      4457\n",
            "\n"
          ]
        }
      ]
    },
    {
      "cell_type": "code",
      "source": [
        "print(classification_report(ytest, ypred))"
      ],
      "metadata": {
        "colab": {
          "base_uri": "https://localhost:8080/"
        },
        "id": "d-2LyVsjJ5ob",
        "outputId": "21373761-7d83-4450-cda9-b2379a6af6f5"
      },
      "execution_count": 545,
      "outputs": [
        {
          "output_type": "stream",
          "name": "stdout",
          "text": [
            "              precision    recall  f1-score   support\n",
            "\n",
            "         ham       0.96      1.00      0.98       940\n",
            "        spam       1.00      0.79      0.88       175\n",
            "\n",
            "    accuracy                           0.97      1115\n",
            "   macro avg       0.98      0.89      0.93      1115\n",
            "weighted avg       0.97      0.97      0.97      1115\n",
            "\n"
          ]
        }
      ]
    },
    {
      "cell_type": "code",
      "source": [
        "parameter = {\"n_estimators\":[100,50,10,20],\n",
        " \"criterion\":['gini', 'entropy'],\n",
        " \"max_depth\":[8,10, None],\n",
        " \"min_samples_split\":[2, 5,7],\n",
        " \"min_samples_leaf\":[1, 2, 5]}"
      ],
      "metadata": {
        "id": "TRd72GIcJ7ev"
      },
      "execution_count": 546,
      "outputs": []
    },
    {
      "cell_type": "code",
      "source": [
        "from sklearn.model_selection import GridSearchCV\n",
        "grid = GridSearchCV(model, param_grid=parameter, cv=2, verbose=2)\n",
        "grid.fit(xtrain, ytrain)"
      ],
      "metadata": {
        "colab": {
          "base_uri": "https://localhost:8080/",
          "height": 1000
        },
        "id": "hvVMlpTSJ9q0",
        "outputId": "bd729e5f-9fec-4bab-f91c-67d5896f1839"
      },
      "execution_count": 547,
      "outputs": [
        {
          "output_type": "stream",
          "name": "stdout",
          "text": [
            "Fitting 2 folds for each of 216 candidates, totalling 432 fits\n",
            "[CV] END criterion=gini, max_depth=8, min_samples_leaf=1, min_samples_split=2, n_estimators=100; total time=   1.6s\n",
            "[CV] END criterion=gini, max_depth=8, min_samples_leaf=1, min_samples_split=2, n_estimators=100; total time=   2.0s\n",
            "[CV] END criterion=gini, max_depth=8, min_samples_leaf=1, min_samples_split=2, n_estimators=50; total time=   0.9s\n",
            "[CV] END criterion=gini, max_depth=8, min_samples_leaf=1, min_samples_split=2, n_estimators=50; total time=   0.9s\n",
            "[CV] END criterion=gini, max_depth=8, min_samples_leaf=1, min_samples_split=2, n_estimators=10; total time=   0.9s\n",
            "[CV] END criterion=gini, max_depth=8, min_samples_leaf=1, min_samples_split=2, n_estimators=10; total time=   1.2s\n",
            "[CV] END criterion=gini, max_depth=8, min_samples_leaf=1, min_samples_split=2, n_estimators=20; total time=   1.5s\n",
            "[CV] END criterion=gini, max_depth=8, min_samples_leaf=1, min_samples_split=2, n_estimators=20; total time=   0.6s\n",
            "[CV] END criterion=gini, max_depth=8, min_samples_leaf=1, min_samples_split=5, n_estimators=100; total time=   1.6s\n",
            "[CV] END criterion=gini, max_depth=8, min_samples_leaf=1, min_samples_split=5, n_estimators=100; total time=   1.5s\n",
            "[CV] END criterion=gini, max_depth=8, min_samples_leaf=1, min_samples_split=5, n_estimators=50; total time=   0.9s\n",
            "[CV] END criterion=gini, max_depth=8, min_samples_leaf=1, min_samples_split=5, n_estimators=50; total time=   0.9s\n",
            "[CV] END criterion=gini, max_depth=8, min_samples_leaf=1, min_samples_split=5, n_estimators=10; total time=   0.4s\n",
            "[CV] END criterion=gini, max_depth=8, min_samples_leaf=1, min_samples_split=5, n_estimators=10; total time=   0.4s\n",
            "[CV] END criterion=gini, max_depth=8, min_samples_leaf=1, min_samples_split=5, n_estimators=20; total time=   0.5s\n",
            "[CV] END criterion=gini, max_depth=8, min_samples_leaf=1, min_samples_split=5, n_estimators=20; total time=   0.5s\n",
            "[CV] END criterion=gini, max_depth=8, min_samples_leaf=1, min_samples_split=7, n_estimators=100; total time=   1.5s\n",
            "[CV] END criterion=gini, max_depth=8, min_samples_leaf=1, min_samples_split=7, n_estimators=100; total time=   1.8s\n",
            "[CV] END criterion=gini, max_depth=8, min_samples_leaf=1, min_samples_split=7, n_estimators=50; total time=   1.3s\n",
            "[CV] END criterion=gini, max_depth=8, min_samples_leaf=1, min_samples_split=7, n_estimators=50; total time=   1.0s\n",
            "[CV] END criterion=gini, max_depth=8, min_samples_leaf=1, min_samples_split=7, n_estimators=10; total time=   0.4s\n",
            "[CV] END criterion=gini, max_depth=8, min_samples_leaf=1, min_samples_split=7, n_estimators=10; total time=   0.4s\n",
            "[CV] END criterion=gini, max_depth=8, min_samples_leaf=1, min_samples_split=7, n_estimators=20; total time=   0.5s\n",
            "[CV] END criterion=gini, max_depth=8, min_samples_leaf=1, min_samples_split=7, n_estimators=20; total time=   0.5s\n",
            "[CV] END criterion=gini, max_depth=8, min_samples_leaf=2, min_samples_split=2, n_estimators=100; total time=   1.6s\n",
            "[CV] END criterion=gini, max_depth=8, min_samples_leaf=2, min_samples_split=2, n_estimators=100; total time=   1.6s\n",
            "[CV] END criterion=gini, max_depth=8, min_samples_leaf=2, min_samples_split=2, n_estimators=50; total time=   0.9s\n",
            "[CV] END criterion=gini, max_depth=8, min_samples_leaf=2, min_samples_split=2, n_estimators=50; total time=   1.0s\n",
            "[CV] END criterion=gini, max_depth=8, min_samples_leaf=2, min_samples_split=2, n_estimators=10; total time=   0.5s\n",
            "[CV] END criterion=gini, max_depth=8, min_samples_leaf=2, min_samples_split=2, n_estimators=10; total time=   0.4s\n",
            "[CV] END criterion=gini, max_depth=8, min_samples_leaf=2, min_samples_split=2, n_estimators=20; total time=   0.5s\n",
            "[CV] END criterion=gini, max_depth=8, min_samples_leaf=2, min_samples_split=2, n_estimators=20; total time=   0.5s\n",
            "[CV] END criterion=gini, max_depth=8, min_samples_leaf=2, min_samples_split=5, n_estimators=100; total time=   2.0s\n",
            "[CV] END criterion=gini, max_depth=8, min_samples_leaf=2, min_samples_split=5, n_estimators=100; total time=   1.8s\n",
            "[CV] END criterion=gini, max_depth=8, min_samples_leaf=2, min_samples_split=5, n_estimators=50; total time=   0.9s\n",
            "[CV] END criterion=gini, max_depth=8, min_samples_leaf=2, min_samples_split=5, n_estimators=50; total time=   0.9s\n",
            "[CV] END criterion=gini, max_depth=8, min_samples_leaf=2, min_samples_split=5, n_estimators=10; total time=   0.4s\n",
            "[CV] END criterion=gini, max_depth=8, min_samples_leaf=2, min_samples_split=5, n_estimators=10; total time=   0.4s\n",
            "[CV] END criterion=gini, max_depth=8, min_samples_leaf=2, min_samples_split=5, n_estimators=20; total time=   0.5s\n",
            "[CV] END criterion=gini, max_depth=8, min_samples_leaf=2, min_samples_split=5, n_estimators=20; total time=   0.5s\n",
            "[CV] END criterion=gini, max_depth=8, min_samples_leaf=2, min_samples_split=7, n_estimators=100; total time=   1.5s\n",
            "[CV] END criterion=gini, max_depth=8, min_samples_leaf=2, min_samples_split=7, n_estimators=100; total time=   1.5s\n",
            "[CV] END criterion=gini, max_depth=8, min_samples_leaf=2, min_samples_split=7, n_estimators=50; total time=   0.9s\n",
            "[CV] END criterion=gini, max_depth=8, min_samples_leaf=2, min_samples_split=7, n_estimators=50; total time=   0.9s\n",
            "[CV] END criterion=gini, max_depth=8, min_samples_leaf=2, min_samples_split=7, n_estimators=10; total time=   0.4s\n",
            "[CV] END criterion=gini, max_depth=8, min_samples_leaf=2, min_samples_split=7, n_estimators=10; total time=   0.4s\n",
            "[CV] END criterion=gini, max_depth=8, min_samples_leaf=2, min_samples_split=7, n_estimators=20; total time=   0.7s\n",
            "[CV] END criterion=gini, max_depth=8, min_samples_leaf=2, min_samples_split=7, n_estimators=20; total time=   0.7s\n",
            "[CV] END criterion=gini, max_depth=8, min_samples_leaf=5, min_samples_split=2, n_estimators=100; total time=   1.8s\n",
            "[CV] END criterion=gini, max_depth=8, min_samples_leaf=5, min_samples_split=2, n_estimators=100; total time=   1.5s\n",
            "[CV] END criterion=gini, max_depth=8, min_samples_leaf=5, min_samples_split=2, n_estimators=50; total time=   0.9s\n",
            "[CV] END criterion=gini, max_depth=8, min_samples_leaf=5, min_samples_split=2, n_estimators=50; total time=   0.9s\n",
            "[CV] END criterion=gini, max_depth=8, min_samples_leaf=5, min_samples_split=2, n_estimators=10; total time=   0.4s\n",
            "[CV] END criterion=gini, max_depth=8, min_samples_leaf=5, min_samples_split=2, n_estimators=10; total time=   0.4s\n",
            "[CV] END criterion=gini, max_depth=8, min_samples_leaf=5, min_samples_split=2, n_estimators=20; total time=   0.5s\n",
            "[CV] END criterion=gini, max_depth=8, min_samples_leaf=5, min_samples_split=2, n_estimators=20; total time=   0.5s\n",
            "[CV] END criterion=gini, max_depth=8, min_samples_leaf=5, min_samples_split=5, n_estimators=100; total time=   1.5s\n",
            "[CV] END criterion=gini, max_depth=8, min_samples_leaf=5, min_samples_split=5, n_estimators=100; total time=   1.5s\n",
            "[CV] END criterion=gini, max_depth=8, min_samples_leaf=5, min_samples_split=5, n_estimators=50; total time=   0.9s\n",
            "[CV] END criterion=gini, max_depth=8, min_samples_leaf=5, min_samples_split=5, n_estimators=50; total time=   1.1s\n",
            "[CV] END criterion=gini, max_depth=8, min_samples_leaf=5, min_samples_split=5, n_estimators=10; total time=   0.5s\n",
            "[CV] END criterion=gini, max_depth=8, min_samples_leaf=5, min_samples_split=5, n_estimators=10; total time=   0.5s\n",
            "[CV] END criterion=gini, max_depth=8, min_samples_leaf=5, min_samples_split=5, n_estimators=20; total time=   0.7s\n",
            "[CV] END criterion=gini, max_depth=8, min_samples_leaf=5, min_samples_split=5, n_estimators=20; total time=   0.5s\n",
            "[CV] END criterion=gini, max_depth=8, min_samples_leaf=5, min_samples_split=7, n_estimators=100; total time=   1.5s\n",
            "[CV] END criterion=gini, max_depth=8, min_samples_leaf=5, min_samples_split=7, n_estimators=100; total time=   1.5s\n",
            "[CV] END criterion=gini, max_depth=8, min_samples_leaf=5, min_samples_split=7, n_estimators=50; total time=   0.9s\n",
            "[CV] END criterion=gini, max_depth=8, min_samples_leaf=5, min_samples_split=7, n_estimators=50; total time=   0.9s\n",
            "[CV] END criterion=gini, max_depth=8, min_samples_leaf=5, min_samples_split=7, n_estimators=10; total time=   0.3s\n",
            "[CV] END criterion=gini, max_depth=8, min_samples_leaf=5, min_samples_split=7, n_estimators=10; total time=   0.4s\n",
            "[CV] END criterion=gini, max_depth=8, min_samples_leaf=5, min_samples_split=7, n_estimators=20; total time=   0.5s\n",
            "[CV] END criterion=gini, max_depth=8, min_samples_leaf=5, min_samples_split=7, n_estimators=20; total time=   0.5s\n",
            "[CV] END criterion=gini, max_depth=10, min_samples_leaf=1, min_samples_split=2, n_estimators=100; total time=   1.8s\n",
            "[CV] END criterion=gini, max_depth=10, min_samples_leaf=1, min_samples_split=2, n_estimators=100; total time=   2.0s\n",
            "[CV] END criterion=gini, max_depth=10, min_samples_leaf=1, min_samples_split=2, n_estimators=50; total time=   1.4s\n",
            "[CV] END criterion=gini, max_depth=10, min_samples_leaf=1, min_samples_split=2, n_estimators=50; total time=   1.2s\n",
            "[CV] END criterion=gini, max_depth=10, min_samples_leaf=1, min_samples_split=2, n_estimators=10; total time=   0.4s\n",
            "[CV] END criterion=gini, max_depth=10, min_samples_leaf=1, min_samples_split=2, n_estimators=10; total time=   0.4s\n",
            "[CV] END criterion=gini, max_depth=10, min_samples_leaf=1, min_samples_split=2, n_estimators=20; total time=   0.6s\n",
            "[CV] END criterion=gini, max_depth=10, min_samples_leaf=1, min_samples_split=2, n_estimators=20; total time=   0.6s\n",
            "[CV] END criterion=gini, max_depth=10, min_samples_leaf=1, min_samples_split=5, n_estimators=100; total time=   1.9s\n",
            "[CV] END criterion=gini, max_depth=10, min_samples_leaf=1, min_samples_split=5, n_estimators=100; total time=   1.8s\n",
            "[CV] END criterion=gini, max_depth=10, min_samples_leaf=1, min_samples_split=5, n_estimators=50; total time=   1.0s\n",
            "[CV] END criterion=gini, max_depth=10, min_samples_leaf=1, min_samples_split=5, n_estimators=50; total time=   1.0s\n",
            "[CV] END criterion=gini, max_depth=10, min_samples_leaf=1, min_samples_split=5, n_estimators=10; total time=   0.4s\n",
            "[CV] END criterion=gini, max_depth=10, min_samples_leaf=1, min_samples_split=5, n_estimators=10; total time=   0.4s\n",
            "[CV] END criterion=gini, max_depth=10, min_samples_leaf=1, min_samples_split=5, n_estimators=20; total time=   0.5s\n",
            "[CV] END criterion=gini, max_depth=10, min_samples_leaf=1, min_samples_split=5, n_estimators=20; total time=   0.7s\n",
            "[CV] END criterion=gini, max_depth=10, min_samples_leaf=1, min_samples_split=7, n_estimators=100; total time=   2.4s\n",
            "[CV] END criterion=gini, max_depth=10, min_samples_leaf=1, min_samples_split=7, n_estimators=100; total time=   1.8s\n",
            "[CV] END criterion=gini, max_depth=10, min_samples_leaf=1, min_samples_split=7, n_estimators=50; total time=   1.0s\n",
            "[CV] END criterion=gini, max_depth=10, min_samples_leaf=1, min_samples_split=7, n_estimators=50; total time=   1.0s\n",
            "[CV] END criterion=gini, max_depth=10, min_samples_leaf=1, min_samples_split=7, n_estimators=10; total time=   0.4s\n",
            "[CV] END criterion=gini, max_depth=10, min_samples_leaf=1, min_samples_split=7, n_estimators=10; total time=   0.4s\n",
            "[CV] END criterion=gini, max_depth=10, min_samples_leaf=1, min_samples_split=7, n_estimators=20; total time=   0.5s\n",
            "[CV] END criterion=gini, max_depth=10, min_samples_leaf=1, min_samples_split=7, n_estimators=20; total time=   0.6s\n",
            "[CV] END criterion=gini, max_depth=10, min_samples_leaf=2, min_samples_split=2, n_estimators=100; total time=   1.8s\n",
            "[CV] END criterion=gini, max_depth=10, min_samples_leaf=2, min_samples_split=2, n_estimators=100; total time=   1.9s\n",
            "[CV] END criterion=gini, max_depth=10, min_samples_leaf=2, min_samples_split=2, n_estimators=50; total time=   1.3s\n",
            "[CV] END criterion=gini, max_depth=10, min_samples_leaf=2, min_samples_split=2, n_estimators=50; total time=   1.4s\n",
            "[CV] END criterion=gini, max_depth=10, min_samples_leaf=2, min_samples_split=2, n_estimators=10; total time=   0.4s\n",
            "[CV] END criterion=gini, max_depth=10, min_samples_leaf=2, min_samples_split=2, n_estimators=10; total time=   0.4s\n",
            "[CV] END criterion=gini, max_depth=10, min_samples_leaf=2, min_samples_split=2, n_estimators=20; total time=   0.6s\n",
            "[CV] END criterion=gini, max_depth=10, min_samples_leaf=2, min_samples_split=2, n_estimators=20; total time=   0.6s\n",
            "[CV] END criterion=gini, max_depth=10, min_samples_leaf=2, min_samples_split=5, n_estimators=100; total time=   1.8s\n",
            "[CV] END criterion=gini, max_depth=10, min_samples_leaf=2, min_samples_split=5, n_estimators=100; total time=   1.8s\n",
            "[CV] END criterion=gini, max_depth=10, min_samples_leaf=2, min_samples_split=5, n_estimators=50; total time=   1.0s\n",
            "[CV] END criterion=gini, max_depth=10, min_samples_leaf=2, min_samples_split=5, n_estimators=50; total time=   1.0s\n",
            "[CV] END criterion=gini, max_depth=10, min_samples_leaf=2, min_samples_split=5, n_estimators=10; total time=   0.4s\n",
            "[CV] END criterion=gini, max_depth=10, min_samples_leaf=2, min_samples_split=5, n_estimators=10; total time=   0.4s\n",
            "[CV] END criterion=gini, max_depth=10, min_samples_leaf=2, min_samples_split=5, n_estimators=20; total time=   0.6s\n",
            "[CV] END criterion=gini, max_depth=10, min_samples_leaf=2, min_samples_split=5, n_estimators=20; total time=   0.6s\n",
            "[CV] END criterion=gini, max_depth=10, min_samples_leaf=2, min_samples_split=7, n_estimators=100; total time=   2.4s\n",
            "[CV] END criterion=gini, max_depth=10, min_samples_leaf=2, min_samples_split=7, n_estimators=100; total time=   2.5s\n",
            "[CV] END criterion=gini, max_depth=10, min_samples_leaf=2, min_samples_split=7, n_estimators=50; total time=   1.1s\n",
            "[CV] END criterion=gini, max_depth=10, min_samples_leaf=2, min_samples_split=7, n_estimators=50; total time=   1.1s\n",
            "[CV] END criterion=gini, max_depth=10, min_samples_leaf=2, min_samples_split=7, n_estimators=10; total time=   0.4s\n",
            "[CV] END criterion=gini, max_depth=10, min_samples_leaf=2, min_samples_split=7, n_estimators=10; total time=   0.4s\n",
            "[CV] END criterion=gini, max_depth=10, min_samples_leaf=2, min_samples_split=7, n_estimators=20; total time=   0.6s\n",
            "[CV] END criterion=gini, max_depth=10, min_samples_leaf=2, min_samples_split=7, n_estimators=20; total time=   0.6s\n",
            "[CV] END criterion=gini, max_depth=10, min_samples_leaf=5, min_samples_split=2, n_estimators=100; total time=   1.8s\n",
            "[CV] END criterion=gini, max_depth=10, min_samples_leaf=5, min_samples_split=2, n_estimators=100; total time=   1.9s\n",
            "[CV] END criterion=gini, max_depth=10, min_samples_leaf=5, min_samples_split=2, n_estimators=50; total time=   1.4s\n",
            "[CV] END criterion=gini, max_depth=10, min_samples_leaf=5, min_samples_split=2, n_estimators=50; total time=   1.3s\n",
            "[CV] END criterion=gini, max_depth=10, min_samples_leaf=5, min_samples_split=2, n_estimators=10; total time=   0.4s\n",
            "[CV] END criterion=gini, max_depth=10, min_samples_leaf=5, min_samples_split=2, n_estimators=10; total time=   0.4s\n",
            "[CV] END criterion=gini, max_depth=10, min_samples_leaf=5, min_samples_split=2, n_estimators=20; total time=   0.6s\n",
            "[CV] END criterion=gini, max_depth=10, min_samples_leaf=5, min_samples_split=2, n_estimators=20; total time=   0.6s\n",
            "[CV] END criterion=gini, max_depth=10, min_samples_leaf=5, min_samples_split=5, n_estimators=100; total time=   1.9s\n",
            "[CV] END criterion=gini, max_depth=10, min_samples_leaf=5, min_samples_split=5, n_estimators=100; total time=   1.9s\n",
            "[CV] END criterion=gini, max_depth=10, min_samples_leaf=5, min_samples_split=5, n_estimators=50; total time=   1.1s\n",
            "[CV] END criterion=gini, max_depth=10, min_samples_leaf=5, min_samples_split=5, n_estimators=50; total time=   1.1s\n",
            "[CV] END criterion=gini, max_depth=10, min_samples_leaf=5, min_samples_split=5, n_estimators=10; total time=   0.4s\n",
            "[CV] END criterion=gini, max_depth=10, min_samples_leaf=5, min_samples_split=5, n_estimators=10; total time=   0.4s\n",
            "[CV] END criterion=gini, max_depth=10, min_samples_leaf=5, min_samples_split=5, n_estimators=20; total time=   0.6s\n",
            "[CV] END criterion=gini, max_depth=10, min_samples_leaf=5, min_samples_split=5, n_estimators=20; total time=   0.6s\n",
            "[CV] END criterion=gini, max_depth=10, min_samples_leaf=5, min_samples_split=7, n_estimators=100; total time=   2.5s\n",
            "[CV] END criterion=gini, max_depth=10, min_samples_leaf=5, min_samples_split=7, n_estimators=100; total time=   2.4s\n",
            "[CV] END criterion=gini, max_depth=10, min_samples_leaf=5, min_samples_split=7, n_estimators=50; total time=   1.1s\n",
            "[CV] END criterion=gini, max_depth=10, min_samples_leaf=5, min_samples_split=7, n_estimators=50; total time=   1.1s\n",
            "[CV] END criterion=gini, max_depth=10, min_samples_leaf=5, min_samples_split=7, n_estimators=10; total time=   0.4s\n",
            "[CV] END criterion=gini, max_depth=10, min_samples_leaf=5, min_samples_split=7, n_estimators=10; total time=   0.4s\n",
            "[CV] END criterion=gini, max_depth=10, min_samples_leaf=5, min_samples_split=7, n_estimators=20; total time=   0.6s\n",
            "[CV] END criterion=gini, max_depth=10, min_samples_leaf=5, min_samples_split=7, n_estimators=20; total time=   0.6s\n",
            "[CV] END criterion=gini, max_depth=None, min_samples_leaf=1, min_samples_split=2, n_estimators=100; total time=  12.4s\n",
            "[CV] END criterion=gini, max_depth=None, min_samples_leaf=1, min_samples_split=2, n_estimators=100; total time=  12.3s\n",
            "[CV] END criterion=gini, max_depth=None, min_samples_leaf=1, min_samples_split=2, n_estimators=50; total time=   6.6s\n",
            "[CV] END criterion=gini, max_depth=None, min_samples_leaf=1, min_samples_split=2, n_estimators=50; total time=   6.0s\n",
            "[CV] END criterion=gini, max_depth=None, min_samples_leaf=1, min_samples_split=2, n_estimators=10; total time=   1.4s\n",
            "[CV] END criterion=gini, max_depth=None, min_samples_leaf=1, min_samples_split=2, n_estimators=10; total time=   1.4s\n",
            "[CV] END criterion=gini, max_depth=None, min_samples_leaf=1, min_samples_split=2, n_estimators=20; total time=   3.1s\n",
            "[CV] END criterion=gini, max_depth=None, min_samples_leaf=1, min_samples_split=2, n_estimators=20; total time=   2.5s\n",
            "[CV] END criterion=gini, max_depth=None, min_samples_leaf=1, min_samples_split=5, n_estimators=100; total time=  12.1s\n",
            "[CV] END criterion=gini, max_depth=None, min_samples_leaf=1, min_samples_split=5, n_estimators=100; total time=  12.2s\n",
            "[CV] END criterion=gini, max_depth=None, min_samples_leaf=1, min_samples_split=5, n_estimators=50; total time=   5.6s\n",
            "[CV] END criterion=gini, max_depth=None, min_samples_leaf=1, min_samples_split=5, n_estimators=50; total time=   6.6s\n",
            "[CV] END criterion=gini, max_depth=None, min_samples_leaf=1, min_samples_split=5, n_estimators=10; total time=   1.3s\n",
            "[CV] END criterion=gini, max_depth=None, min_samples_leaf=1, min_samples_split=5, n_estimators=10; total time=   1.3s\n",
            "[CV] END criterion=gini, max_depth=None, min_samples_leaf=1, min_samples_split=5, n_estimators=20; total time=   2.4s\n",
            "[CV] END criterion=gini, max_depth=None, min_samples_leaf=1, min_samples_split=5, n_estimators=20; total time=   2.5s\n",
            "[CV] END criterion=gini, max_depth=None, min_samples_leaf=1, min_samples_split=7, n_estimators=100; total time=  11.5s\n",
            "[CV] END criterion=gini, max_depth=None, min_samples_leaf=1, min_samples_split=7, n_estimators=100; total time=  11.7s\n",
            "[CV] END criterion=gini, max_depth=None, min_samples_leaf=1, min_samples_split=7, n_estimators=50; total time=   6.1s\n",
            "[CV] END criterion=gini, max_depth=None, min_samples_leaf=1, min_samples_split=7, n_estimators=50; total time=   5.6s\n",
            "[CV] END criterion=gini, max_depth=None, min_samples_leaf=1, min_samples_split=7, n_estimators=10; total time=   1.3s\n",
            "[CV] END criterion=gini, max_depth=None, min_samples_leaf=1, min_samples_split=7, n_estimators=10; total time=   1.4s\n",
            "[CV] END criterion=gini, max_depth=None, min_samples_leaf=1, min_samples_split=7, n_estimators=20; total time=   3.0s\n",
            "[CV] END criterion=gini, max_depth=None, min_samples_leaf=1, min_samples_split=7, n_estimators=20; total time=   2.3s\n",
            "[CV] END criterion=gini, max_depth=None, min_samples_leaf=2, min_samples_split=2, n_estimators=100; total time=   9.5s\n",
            "[CV] END criterion=gini, max_depth=None, min_samples_leaf=2, min_samples_split=2, n_estimators=100; total time=   8.7s\n",
            "[CV] END criterion=gini, max_depth=None, min_samples_leaf=2, min_samples_split=2, n_estimators=50; total time=   5.0s\n",
            "[CV] END criterion=gini, max_depth=None, min_samples_leaf=2, min_samples_split=2, n_estimators=50; total time=   4.5s\n",
            "[CV] END criterion=gini, max_depth=None, min_samples_leaf=2, min_samples_split=2, n_estimators=10; total time=   1.1s\n",
            "[CV] END criterion=gini, max_depth=None, min_samples_leaf=2, min_samples_split=2, n_estimators=10; total time=   1.1s\n",
            "[CV] END criterion=gini, max_depth=None, min_samples_leaf=2, min_samples_split=2, n_estimators=20; total time=   1.9s\n",
            "[CV] END criterion=gini, max_depth=None, min_samples_leaf=2, min_samples_split=2, n_estimators=20; total time=   2.4s\n",
            "[CV] END criterion=gini, max_depth=None, min_samples_leaf=2, min_samples_split=5, n_estimators=100; total time=   8.4s\n",
            "[CV] END criterion=gini, max_depth=None, min_samples_leaf=2, min_samples_split=5, n_estimators=100; total time=   9.1s\n",
            "[CV] END criterion=gini, max_depth=None, min_samples_leaf=2, min_samples_split=5, n_estimators=50; total time=   4.2s\n",
            "[CV] END criterion=gini, max_depth=None, min_samples_leaf=2, min_samples_split=5, n_estimators=50; total time=   5.1s\n",
            "[CV] END criterion=gini, max_depth=None, min_samples_leaf=2, min_samples_split=5, n_estimators=10; total time=   1.0s\n",
            "[CV] END criterion=gini, max_depth=None, min_samples_leaf=2, min_samples_split=5, n_estimators=10; total time=   1.0s\n",
            "[CV] END criterion=gini, max_depth=None, min_samples_leaf=2, min_samples_split=5, n_estimators=20; total time=   1.8s\n",
            "[CV] END criterion=gini, max_depth=None, min_samples_leaf=2, min_samples_split=5, n_estimators=20; total time=   1.9s\n",
            "[CV] END criterion=gini, max_depth=None, min_samples_leaf=2, min_samples_split=7, n_estimators=100; total time=   9.1s\n",
            "[CV] END criterion=gini, max_depth=None, min_samples_leaf=2, min_samples_split=7, n_estimators=100; total time=   9.5s\n",
            "[CV] END criterion=gini, max_depth=None, min_samples_leaf=2, min_samples_split=7, n_estimators=50; total time=   4.2s\n",
            "[CV] END criterion=gini, max_depth=None, min_samples_leaf=2, min_samples_split=7, n_estimators=50; total time=   4.3s\n",
            "[CV] END criterion=gini, max_depth=None, min_samples_leaf=2, min_samples_split=7, n_estimators=10; total time=   1.4s\n",
            "[CV] END criterion=gini, max_depth=None, min_samples_leaf=2, min_samples_split=7, n_estimators=10; total time=   1.5s\n",
            "[CV] END criterion=gini, max_depth=None, min_samples_leaf=2, min_samples_split=7, n_estimators=20; total time=   2.0s\n",
            "[CV] END criterion=gini, max_depth=None, min_samples_leaf=2, min_samples_split=7, n_estimators=20; total time=   2.1s\n",
            "[CV] END criterion=gini, max_depth=None, min_samples_leaf=5, min_samples_split=2, n_estimators=100; total time=   3.9s\n",
            "[CV] END criterion=gini, max_depth=None, min_samples_leaf=5, min_samples_split=2, n_estimators=100; total time=   4.9s\n",
            "[CV] END criterion=gini, max_depth=None, min_samples_leaf=5, min_samples_split=2, n_estimators=50; total time=   2.0s\n",
            "[CV] END criterion=gini, max_depth=None, min_samples_leaf=5, min_samples_split=2, n_estimators=50; total time=   2.2s\n",
            "[CV] END criterion=gini, max_depth=None, min_samples_leaf=5, min_samples_split=2, n_estimators=10; total time=   0.7s\n",
            "[CV] END criterion=gini, max_depth=None, min_samples_leaf=5, min_samples_split=2, n_estimators=10; total time=   0.6s\n",
            "[CV] END criterion=gini, max_depth=None, min_samples_leaf=5, min_samples_split=2, n_estimators=20; total time=   1.1s\n",
            "[CV] END criterion=gini, max_depth=None, min_samples_leaf=5, min_samples_split=2, n_estimators=20; total time=   1.0s\n",
            "[CV] END criterion=gini, max_depth=None, min_samples_leaf=5, min_samples_split=5, n_estimators=100; total time=   5.0s\n",
            "[CV] END criterion=gini, max_depth=None, min_samples_leaf=5, min_samples_split=5, n_estimators=100; total time=   4.3s\n",
            "[CV] END criterion=gini, max_depth=None, min_samples_leaf=5, min_samples_split=5, n_estimators=50; total time=   2.2s\n",
            "[CV] END criterion=gini, max_depth=None, min_samples_leaf=5, min_samples_split=5, n_estimators=50; total time=   2.3s\n",
            "[CV] END criterion=gini, max_depth=None, min_samples_leaf=5, min_samples_split=5, n_estimators=10; total time=   0.7s\n",
            "[CV] END criterion=gini, max_depth=None, min_samples_leaf=5, min_samples_split=5, n_estimators=10; total time=   0.8s\n",
            "[CV] END criterion=gini, max_depth=None, min_samples_leaf=5, min_samples_split=5, n_estimators=20; total time=   1.2s\n",
            "[CV] END criterion=gini, max_depth=None, min_samples_leaf=5, min_samples_split=5, n_estimators=20; total time=   1.0s\n",
            "[CV] END criterion=gini, max_depth=None, min_samples_leaf=5, min_samples_split=7, n_estimators=100; total time=   4.1s\n",
            "[CV] END criterion=gini, max_depth=None, min_samples_leaf=5, min_samples_split=7, n_estimators=100; total time=   4.4s\n",
            "[CV] END criterion=gini, max_depth=None, min_samples_leaf=5, min_samples_split=7, n_estimators=50; total time=   2.9s\n",
            "[CV] END criterion=gini, max_depth=None, min_samples_leaf=5, min_samples_split=7, n_estimators=50; total time=   2.3s\n",
            "[CV] END criterion=gini, max_depth=None, min_samples_leaf=5, min_samples_split=7, n_estimators=10; total time=   0.6s\n",
            "[CV] END criterion=gini, max_depth=None, min_samples_leaf=5, min_samples_split=7, n_estimators=10; total time=   0.7s\n",
            "[CV] END criterion=gini, max_depth=None, min_samples_leaf=5, min_samples_split=7, n_estimators=20; total time=   1.0s\n",
            "[CV] END criterion=gini, max_depth=None, min_samples_leaf=5, min_samples_split=7, n_estimators=20; total time=   1.1s\n",
            "[CV] END criterion=entropy, max_depth=8, min_samples_leaf=1, min_samples_split=2, n_estimators=100; total time=   1.7s\n",
            "[CV] END criterion=entropy, max_depth=8, min_samples_leaf=1, min_samples_split=2, n_estimators=100; total time=   1.7s\n",
            "[CV] END criterion=entropy, max_depth=8, min_samples_leaf=1, min_samples_split=2, n_estimators=50; total time=   1.1s\n",
            "[CV] END criterion=entropy, max_depth=8, min_samples_leaf=1, min_samples_split=2, n_estimators=50; total time=   1.3s\n",
            "[CV] END criterion=entropy, max_depth=8, min_samples_leaf=1, min_samples_split=2, n_estimators=10; total time=   0.6s\n",
            "[CV] END criterion=entropy, max_depth=8, min_samples_leaf=1, min_samples_split=2, n_estimators=10; total time=   0.4s\n",
            "[CV] END criterion=entropy, max_depth=8, min_samples_leaf=1, min_samples_split=2, n_estimators=20; total time=   0.5s\n",
            "[CV] END criterion=entropy, max_depth=8, min_samples_leaf=1, min_samples_split=2, n_estimators=20; total time=   0.5s\n",
            "[CV] END criterion=entropy, max_depth=8, min_samples_leaf=1, min_samples_split=5, n_estimators=100; total time=   1.7s\n",
            "[CV] END criterion=entropy, max_depth=8, min_samples_leaf=1, min_samples_split=5, n_estimators=100; total time=   1.7s\n",
            "[CV] END criterion=entropy, max_depth=8, min_samples_leaf=1, min_samples_split=5, n_estimators=50; total time=   1.0s\n",
            "[CV] END criterion=entropy, max_depth=8, min_samples_leaf=1, min_samples_split=5, n_estimators=50; total time=   1.0s\n",
            "[CV] END criterion=entropy, max_depth=8, min_samples_leaf=1, min_samples_split=5, n_estimators=10; total time=   0.4s\n",
            "[CV] END criterion=entropy, max_depth=8, min_samples_leaf=1, min_samples_split=5, n_estimators=10; total time=   0.4s\n",
            "[CV] END criterion=entropy, max_depth=8, min_samples_leaf=1, min_samples_split=5, n_estimators=20; total time=   0.5s\n",
            "[CV] END criterion=entropy, max_depth=8, min_samples_leaf=1, min_samples_split=5, n_estimators=20; total time=   0.5s\n",
            "[CV] END criterion=entropy, max_depth=8, min_samples_leaf=1, min_samples_split=7, n_estimators=100; total time=   1.8s\n",
            "[CV] END criterion=entropy, max_depth=8, min_samples_leaf=1, min_samples_split=7, n_estimators=100; total time=   2.2s\n",
            "[CV] END criterion=entropy, max_depth=8, min_samples_leaf=1, min_samples_split=7, n_estimators=50; total time=   1.0s\n",
            "[CV] END criterion=entropy, max_depth=8, min_samples_leaf=1, min_samples_split=7, n_estimators=50; total time=   1.0s\n",
            "[CV] END criterion=entropy, max_depth=8, min_samples_leaf=1, min_samples_split=7, n_estimators=10; total time=   0.4s\n",
            "[CV] END criterion=entropy, max_depth=8, min_samples_leaf=1, min_samples_split=7, n_estimators=10; total time=   0.4s\n",
            "[CV] END criterion=entropy, max_depth=8, min_samples_leaf=1, min_samples_split=7, n_estimators=20; total time=   0.6s\n",
            "[CV] END criterion=entropy, max_depth=8, min_samples_leaf=1, min_samples_split=7, n_estimators=20; total time=   0.6s\n",
            "[CV] END criterion=entropy, max_depth=8, min_samples_leaf=2, min_samples_split=2, n_estimators=100; total time=   1.8s\n",
            "[CV] END criterion=entropy, max_depth=8, min_samples_leaf=2, min_samples_split=2, n_estimators=100; total time=   1.7s\n",
            "[CV] END criterion=entropy, max_depth=8, min_samples_leaf=2, min_samples_split=2, n_estimators=50; total time=   0.9s\n",
            "[CV] END criterion=entropy, max_depth=8, min_samples_leaf=2, min_samples_split=2, n_estimators=50; total time=   1.0s\n",
            "[CV] END criterion=entropy, max_depth=8, min_samples_leaf=2, min_samples_split=2, n_estimators=10; total time=   0.4s\n",
            "[CV] END criterion=entropy, max_depth=8, min_samples_leaf=2, min_samples_split=2, n_estimators=10; total time=   0.5s\n",
            "[CV] END criterion=entropy, max_depth=8, min_samples_leaf=2, min_samples_split=2, n_estimators=20; total time=   0.7s\n",
            "[CV] END criterion=entropy, max_depth=8, min_samples_leaf=2, min_samples_split=2, n_estimators=20; total time=   0.7s\n",
            "[CV] END criterion=entropy, max_depth=8, min_samples_leaf=2, min_samples_split=5, n_estimators=100; total time=   2.0s\n",
            "[CV] END criterion=entropy, max_depth=8, min_samples_leaf=2, min_samples_split=5, n_estimators=100; total time=   1.8s\n",
            "[CV] END criterion=entropy, max_depth=8, min_samples_leaf=2, min_samples_split=5, n_estimators=50; total time=   0.9s\n",
            "[CV] END criterion=entropy, max_depth=8, min_samples_leaf=2, min_samples_split=5, n_estimators=50; total time=   1.0s\n",
            "[CV] END criterion=entropy, max_depth=8, min_samples_leaf=2, min_samples_split=5, n_estimators=10; total time=   0.4s\n",
            "[CV] END criterion=entropy, max_depth=8, min_samples_leaf=2, min_samples_split=5, n_estimators=10; total time=   0.4s\n",
            "[CV] END criterion=entropy, max_depth=8, min_samples_leaf=2, min_samples_split=5, n_estimators=20; total time=   0.5s\n",
            "[CV] END criterion=entropy, max_depth=8, min_samples_leaf=2, min_samples_split=5, n_estimators=20; total time=   0.5s\n",
            "[CV] END criterion=entropy, max_depth=8, min_samples_leaf=2, min_samples_split=7, n_estimators=100; total time=   1.8s\n",
            "[CV] END criterion=entropy, max_depth=8, min_samples_leaf=2, min_samples_split=7, n_estimators=100; total time=   1.9s\n",
            "[CV] END criterion=entropy, max_depth=8, min_samples_leaf=2, min_samples_split=7, n_estimators=50; total time=   1.3s\n",
            "[CV] END criterion=entropy, max_depth=8, min_samples_leaf=2, min_samples_split=7, n_estimators=50; total time=   1.2s\n",
            "[CV] END criterion=entropy, max_depth=8, min_samples_leaf=2, min_samples_split=7, n_estimators=10; total time=   0.4s\n",
            "[CV] END criterion=entropy, max_depth=8, min_samples_leaf=2, min_samples_split=7, n_estimators=10; total time=   0.4s\n",
            "[CV] END criterion=entropy, max_depth=8, min_samples_leaf=2, min_samples_split=7, n_estimators=20; total time=   0.5s\n",
            "[CV] END criterion=entropy, max_depth=8, min_samples_leaf=2, min_samples_split=7, n_estimators=20; total time=   0.5s\n",
            "[CV] END criterion=entropy, max_depth=8, min_samples_leaf=5, min_samples_split=2, n_estimators=100; total time=   1.6s\n",
            "[CV] END criterion=entropy, max_depth=8, min_samples_leaf=5, min_samples_split=2, n_estimators=100; total time=   1.6s\n",
            "[CV] END criterion=entropy, max_depth=8, min_samples_leaf=5, min_samples_split=2, n_estimators=50; total time=   0.9s\n",
            "[CV] END criterion=entropy, max_depth=8, min_samples_leaf=5, min_samples_split=2, n_estimators=50; total time=   0.9s\n",
            "[CV] END criterion=entropy, max_depth=8, min_samples_leaf=5, min_samples_split=2, n_estimators=10; total time=   0.4s\n",
            "[CV] END criterion=entropy, max_depth=8, min_samples_leaf=5, min_samples_split=2, n_estimators=10; total time=   0.4s\n",
            "[CV] END criterion=entropy, max_depth=8, min_samples_leaf=5, min_samples_split=2, n_estimators=20; total time=   0.5s\n",
            "[CV] END criterion=entropy, max_depth=8, min_samples_leaf=5, min_samples_split=2, n_estimators=20; total time=   0.5s\n",
            "[CV] END criterion=entropy, max_depth=8, min_samples_leaf=5, min_samples_split=5, n_estimators=100; total time=   1.9s\n",
            "[CV] END criterion=entropy, max_depth=8, min_samples_leaf=5, min_samples_split=5, n_estimators=100; total time=   2.0s\n",
            "[CV] END criterion=entropy, max_depth=8, min_samples_leaf=5, min_samples_split=5, n_estimators=50; total time=   1.0s\n",
            "[CV] END criterion=entropy, max_depth=8, min_samples_leaf=5, min_samples_split=5, n_estimators=50; total time=   1.0s\n",
            "[CV] END criterion=entropy, max_depth=8, min_samples_leaf=5, min_samples_split=5, n_estimators=10; total time=   0.4s\n",
            "[CV] END criterion=entropy, max_depth=8, min_samples_leaf=5, min_samples_split=5, n_estimators=10; total time=   0.4s\n",
            "[CV] END criterion=entropy, max_depth=8, min_samples_leaf=5, min_samples_split=5, n_estimators=20; total time=   0.5s\n",
            "[CV] END criterion=entropy, max_depth=8, min_samples_leaf=5, min_samples_split=5, n_estimators=20; total time=   0.5s\n",
            "[CV] END criterion=entropy, max_depth=8, min_samples_leaf=5, min_samples_split=7, n_estimators=100; total time=   1.7s\n",
            "[CV] END criterion=entropy, max_depth=8, min_samples_leaf=5, min_samples_split=7, n_estimators=100; total time=   1.6s\n",
            "[CV] END criterion=entropy, max_depth=8, min_samples_leaf=5, min_samples_split=7, n_estimators=50; total time=   1.0s\n",
            "[CV] END criterion=entropy, max_depth=8, min_samples_leaf=5, min_samples_split=7, n_estimators=50; total time=   0.9s\n",
            "[CV] END criterion=entropy, max_depth=8, min_samples_leaf=5, min_samples_split=7, n_estimators=10; total time=   0.4s\n",
            "[CV] END criterion=entropy, max_depth=8, min_samples_leaf=5, min_samples_split=7, n_estimators=10; total time=   0.5s\n",
            "[CV] END criterion=entropy, max_depth=8, min_samples_leaf=5, min_samples_split=7, n_estimators=20; total time=   0.7s\n",
            "[CV] END criterion=entropy, max_depth=8, min_samples_leaf=5, min_samples_split=7, n_estimators=20; total time=   0.7s\n",
            "[CV] END criterion=entropy, max_depth=10, min_samples_leaf=1, min_samples_split=2, n_estimators=100; total time=   2.2s\n",
            "[CV] END criterion=entropy, max_depth=10, min_samples_leaf=1, min_samples_split=2, n_estimators=100; total time=   2.1s\n",
            "[CV] END criterion=entropy, max_depth=10, min_samples_leaf=1, min_samples_split=2, n_estimators=50; total time=   1.1s\n",
            "[CV] END criterion=entropy, max_depth=10, min_samples_leaf=1, min_samples_split=2, n_estimators=50; total time=   1.1s\n",
            "[CV] END criterion=entropy, max_depth=10, min_samples_leaf=1, min_samples_split=2, n_estimators=10; total time=   0.4s\n",
            "[CV] END criterion=entropy, max_depth=10, min_samples_leaf=1, min_samples_split=2, n_estimators=10; total time=   0.4s\n",
            "[CV] END criterion=entropy, max_depth=10, min_samples_leaf=1, min_samples_split=2, n_estimators=20; total time=   0.6s\n",
            "[CV] END criterion=entropy, max_depth=10, min_samples_leaf=1, min_samples_split=2, n_estimators=20; total time=   0.6s\n",
            "[CV] END criterion=entropy, max_depth=10, min_samples_leaf=1, min_samples_split=5, n_estimators=100; total time=   2.1s\n",
            "[CV] END criterion=entropy, max_depth=10, min_samples_leaf=1, min_samples_split=5, n_estimators=100; total time=   2.6s\n",
            "[CV] END criterion=entropy, max_depth=10, min_samples_leaf=1, min_samples_split=5, n_estimators=50; total time=   1.1s\n",
            "[CV] END criterion=entropy, max_depth=10, min_samples_leaf=1, min_samples_split=5, n_estimators=50; total time=   1.2s\n",
            "[CV] END criterion=entropy, max_depth=10, min_samples_leaf=1, min_samples_split=5, n_estimators=10; total time=   0.4s\n",
            "[CV] END criterion=entropy, max_depth=10, min_samples_leaf=1, min_samples_split=5, n_estimators=10; total time=   0.4s\n",
            "[CV] END criterion=entropy, max_depth=10, min_samples_leaf=1, min_samples_split=5, n_estimators=20; total time=   0.6s\n",
            "[CV] END criterion=entropy, max_depth=10, min_samples_leaf=1, min_samples_split=5, n_estimators=20; total time=   0.6s\n",
            "[CV] END criterion=entropy, max_depth=10, min_samples_leaf=1, min_samples_split=7, n_estimators=100; total time=   1.9s\n",
            "[CV] END criterion=entropy, max_depth=10, min_samples_leaf=1, min_samples_split=7, n_estimators=100; total time=   1.9s\n",
            "[CV] END criterion=entropy, max_depth=10, min_samples_leaf=1, min_samples_split=7, n_estimators=50; total time=   1.0s\n",
            "[CV] END criterion=entropy, max_depth=10, min_samples_leaf=1, min_samples_split=7, n_estimators=50; total time=   1.3s\n",
            "[CV] END criterion=entropy, max_depth=10, min_samples_leaf=1, min_samples_split=7, n_estimators=10; total time=   0.5s\n",
            "[CV] END criterion=entropy, max_depth=10, min_samples_leaf=1, min_samples_split=7, n_estimators=10; total time=   0.6s\n",
            "[CV] END criterion=entropy, max_depth=10, min_samples_leaf=1, min_samples_split=7, n_estimators=20; total time=   0.8s\n",
            "[CV] END criterion=entropy, max_depth=10, min_samples_leaf=1, min_samples_split=7, n_estimators=20; total time=   0.6s\n",
            "[CV] END criterion=entropy, max_depth=10, min_samples_leaf=2, min_samples_split=2, n_estimators=100; total time=   1.9s\n",
            "[CV] END criterion=entropy, max_depth=10, min_samples_leaf=2, min_samples_split=2, n_estimators=100; total time=   2.0s\n",
            "[CV] END criterion=entropy, max_depth=10, min_samples_leaf=2, min_samples_split=2, n_estimators=50; total time=   1.1s\n",
            "[CV] END criterion=entropy, max_depth=10, min_samples_leaf=2, min_samples_split=2, n_estimators=50; total time=   1.2s\n",
            "[CV] END criterion=entropy, max_depth=10, min_samples_leaf=2, min_samples_split=2, n_estimators=10; total time=   0.4s\n",
            "[CV] END criterion=entropy, max_depth=10, min_samples_leaf=2, min_samples_split=2, n_estimators=10; total time=   0.4s\n",
            "[CV] END criterion=entropy, max_depth=10, min_samples_leaf=2, min_samples_split=2, n_estimators=20; total time=   0.6s\n",
            "[CV] END criterion=entropy, max_depth=10, min_samples_leaf=2, min_samples_split=2, n_estimators=20; total time=   0.6s\n",
            "[CV] END criterion=entropy, max_depth=10, min_samples_leaf=2, min_samples_split=5, n_estimators=100; total time=   2.3s\n",
            "[CV] END criterion=entropy, max_depth=10, min_samples_leaf=2, min_samples_split=5, n_estimators=100; total time=   2.2s\n",
            "[CV] END criterion=entropy, max_depth=10, min_samples_leaf=2, min_samples_split=5, n_estimators=50; total time=   1.1s\n",
            "[CV] END criterion=entropy, max_depth=10, min_samples_leaf=2, min_samples_split=5, n_estimators=50; total time=   1.1s\n",
            "[CV] END criterion=entropy, max_depth=10, min_samples_leaf=2, min_samples_split=5, n_estimators=10; total time=   0.4s\n",
            "[CV] END criterion=entropy, max_depth=10, min_samples_leaf=2, min_samples_split=5, n_estimators=10; total time=   0.4s\n",
            "[CV] END criterion=entropy, max_depth=10, min_samples_leaf=2, min_samples_split=5, n_estimators=20; total time=   0.6s\n",
            "[CV] END criterion=entropy, max_depth=10, min_samples_leaf=2, min_samples_split=5, n_estimators=20; total time=   0.6s\n",
            "[CV] END criterion=entropy, max_depth=10, min_samples_leaf=2, min_samples_split=7, n_estimators=100; total time=   2.0s\n",
            "[CV] END criterion=entropy, max_depth=10, min_samples_leaf=2, min_samples_split=7, n_estimators=100; total time=   2.1s\n",
            "[CV] END criterion=entropy, max_depth=10, min_samples_leaf=2, min_samples_split=7, n_estimators=50; total time=   1.3s\n",
            "[CV] END criterion=entropy, max_depth=10, min_samples_leaf=2, min_samples_split=7, n_estimators=50; total time=   1.5s\n",
            "[CV] END criterion=entropy, max_depth=10, min_samples_leaf=2, min_samples_split=7, n_estimators=10; total time=   0.5s\n",
            "[CV] END criterion=entropy, max_depth=10, min_samples_leaf=2, min_samples_split=7, n_estimators=10; total time=   0.4s\n",
            "[CV] END criterion=entropy, max_depth=10, min_samples_leaf=2, min_samples_split=7, n_estimators=20; total time=   0.6s\n",
            "[CV] END criterion=entropy, max_depth=10, min_samples_leaf=2, min_samples_split=7, n_estimators=20; total time=   0.6s\n",
            "[CV] END criterion=entropy, max_depth=10, min_samples_leaf=5, min_samples_split=2, n_estimators=100; total time=   2.0s\n",
            "[CV] END criterion=entropy, max_depth=10, min_samples_leaf=5, min_samples_split=2, n_estimators=100; total time=   2.0s\n",
            "[CV] END criterion=entropy, max_depth=10, min_samples_leaf=5, min_samples_split=2, n_estimators=50; total time=   1.1s\n",
            "[CV] END criterion=entropy, max_depth=10, min_samples_leaf=5, min_samples_split=2, n_estimators=50; total time=   1.0s\n",
            "[CV] END criterion=entropy, max_depth=10, min_samples_leaf=5, min_samples_split=2, n_estimators=10; total time=   0.4s\n",
            "[CV] END criterion=entropy, max_depth=10, min_samples_leaf=5, min_samples_split=2, n_estimators=10; total time=   0.4s\n",
            "[CV] END criterion=entropy, max_depth=10, min_samples_leaf=5, min_samples_split=2, n_estimators=20; total time=   0.6s\n",
            "[CV] END criterion=entropy, max_depth=10, min_samples_leaf=5, min_samples_split=2, n_estimators=20; total time=   0.5s\n",
            "[CV] END criterion=entropy, max_depth=10, min_samples_leaf=5, min_samples_split=5, n_estimators=100; total time=   2.5s\n",
            "[CV] END criterion=entropy, max_depth=10, min_samples_leaf=5, min_samples_split=5, n_estimators=100; total time=   1.9s\n",
            "[CV] END criterion=entropy, max_depth=10, min_samples_leaf=5, min_samples_split=5, n_estimators=50; total time=   1.1s\n",
            "[CV] END criterion=entropy, max_depth=10, min_samples_leaf=5, min_samples_split=5, n_estimators=50; total time=   1.0s\n",
            "[CV] END criterion=entropy, max_depth=10, min_samples_leaf=5, min_samples_split=5, n_estimators=10; total time=   0.4s\n",
            "[CV] END criterion=entropy, max_depth=10, min_samples_leaf=5, min_samples_split=5, n_estimators=10; total time=   0.4s\n",
            "[CV] END criterion=entropy, max_depth=10, min_samples_leaf=5, min_samples_split=5, n_estimators=20; total time=   0.6s\n",
            "[CV] END criterion=entropy, max_depth=10, min_samples_leaf=5, min_samples_split=5, n_estimators=20; total time=   0.5s\n",
            "[CV] END criterion=entropy, max_depth=10, min_samples_leaf=5, min_samples_split=7, n_estimators=100; total time=   1.8s\n",
            "[CV] END criterion=entropy, max_depth=10, min_samples_leaf=5, min_samples_split=7, n_estimators=100; total time=   1.7s\n",
            "[CV] END criterion=entropy, max_depth=10, min_samples_leaf=5, min_samples_split=7, n_estimators=50; total time=   1.0s\n",
            "[CV] END criterion=entropy, max_depth=10, min_samples_leaf=5, min_samples_split=7, n_estimators=50; total time=   1.5s\n",
            "[CV] END criterion=entropy, max_depth=10, min_samples_leaf=5, min_samples_split=7, n_estimators=10; total time=   0.6s\n",
            "[CV] END criterion=entropy, max_depth=10, min_samples_leaf=5, min_samples_split=7, n_estimators=10; total time=   0.5s\n",
            "[CV] END criterion=entropy, max_depth=10, min_samples_leaf=5, min_samples_split=7, n_estimators=20; total time=   0.6s\n",
            "[CV] END criterion=entropy, max_depth=10, min_samples_leaf=5, min_samples_split=7, n_estimators=20; total time=   0.6s\n",
            "[CV] END criterion=entropy, max_depth=None, min_samples_leaf=1, min_samples_split=2, n_estimators=100; total time=  10.7s\n",
            "[CV] END criterion=entropy, max_depth=None, min_samples_leaf=1, min_samples_split=2, n_estimators=100; total time=  10.9s\n",
            "[CV] END criterion=entropy, max_depth=None, min_samples_leaf=1, min_samples_split=2, n_estimators=50; total time=   6.1s\n",
            "[CV] END criterion=entropy, max_depth=None, min_samples_leaf=1, min_samples_split=2, n_estimators=50; total time=   5.5s\n",
            "[CV] END criterion=entropy, max_depth=None, min_samples_leaf=1, min_samples_split=2, n_estimators=10; total time=   1.7s\n",
            "[CV] END criterion=entropy, max_depth=None, min_samples_leaf=1, min_samples_split=2, n_estimators=10; total time=   1.6s\n",
            "[CV] END criterion=entropy, max_depth=None, min_samples_leaf=1, min_samples_split=2, n_estimators=20; total time=   2.4s\n",
            "[CV] END criterion=entropy, max_depth=None, min_samples_leaf=1, min_samples_split=2, n_estimators=20; total time=   2.3s\n",
            "[CV] END criterion=entropy, max_depth=None, min_samples_leaf=1, min_samples_split=5, n_estimators=100; total time=  11.3s\n",
            "[CV] END criterion=entropy, max_depth=None, min_samples_leaf=1, min_samples_split=5, n_estimators=100; total time=  11.7s\n",
            "[CV] END criterion=entropy, max_depth=None, min_samples_leaf=1, min_samples_split=5, n_estimators=50; total time=   5.5s\n",
            "[CV] END criterion=entropy, max_depth=None, min_samples_leaf=1, min_samples_split=5, n_estimators=50; total time=   6.3s\n",
            "[CV] END criterion=entropy, max_depth=None, min_samples_leaf=1, min_samples_split=5, n_estimators=10; total time=   1.3s\n",
            "[CV] END criterion=entropy, max_depth=None, min_samples_leaf=1, min_samples_split=5, n_estimators=10; total time=   1.4s\n",
            "[CV] END criterion=entropy, max_depth=None, min_samples_leaf=1, min_samples_split=5, n_estimators=20; total time=   2.4s\n",
            "[CV] END criterion=entropy, max_depth=None, min_samples_leaf=1, min_samples_split=5, n_estimators=20; total time=   2.9s\n",
            "[CV] END criterion=entropy, max_depth=None, min_samples_leaf=1, min_samples_split=7, n_estimators=100; total time=  11.4s\n",
            "[CV] END criterion=entropy, max_depth=None, min_samples_leaf=1, min_samples_split=7, n_estimators=100; total time=  11.2s\n",
            "[CV] END criterion=entropy, max_depth=None, min_samples_leaf=1, min_samples_split=7, n_estimators=50; total time=   6.0s\n",
            "[CV] END criterion=entropy, max_depth=None, min_samples_leaf=1, min_samples_split=7, n_estimators=50; total time=   5.5s\n",
            "[CV] END criterion=entropy, max_depth=None, min_samples_leaf=1, min_samples_split=7, n_estimators=10; total time=   1.3s\n",
            "[CV] END criterion=entropy, max_depth=None, min_samples_leaf=1, min_samples_split=7, n_estimators=10; total time=   1.3s\n",
            "[CV] END criterion=entropy, max_depth=None, min_samples_leaf=1, min_samples_split=7, n_estimators=20; total time=   2.8s\n",
            "[CV] END criterion=entropy, max_depth=None, min_samples_leaf=1, min_samples_split=7, n_estimators=20; total time=   2.3s\n",
            "[CV] END criterion=entropy, max_depth=None, min_samples_leaf=2, min_samples_split=2, n_estimators=100; total time=   9.0s\n",
            "[CV] END criterion=entropy, max_depth=None, min_samples_leaf=2, min_samples_split=2, n_estimators=100; total time=   9.0s\n",
            "[CV] END criterion=entropy, max_depth=None, min_samples_leaf=2, min_samples_split=2, n_estimators=50; total time=   5.0s\n",
            "[CV] END criterion=entropy, max_depth=None, min_samples_leaf=2, min_samples_split=2, n_estimators=50; total time=   4.4s\n",
            "[CV] END criterion=entropy, max_depth=None, min_samples_leaf=2, min_samples_split=2, n_estimators=10; total time=   1.0s\n",
            "[CV] END criterion=entropy, max_depth=None, min_samples_leaf=2, min_samples_split=2, n_estimators=10; total time=   1.0s\n",
            "[CV] END criterion=entropy, max_depth=None, min_samples_leaf=2, min_samples_split=2, n_estimators=20; total time=   1.8s\n",
            "[CV] END criterion=entropy, max_depth=None, min_samples_leaf=2, min_samples_split=2, n_estimators=20; total time=   2.6s\n",
            "[CV] END criterion=entropy, max_depth=None, min_samples_leaf=2, min_samples_split=5, n_estimators=100; total time=   8.4s\n",
            "[CV] END criterion=entropy, max_depth=None, min_samples_leaf=2, min_samples_split=5, n_estimators=100; total time=   9.1s\n",
            "[CV] END criterion=entropy, max_depth=None, min_samples_leaf=2, min_samples_split=5, n_estimators=50; total time=   4.2s\n",
            "[CV] END criterion=entropy, max_depth=None, min_samples_leaf=2, min_samples_split=5, n_estimators=50; total time=   4.9s\n",
            "[CV] END criterion=entropy, max_depth=None, min_samples_leaf=2, min_samples_split=5, n_estimators=10; total time=   1.0s\n",
            "[CV] END criterion=entropy, max_depth=None, min_samples_leaf=2, min_samples_split=5, n_estimators=10; total time=   1.1s\n",
            "[CV] END criterion=entropy, max_depth=None, min_samples_leaf=2, min_samples_split=5, n_estimators=20; total time=   1.8s\n",
            "[CV] END criterion=entropy, max_depth=None, min_samples_leaf=2, min_samples_split=5, n_estimators=20; total time=   1.8s\n",
            "[CV] END criterion=entropy, max_depth=None, min_samples_leaf=2, min_samples_split=7, n_estimators=100; total time=   9.5s\n",
            "[CV] END criterion=entropy, max_depth=None, min_samples_leaf=2, min_samples_split=7, n_estimators=100; total time=   9.8s\n",
            "[CV] END criterion=entropy, max_depth=None, min_samples_leaf=2, min_samples_split=7, n_estimators=50; total time=   4.3s\n",
            "[CV] END criterion=entropy, max_depth=None, min_samples_leaf=2, min_samples_split=7, n_estimators=50; total time=   5.0s\n",
            "[CV] END criterion=entropy, max_depth=None, min_samples_leaf=2, min_samples_split=7, n_estimators=10; total time=   1.4s\n",
            "[CV] END criterion=entropy, max_depth=None, min_samples_leaf=2, min_samples_split=7, n_estimators=10; total time=   1.1s\n",
            "[CV] END criterion=entropy, max_depth=None, min_samples_leaf=2, min_samples_split=7, n_estimators=20; total time=   1.7s\n",
            "[CV] END criterion=entropy, max_depth=None, min_samples_leaf=2, min_samples_split=7, n_estimators=20; total time=   1.8s\n",
            "[CV] END criterion=entropy, max_depth=None, min_samples_leaf=5, min_samples_split=2, n_estimators=100; total time=   3.6s\n",
            "[CV] END criterion=entropy, max_depth=None, min_samples_leaf=5, min_samples_split=2, n_estimators=100; total time=   4.4s\n",
            "[CV] END criterion=entropy, max_depth=None, min_samples_leaf=5, min_samples_split=2, n_estimators=50; total time=   2.0s\n",
            "[CV] END criterion=entropy, max_depth=None, min_samples_leaf=5, min_samples_split=2, n_estimators=50; total time=   2.1s\n",
            "[CV] END criterion=entropy, max_depth=None, min_samples_leaf=5, min_samples_split=2, n_estimators=10; total time=   0.6s\n",
            "[CV] END criterion=entropy, max_depth=None, min_samples_leaf=5, min_samples_split=2, n_estimators=10; total time=   0.6s\n",
            "[CV] END criterion=entropy, max_depth=None, min_samples_leaf=5, min_samples_split=2, n_estimators=20; total time=   1.0s\n",
            "[CV] END criterion=entropy, max_depth=None, min_samples_leaf=5, min_samples_split=2, n_estimators=20; total time=   1.0s\n",
            "[CV] END criterion=entropy, max_depth=None, min_samples_leaf=5, min_samples_split=5, n_estimators=100; total time=   4.4s\n",
            "[CV] END criterion=entropy, max_depth=None, min_samples_leaf=5, min_samples_split=5, n_estimators=100; total time=   4.0s\n",
            "[CV] END criterion=entropy, max_depth=None, min_samples_leaf=5, min_samples_split=5, n_estimators=50; total time=   2.2s\n",
            "[CV] END criterion=entropy, max_depth=None, min_samples_leaf=5, min_samples_split=5, n_estimators=50; total time=   2.1s\n",
            "[CV] END criterion=entropy, max_depth=None, min_samples_leaf=5, min_samples_split=5, n_estimators=10; total time=   0.6s\n",
            "[CV] END criterion=entropy, max_depth=None, min_samples_leaf=5, min_samples_split=5, n_estimators=10; total time=   0.6s\n",
            "[CV] END criterion=entropy, max_depth=None, min_samples_leaf=5, min_samples_split=5, n_estimators=20; total time=   1.3s\n",
            "[CV] END criterion=entropy, max_depth=None, min_samples_leaf=5, min_samples_split=5, n_estimators=20; total time=   1.3s\n",
            "[CV] END criterion=entropy, max_depth=None, min_samples_leaf=5, min_samples_split=7, n_estimators=100; total time=   3.6s\n",
            "[CV] END criterion=entropy, max_depth=None, min_samples_leaf=5, min_samples_split=7, n_estimators=100; total time=   3.7s\n",
            "[CV] END criterion=entropy, max_depth=None, min_samples_leaf=5, min_samples_split=7, n_estimators=50; total time=   2.0s\n",
            "[CV] END criterion=entropy, max_depth=None, min_samples_leaf=5, min_samples_split=7, n_estimators=50; total time=   2.6s\n",
            "[CV] END criterion=entropy, max_depth=None, min_samples_leaf=5, min_samples_split=7, n_estimators=10; total time=   0.8s\n",
            "[CV] END criterion=entropy, max_depth=None, min_samples_leaf=5, min_samples_split=7, n_estimators=10; total time=   0.6s\n",
            "[CV] END criterion=entropy, max_depth=None, min_samples_leaf=5, min_samples_split=7, n_estimators=20; total time=   0.9s\n",
            "[CV] END criterion=entropy, max_depth=None, min_samples_leaf=5, min_samples_split=7, n_estimators=20; total time=   1.0s\n"
          ]
        },
        {
          "output_type": "execute_result",
          "data": {
            "text/plain": [
              "GridSearchCV(cv=2, estimator=RandomForestClassifier(min_samples_split=5),\n",
              "             param_grid={'criterion': ['gini', 'entropy'],\n",
              "                         'max_depth': [8, 10, None],\n",
              "                         'min_samples_leaf': [1, 2, 5],\n",
              "                         'min_samples_split': [2, 5, 7],\n",
              "                         'n_estimators': [100, 50, 10, 20]},\n",
              "             verbose=2)"
            ],
            "text/html": [
              "<style>#sk-container-id-2 {\n",
              "  /* Definition of color scheme common for light and dark mode */\n",
              "  --sklearn-color-text: #000;\n",
              "  --sklearn-color-text-muted: #666;\n",
              "  --sklearn-color-line: gray;\n",
              "  /* Definition of color scheme for unfitted estimators */\n",
              "  --sklearn-color-unfitted-level-0: #fff5e6;\n",
              "  --sklearn-color-unfitted-level-1: #f6e4d2;\n",
              "  --sklearn-color-unfitted-level-2: #ffe0b3;\n",
              "  --sklearn-color-unfitted-level-3: chocolate;\n",
              "  /* Definition of color scheme for fitted estimators */\n",
              "  --sklearn-color-fitted-level-0: #f0f8ff;\n",
              "  --sklearn-color-fitted-level-1: #d4ebff;\n",
              "  --sklearn-color-fitted-level-2: #b3dbfd;\n",
              "  --sklearn-color-fitted-level-3: cornflowerblue;\n",
              "\n",
              "  /* Specific color for light theme */\n",
              "  --sklearn-color-text-on-default-background: var(--sg-text-color, var(--theme-code-foreground, var(--jp-content-font-color1, black)));\n",
              "  --sklearn-color-background: var(--sg-background-color, var(--theme-background, var(--jp-layout-color0, white)));\n",
              "  --sklearn-color-border-box: var(--sg-text-color, var(--theme-code-foreground, var(--jp-content-font-color1, black)));\n",
              "  --sklearn-color-icon: #696969;\n",
              "\n",
              "  @media (prefers-color-scheme: dark) {\n",
              "    /* Redefinition of color scheme for dark theme */\n",
              "    --sklearn-color-text-on-default-background: var(--sg-text-color, var(--theme-code-foreground, var(--jp-content-font-color1, white)));\n",
              "    --sklearn-color-background: var(--sg-background-color, var(--theme-background, var(--jp-layout-color0, #111)));\n",
              "    --sklearn-color-border-box: var(--sg-text-color, var(--theme-code-foreground, var(--jp-content-font-color1, white)));\n",
              "    --sklearn-color-icon: #878787;\n",
              "  }\n",
              "}\n",
              "\n",
              "#sk-container-id-2 {\n",
              "  color: var(--sklearn-color-text);\n",
              "}\n",
              "\n",
              "#sk-container-id-2 pre {\n",
              "  padding: 0;\n",
              "}\n",
              "\n",
              "#sk-container-id-2 input.sk-hidden--visually {\n",
              "  border: 0;\n",
              "  clip: rect(1px 1px 1px 1px);\n",
              "  clip: rect(1px, 1px, 1px, 1px);\n",
              "  height: 1px;\n",
              "  margin: -1px;\n",
              "  overflow: hidden;\n",
              "  padding: 0;\n",
              "  position: absolute;\n",
              "  width: 1px;\n",
              "}\n",
              "\n",
              "#sk-container-id-2 div.sk-dashed-wrapped {\n",
              "  border: 1px dashed var(--sklearn-color-line);\n",
              "  margin: 0 0.4em 0.5em 0.4em;\n",
              "  box-sizing: border-box;\n",
              "  padding-bottom: 0.4em;\n",
              "  background-color: var(--sklearn-color-background);\n",
              "}\n",
              "\n",
              "#sk-container-id-2 div.sk-container {\n",
              "  /* jupyter's `normalize.less` sets `[hidden] { display: none; }`\n",
              "     but bootstrap.min.css set `[hidden] { display: none !important; }`\n",
              "     so we also need the `!important` here to be able to override the\n",
              "     default hidden behavior on the sphinx rendered scikit-learn.org.\n",
              "     See: https://github.com/scikit-learn/scikit-learn/issues/21755 */\n",
              "  display: inline-block !important;\n",
              "  position: relative;\n",
              "}\n",
              "\n",
              "#sk-container-id-2 div.sk-text-repr-fallback {\n",
              "  display: none;\n",
              "}\n",
              "\n",
              "div.sk-parallel-item,\n",
              "div.sk-serial,\n",
              "div.sk-item {\n",
              "  /* draw centered vertical line to link estimators */\n",
              "  background-image: linear-gradient(var(--sklearn-color-text-on-default-background), var(--sklearn-color-text-on-default-background));\n",
              "  background-size: 2px 100%;\n",
              "  background-repeat: no-repeat;\n",
              "  background-position: center center;\n",
              "}\n",
              "\n",
              "/* Parallel-specific style estimator block */\n",
              "\n",
              "#sk-container-id-2 div.sk-parallel-item::after {\n",
              "  content: \"\";\n",
              "  width: 100%;\n",
              "  border-bottom: 2px solid var(--sklearn-color-text-on-default-background);\n",
              "  flex-grow: 1;\n",
              "}\n",
              "\n",
              "#sk-container-id-2 div.sk-parallel {\n",
              "  display: flex;\n",
              "  align-items: stretch;\n",
              "  justify-content: center;\n",
              "  background-color: var(--sklearn-color-background);\n",
              "  position: relative;\n",
              "}\n",
              "\n",
              "#sk-container-id-2 div.sk-parallel-item {\n",
              "  display: flex;\n",
              "  flex-direction: column;\n",
              "}\n",
              "\n",
              "#sk-container-id-2 div.sk-parallel-item:first-child::after {\n",
              "  align-self: flex-end;\n",
              "  width: 50%;\n",
              "}\n",
              "\n",
              "#sk-container-id-2 div.sk-parallel-item:last-child::after {\n",
              "  align-self: flex-start;\n",
              "  width: 50%;\n",
              "}\n",
              "\n",
              "#sk-container-id-2 div.sk-parallel-item:only-child::after {\n",
              "  width: 0;\n",
              "}\n",
              "\n",
              "/* Serial-specific style estimator block */\n",
              "\n",
              "#sk-container-id-2 div.sk-serial {\n",
              "  display: flex;\n",
              "  flex-direction: column;\n",
              "  align-items: center;\n",
              "  background-color: var(--sklearn-color-background);\n",
              "  padding-right: 1em;\n",
              "  padding-left: 1em;\n",
              "}\n",
              "\n",
              "\n",
              "/* Toggleable style: style used for estimator/Pipeline/ColumnTransformer box that is\n",
              "clickable and can be expanded/collapsed.\n",
              "- Pipeline and ColumnTransformer use this feature and define the default style\n",
              "- Estimators will overwrite some part of the style using the `sk-estimator` class\n",
              "*/\n",
              "\n",
              "/* Pipeline and ColumnTransformer style (default) */\n",
              "\n",
              "#sk-container-id-2 div.sk-toggleable {\n",
              "  /* Default theme specific background. It is overwritten whether we have a\n",
              "  specific estimator or a Pipeline/ColumnTransformer */\n",
              "  background-color: var(--sklearn-color-background);\n",
              "}\n",
              "\n",
              "/* Toggleable label */\n",
              "#sk-container-id-2 label.sk-toggleable__label {\n",
              "  cursor: pointer;\n",
              "  display: flex;\n",
              "  width: 100%;\n",
              "  margin-bottom: 0;\n",
              "  padding: 0.5em;\n",
              "  box-sizing: border-box;\n",
              "  text-align: center;\n",
              "  align-items: start;\n",
              "  justify-content: space-between;\n",
              "  gap: 0.5em;\n",
              "}\n",
              "\n",
              "#sk-container-id-2 label.sk-toggleable__label .caption {\n",
              "  font-size: 0.6rem;\n",
              "  font-weight: lighter;\n",
              "  color: var(--sklearn-color-text-muted);\n",
              "}\n",
              "\n",
              "#sk-container-id-2 label.sk-toggleable__label-arrow:before {\n",
              "  /* Arrow on the left of the label */\n",
              "  content: \"▸\";\n",
              "  float: left;\n",
              "  margin-right: 0.25em;\n",
              "  color: var(--sklearn-color-icon);\n",
              "}\n",
              "\n",
              "#sk-container-id-2 label.sk-toggleable__label-arrow:hover:before {\n",
              "  color: var(--sklearn-color-text);\n",
              "}\n",
              "\n",
              "/* Toggleable content - dropdown */\n",
              "\n",
              "#sk-container-id-2 div.sk-toggleable__content {\n",
              "  max-height: 0;\n",
              "  max-width: 0;\n",
              "  overflow: hidden;\n",
              "  text-align: left;\n",
              "  /* unfitted */\n",
              "  background-color: var(--sklearn-color-unfitted-level-0);\n",
              "}\n",
              "\n",
              "#sk-container-id-2 div.sk-toggleable__content.fitted {\n",
              "  /* fitted */\n",
              "  background-color: var(--sklearn-color-fitted-level-0);\n",
              "}\n",
              "\n",
              "#sk-container-id-2 div.sk-toggleable__content pre {\n",
              "  margin: 0.2em;\n",
              "  border-radius: 0.25em;\n",
              "  color: var(--sklearn-color-text);\n",
              "  /* unfitted */\n",
              "  background-color: var(--sklearn-color-unfitted-level-0);\n",
              "}\n",
              "\n",
              "#sk-container-id-2 div.sk-toggleable__content.fitted pre {\n",
              "  /* unfitted */\n",
              "  background-color: var(--sklearn-color-fitted-level-0);\n",
              "}\n",
              "\n",
              "#sk-container-id-2 input.sk-toggleable__control:checked~div.sk-toggleable__content {\n",
              "  /* Expand drop-down */\n",
              "  max-height: 200px;\n",
              "  max-width: 100%;\n",
              "  overflow: auto;\n",
              "}\n",
              "\n",
              "#sk-container-id-2 input.sk-toggleable__control:checked~label.sk-toggleable__label-arrow:before {\n",
              "  content: \"▾\";\n",
              "}\n",
              "\n",
              "/* Pipeline/ColumnTransformer-specific style */\n",
              "\n",
              "#sk-container-id-2 div.sk-label input.sk-toggleable__control:checked~label.sk-toggleable__label {\n",
              "  color: var(--sklearn-color-text);\n",
              "  background-color: var(--sklearn-color-unfitted-level-2);\n",
              "}\n",
              "\n",
              "#sk-container-id-2 div.sk-label.fitted input.sk-toggleable__control:checked~label.sk-toggleable__label {\n",
              "  background-color: var(--sklearn-color-fitted-level-2);\n",
              "}\n",
              "\n",
              "/* Estimator-specific style */\n",
              "\n",
              "/* Colorize estimator box */\n",
              "#sk-container-id-2 div.sk-estimator input.sk-toggleable__control:checked~label.sk-toggleable__label {\n",
              "  /* unfitted */\n",
              "  background-color: var(--sklearn-color-unfitted-level-2);\n",
              "}\n",
              "\n",
              "#sk-container-id-2 div.sk-estimator.fitted input.sk-toggleable__control:checked~label.sk-toggleable__label {\n",
              "  /* fitted */\n",
              "  background-color: var(--sklearn-color-fitted-level-2);\n",
              "}\n",
              "\n",
              "#sk-container-id-2 div.sk-label label.sk-toggleable__label,\n",
              "#sk-container-id-2 div.sk-label label {\n",
              "  /* The background is the default theme color */\n",
              "  color: var(--sklearn-color-text-on-default-background);\n",
              "}\n",
              "\n",
              "/* On hover, darken the color of the background */\n",
              "#sk-container-id-2 div.sk-label:hover label.sk-toggleable__label {\n",
              "  color: var(--sklearn-color-text);\n",
              "  background-color: var(--sklearn-color-unfitted-level-2);\n",
              "}\n",
              "\n",
              "/* Label box, darken color on hover, fitted */\n",
              "#sk-container-id-2 div.sk-label.fitted:hover label.sk-toggleable__label.fitted {\n",
              "  color: var(--sklearn-color-text);\n",
              "  background-color: var(--sklearn-color-fitted-level-2);\n",
              "}\n",
              "\n",
              "/* Estimator label */\n",
              "\n",
              "#sk-container-id-2 div.sk-label label {\n",
              "  font-family: monospace;\n",
              "  font-weight: bold;\n",
              "  display: inline-block;\n",
              "  line-height: 1.2em;\n",
              "}\n",
              "\n",
              "#sk-container-id-2 div.sk-label-container {\n",
              "  text-align: center;\n",
              "}\n",
              "\n",
              "/* Estimator-specific */\n",
              "#sk-container-id-2 div.sk-estimator {\n",
              "  font-family: monospace;\n",
              "  border: 1px dotted var(--sklearn-color-border-box);\n",
              "  border-radius: 0.25em;\n",
              "  box-sizing: border-box;\n",
              "  margin-bottom: 0.5em;\n",
              "  /* unfitted */\n",
              "  background-color: var(--sklearn-color-unfitted-level-0);\n",
              "}\n",
              "\n",
              "#sk-container-id-2 div.sk-estimator.fitted {\n",
              "  /* fitted */\n",
              "  background-color: var(--sklearn-color-fitted-level-0);\n",
              "}\n",
              "\n",
              "/* on hover */\n",
              "#sk-container-id-2 div.sk-estimator:hover {\n",
              "  /* unfitted */\n",
              "  background-color: var(--sklearn-color-unfitted-level-2);\n",
              "}\n",
              "\n",
              "#sk-container-id-2 div.sk-estimator.fitted:hover {\n",
              "  /* fitted */\n",
              "  background-color: var(--sklearn-color-fitted-level-2);\n",
              "}\n",
              "\n",
              "/* Specification for estimator info (e.g. \"i\" and \"?\") */\n",
              "\n",
              "/* Common style for \"i\" and \"?\" */\n",
              "\n",
              ".sk-estimator-doc-link,\n",
              "a:link.sk-estimator-doc-link,\n",
              "a:visited.sk-estimator-doc-link {\n",
              "  float: right;\n",
              "  font-size: smaller;\n",
              "  line-height: 1em;\n",
              "  font-family: monospace;\n",
              "  background-color: var(--sklearn-color-background);\n",
              "  border-radius: 1em;\n",
              "  height: 1em;\n",
              "  width: 1em;\n",
              "  text-decoration: none !important;\n",
              "  margin-left: 0.5em;\n",
              "  text-align: center;\n",
              "  /* unfitted */\n",
              "  border: var(--sklearn-color-unfitted-level-1) 1pt solid;\n",
              "  color: var(--sklearn-color-unfitted-level-1);\n",
              "}\n",
              "\n",
              ".sk-estimator-doc-link.fitted,\n",
              "a:link.sk-estimator-doc-link.fitted,\n",
              "a:visited.sk-estimator-doc-link.fitted {\n",
              "  /* fitted */\n",
              "  border: var(--sklearn-color-fitted-level-1) 1pt solid;\n",
              "  color: var(--sklearn-color-fitted-level-1);\n",
              "}\n",
              "\n",
              "/* On hover */\n",
              "div.sk-estimator:hover .sk-estimator-doc-link:hover,\n",
              ".sk-estimator-doc-link:hover,\n",
              "div.sk-label-container:hover .sk-estimator-doc-link:hover,\n",
              ".sk-estimator-doc-link:hover {\n",
              "  /* unfitted */\n",
              "  background-color: var(--sklearn-color-unfitted-level-3);\n",
              "  color: var(--sklearn-color-background);\n",
              "  text-decoration: none;\n",
              "}\n",
              "\n",
              "div.sk-estimator.fitted:hover .sk-estimator-doc-link.fitted:hover,\n",
              ".sk-estimator-doc-link.fitted:hover,\n",
              "div.sk-label-container:hover .sk-estimator-doc-link.fitted:hover,\n",
              ".sk-estimator-doc-link.fitted:hover {\n",
              "  /* fitted */\n",
              "  background-color: var(--sklearn-color-fitted-level-3);\n",
              "  color: var(--sklearn-color-background);\n",
              "  text-decoration: none;\n",
              "}\n",
              "\n",
              "/* Span, style for the box shown on hovering the info icon */\n",
              ".sk-estimator-doc-link span {\n",
              "  display: none;\n",
              "  z-index: 9999;\n",
              "  position: relative;\n",
              "  font-weight: normal;\n",
              "  right: .2ex;\n",
              "  padding: .5ex;\n",
              "  margin: .5ex;\n",
              "  width: min-content;\n",
              "  min-width: 20ex;\n",
              "  max-width: 50ex;\n",
              "  color: var(--sklearn-color-text);\n",
              "  box-shadow: 2pt 2pt 4pt #999;\n",
              "  /* unfitted */\n",
              "  background: var(--sklearn-color-unfitted-level-0);\n",
              "  border: .5pt solid var(--sklearn-color-unfitted-level-3);\n",
              "}\n",
              "\n",
              ".sk-estimator-doc-link.fitted span {\n",
              "  /* fitted */\n",
              "  background: var(--sklearn-color-fitted-level-0);\n",
              "  border: var(--sklearn-color-fitted-level-3);\n",
              "}\n",
              "\n",
              ".sk-estimator-doc-link:hover span {\n",
              "  display: block;\n",
              "}\n",
              "\n",
              "/* \"?\"-specific style due to the `<a>` HTML tag */\n",
              "\n",
              "#sk-container-id-2 a.estimator_doc_link {\n",
              "  float: right;\n",
              "  font-size: 1rem;\n",
              "  line-height: 1em;\n",
              "  font-family: monospace;\n",
              "  background-color: var(--sklearn-color-background);\n",
              "  border-radius: 1rem;\n",
              "  height: 1rem;\n",
              "  width: 1rem;\n",
              "  text-decoration: none;\n",
              "  /* unfitted */\n",
              "  color: var(--sklearn-color-unfitted-level-1);\n",
              "  border: var(--sklearn-color-unfitted-level-1) 1pt solid;\n",
              "}\n",
              "\n",
              "#sk-container-id-2 a.estimator_doc_link.fitted {\n",
              "  /* fitted */\n",
              "  border: var(--sklearn-color-fitted-level-1) 1pt solid;\n",
              "  color: var(--sklearn-color-fitted-level-1);\n",
              "}\n",
              "\n",
              "/* On hover */\n",
              "#sk-container-id-2 a.estimator_doc_link:hover {\n",
              "  /* unfitted */\n",
              "  background-color: var(--sklearn-color-unfitted-level-3);\n",
              "  color: var(--sklearn-color-background);\n",
              "  text-decoration: none;\n",
              "}\n",
              "\n",
              "#sk-container-id-2 a.estimator_doc_link.fitted:hover {\n",
              "  /* fitted */\n",
              "  background-color: var(--sklearn-color-fitted-level-3);\n",
              "}\n",
              "</style><div id=\"sk-container-id-2\" class=\"sk-top-container\"><div class=\"sk-text-repr-fallback\"><pre>GridSearchCV(cv=2, estimator=RandomForestClassifier(min_samples_split=5),\n",
              "             param_grid={&#x27;criterion&#x27;: [&#x27;gini&#x27;, &#x27;entropy&#x27;],\n",
              "                         &#x27;max_depth&#x27;: [8, 10, None],\n",
              "                         &#x27;min_samples_leaf&#x27;: [1, 2, 5],\n",
              "                         &#x27;min_samples_split&#x27;: [2, 5, 7],\n",
              "                         &#x27;n_estimators&#x27;: [100, 50, 10, 20]},\n",
              "             verbose=2)</pre><b>In a Jupyter environment, please rerun this cell to show the HTML representation or trust the notebook. <br />On GitHub, the HTML representation is unable to render, please try loading this page with nbviewer.org.</b></div><div class=\"sk-container\" hidden><div class=\"sk-item sk-dashed-wrapped\"><div class=\"sk-label-container\"><div class=\"sk-label fitted sk-toggleable\"><input class=\"sk-toggleable__control sk-hidden--visually\" id=\"sk-estimator-id-2\" type=\"checkbox\" ><label for=\"sk-estimator-id-2\" class=\"sk-toggleable__label fitted sk-toggleable__label-arrow\"><div><div>GridSearchCV</div></div><div><a class=\"sk-estimator-doc-link fitted\" rel=\"noreferrer\" target=\"_blank\" href=\"https://scikit-learn.org/1.6/modules/generated/sklearn.model_selection.GridSearchCV.html\">?<span>Documentation for GridSearchCV</span></a><span class=\"sk-estimator-doc-link fitted\">i<span>Fitted</span></span></div></label><div class=\"sk-toggleable__content fitted\"><pre>GridSearchCV(cv=2, estimator=RandomForestClassifier(min_samples_split=5),\n",
              "             param_grid={&#x27;criterion&#x27;: [&#x27;gini&#x27;, &#x27;entropy&#x27;],\n",
              "                         &#x27;max_depth&#x27;: [8, 10, None],\n",
              "                         &#x27;min_samples_leaf&#x27;: [1, 2, 5],\n",
              "                         &#x27;min_samples_split&#x27;: [2, 5, 7],\n",
              "                         &#x27;n_estimators&#x27;: [100, 50, 10, 20]},\n",
              "             verbose=2)</pre></div> </div></div><div class=\"sk-parallel\"><div class=\"sk-parallel-item\"><div class=\"sk-item\"><div class=\"sk-label-container\"><div class=\"sk-label fitted sk-toggleable\"><input class=\"sk-toggleable__control sk-hidden--visually\" id=\"sk-estimator-id-3\" type=\"checkbox\" ><label for=\"sk-estimator-id-3\" class=\"sk-toggleable__label fitted sk-toggleable__label-arrow\"><div><div>best_estimator_: RandomForestClassifier</div></div></label><div class=\"sk-toggleable__content fitted\"><pre>RandomForestClassifier(criterion=&#x27;entropy&#x27;, min_samples_split=7,\n",
              "                       n_estimators=50)</pre></div> </div></div><div class=\"sk-serial\"><div class=\"sk-item\"><div class=\"sk-estimator fitted sk-toggleable\"><input class=\"sk-toggleable__control sk-hidden--visually\" id=\"sk-estimator-id-4\" type=\"checkbox\" ><label for=\"sk-estimator-id-4\" class=\"sk-toggleable__label fitted sk-toggleable__label-arrow\"><div><div>RandomForestClassifier</div></div><div><a class=\"sk-estimator-doc-link fitted\" rel=\"noreferrer\" target=\"_blank\" href=\"https://scikit-learn.org/1.6/modules/generated/sklearn.ensemble.RandomForestClassifier.html\">?<span>Documentation for RandomForestClassifier</span></a></div></label><div class=\"sk-toggleable__content fitted\"><pre>RandomForestClassifier(criterion=&#x27;entropy&#x27;, min_samples_split=7,\n",
              "                       n_estimators=50)</pre></div> </div></div></div></div></div></div></div></div></div>"
            ]
          },
          "metadata": {},
          "execution_count": 547
        }
      ]
    },
    {
      "cell_type": "code",
      "source": [
        "grid.best_params_"
      ],
      "metadata": {
        "colab": {
          "base_uri": "https://localhost:8080/"
        },
        "id": "i8CvdxX3KADG",
        "outputId": "ece0595b-cf10-4e0a-e2cb-5f47d73be545"
      },
      "execution_count": 548,
      "outputs": [
        {
          "output_type": "execute_result",
          "data": {
            "text/plain": [
              "{'criterion': 'entropy',\n",
              " 'max_depth': None,\n",
              " 'min_samples_leaf': 1,\n",
              " 'min_samples_split': 7,\n",
              " 'n_estimators': 50}"
            ]
          },
          "metadata": {},
          "execution_count": 548
        }
      ]
    }
  ]
}